{
 "cells": [
  {
   "cell_type": "markdown",
   "id": "cb2d7aae",
   "metadata": {
    "papermill": {
     "duration": 0.005638,
     "end_time": "2023-06-27T03:01:07.069597",
     "exception": false,
     "start_time": "2023-06-27T03:01:07.063959",
     "status": "completed"
    },
    "tags": []
   },
   "source": [
    "# introduce\n",
    "[I made adjustments based on this](https://www.kaggle.com/code/koushikcon/dummy-submission)\n",
    "\n",
    "**I design to use a mask image to record the mask data of each segmentation block and integrate the results of segmentation under different weights.\n",
    "Although the final score is higher than both alone, its inference time changed from *a few minutes* to about *2 hours***\n",
    "\n",
    "\n",
    "**Is there a better way to deduplicate when there are multiple models？**"
   ]
  },
  {
   "cell_type": "markdown",
   "id": "34263c0d",
   "metadata": {
    "papermill": {
     "duration": 0.004492,
     "end_time": "2023-06-27T03:01:07.079120",
     "exception": false,
     "start_time": "2023-06-27T03:01:07.074628",
     "status": "completed"
    },
    "tags": []
   },
   "source": [
    "<b><font size=5>I modified the previous idea to get the results of all the models before processing. The processing method is modified from overlapping direct discarding to deintersection, that is, accepting all results.With this method, I got a better score and the time changed from about<font color=red> 2 hours to 10 minutes</font><b>\n",
    "\n",
    "<font color=red size=4>score: 0.264->0.285</font>"
   ]
  },
  {
   "cell_type": "code",
   "execution_count": 1,
   "id": "b4752eac",
   "metadata": {
    "execution": {
     "iopub.execute_input": "2023-06-27T03:01:07.090503Z",
     "iopub.status.busy": "2023-06-27T03:01:07.090133Z",
     "iopub.status.idle": "2023-06-27T03:01:07.099368Z",
     "shell.execute_reply": "2023-06-27T03:01:07.098481Z"
    },
    "papermill": {
     "duration": 0.017256,
     "end_time": "2023-06-27T03:01:07.101427",
     "exception": false,
     "start_time": "2023-06-27T03:01:07.084171",
     "status": "completed"
    },
    "tags": []
   },
   "outputs": [],
   "source": [
    "import sys\n",
    "sys.path.append(\"/kaggle/input/yolov8/ultralytics-main\")"
   ]
  },
  {
   "cell_type": "code",
   "execution_count": 2,
   "id": "d92ebe87",
   "metadata": {
    "execution": {
     "iopub.execute_input": "2023-06-27T03:01:07.112600Z",
     "iopub.status.busy": "2023-06-27T03:01:07.112252Z",
     "iopub.status.idle": "2023-06-27T03:01:24.351710Z",
     "shell.execute_reply": "2023-06-27T03:01:24.350495Z"
    },
    "papermill": {
     "duration": 17.248539,
     "end_time": "2023-06-27T03:01:24.354803",
     "exception": false,
     "start_time": "2023-06-27T03:01:07.106264",
     "status": "completed"
    },
    "tags": []
   },
   "outputs": [
    {
     "name": "stderr",
     "output_type": "stream",
     "text": [
      "Ultralytics YOLOv8.0.120 🚀 Python-3.10.10 torch-2.0.0+cpu CPU\n",
      "Setup complete ✅ (4 CPUs, 31.4 GB RAM, 4813.6/8062.4 GB disk)\n"
     ]
    }
   ],
   "source": [
    "import shutil\n",
    "import os\n",
    "import pandas as pd\n",
    "import numpy as np\n",
    "import tifffile as tiff\n",
    "import matplotlib.pyplot as plt\n",
    "\n",
    "from pathlib import Path\n",
    "from glob import glob\n",
    "from collections import defaultdict\n",
    "from sklearn.model_selection import train_test_split\n",
    "from tqdm import tqdm\n",
    "from IPython.display import Image as show_image\n",
    "\n",
    "import ultralytics\n",
    "from ultralytics import YOLO\n",
    "\n",
    "import torch\n",
    "\n",
    "ultralytics.checks()"
   ]
  },
  {
   "cell_type": "code",
   "execution_count": 3,
   "id": "4497004f",
   "metadata": {
    "execution": {
     "iopub.execute_input": "2023-06-27T03:01:24.366718Z",
     "iopub.status.busy": "2023-06-27T03:01:24.366104Z",
     "iopub.status.idle": "2023-06-27T03:01:24.371978Z",
     "shell.execute_reply": "2023-06-27T03:01:24.370936Z"
    },
    "papermill": {
     "duration": 0.014264,
     "end_time": "2023-06-27T03:01:24.374112",
     "exception": false,
     "start_time": "2023-06-27T03:01:24.359848",
     "status": "completed"
    },
    "tags": []
   },
   "outputs": [
    {
     "name": "stdout",
     "output_type": "stream",
     "text": [
      "cpu\n"
     ]
    }
   ],
   "source": [
    "device = 'cuda' if torch.cuda.is_available() else 'cpu'\n",
    "\n",
    "IMAGE_SIZE = 512\n",
    "BATCH_SIZE = 16\n",
    "EPOCHS = 10\n",
    "\n",
    "print(device)"
   ]
  },
  {
   "cell_type": "code",
   "execution_count": 4,
   "id": "072896da",
   "metadata": {
    "execution": {
     "iopub.execute_input": "2023-06-27T03:01:24.387558Z",
     "iopub.status.busy": "2023-06-27T03:01:24.387203Z",
     "iopub.status.idle": "2023-06-27T03:02:16.727266Z",
     "shell.execute_reply": "2023-06-27T03:02:16.726166Z"
    },
    "papermill": {
     "duration": 52.349171,
     "end_time": "2023-06-27T03:02:16.729957",
     "exception": false,
     "start_time": "2023-06-27T03:01:24.380786",
     "status": "completed"
    },
    "tags": []
   },
   "outputs": [
    {
     "name": "stdout",
     "output_type": "stream",
     "text": [
      "running install\r\n",
      "/opt/conda/lib/python3.10/site-packages/setuptools/command/install.py:34: SetuptoolsDeprecationWarning: setup.py install is deprecated. Use build and pip and other standards-based tools.\r\n",
      "  warnings.warn(\r\n",
      "/opt/conda/lib/python3.10/site-packages/setuptools/command/easy_install.py:156: EasyInstallDeprecationWarning: easy_install command is deprecated. Use build and pip and other standards-based tools.\r\n",
      "  warnings.warn(\r\n",
      "running bdist_egg\r\n",
      "running egg_info\r\n",
      "writing pycocotools.egg-info/PKG-INFO\r\n",
      "writing dependency_links to pycocotools.egg-info/dependency_links.txt\r\n",
      "writing requirements to pycocotools.egg-info/requires.txt\r\n",
      "writing top-level names to pycocotools.egg-info/top_level.txt\r\n",
      "reading manifest file 'pycocotools.egg-info/SOURCES.txt'\r\n",
      "reading manifest template 'MANIFEST.in'\r\n",
      "writing manifest file 'pycocotools.egg-info/SOURCES.txt'\r\n",
      "installing library code to build/bdist.linux-x86_64/egg\r\n",
      "running install_lib\r\n",
      "running build_py\r\n",
      "creating build\r\n",
      "creating build/lib.linux-x86_64-3.10\r\n",
      "creating build/lib.linux-x86_64-3.10/pycocotools\r\n",
      "copying pycocotools/mask.py -> build/lib.linux-x86_64-3.10/pycocotools\r\n",
      "copying pycocotools/coco.py -> build/lib.linux-x86_64-3.10/pycocotools\r\n",
      "copying pycocotools/__init__.py -> build/lib.linux-x86_64-3.10/pycocotools\r\n",
      "copying pycocotools/cocoeval.py -> build/lib.linux-x86_64-3.10/pycocotools\r\n",
      "running build_ext\r\n",
      "cythoning pycocotools/_mask.pyx to pycocotools/_mask.c\r\n",
      "/opt/conda/lib/python3.10/site-packages/Cython/Compiler/Main.py:369: FutureWarning: Cython directive 'language_level' not set, using 2 for now (Py2). This will change in a later release! File: /kaggle/working/packages/pycocotools-2.0.6/pycocotools/_mask.pyx\r\n",
      "  tree = Parsing.p_module(s, pxd, full_module_name)\r\n",
      "building 'pycocotools._mask' extension\r\n",
      "creating build/temp.linux-x86_64-3.10\r\n",
      "creating build/temp.linux-x86_64-3.10/common\r\n",
      "creating build/temp.linux-x86_64-3.10/pycocotools\r\n",
      "gcc -pthread -B /opt/conda/compiler_compat -Wno-unused-result -Wsign-compare -DNDEBUG -fwrapv -O2 -Wall -fPIC -O2 -isystem /opt/conda/include -fPIC -O2 -isystem /opt/conda/include -fPIC -I/opt/conda/lib/python3.10/site-packages/numpy/core/include -I./common -I/opt/conda/include/python3.10 -c ./common/maskApi.c -o build/temp.linux-x86_64-3.10/./common/maskApi.o -Wno-cpp -Wno-unused-function -std=c99\r\n",
      "\u001b[01m\u001b[K./common/maskApi.c:\u001b[m\u001b[K In function ‘\u001b[01m\u001b[KrleToBbox\u001b[m\u001b[K’:\r\n",
      "\u001b[01m\u001b[K./common/maskApi.c:151:32:\u001b[m\u001b[K \u001b[01;35m\u001b[Kwarning: \u001b[m\u001b[Kunused variable ‘\u001b[01m\u001b[Kxp\u001b[m\u001b[K’ [\u001b[01;35m\u001b[K-Wunused-variable\u001b[m\u001b[K]\r\n",
      "  151 |     uint h, w, xs, ys, xe, ye, \u001b[01;35m\u001b[Kxp\u001b[m\u001b[K, cc; siz j, m;\r\n",
      "      |                                \u001b[01;35m\u001b[K^~\u001b[m\u001b[K\r\n",
      "\u001b[01m\u001b[K./common/maskApi.c:\u001b[m\u001b[K In function ‘\u001b[01m\u001b[KrleFrPoly\u001b[m\u001b[K’:\r\n",
      "\u001b[01m\u001b[K./common/maskApi.c:197:3:\u001b[m\u001b[K \u001b[01;35m\u001b[Kwarning: \u001b[m\u001b[Kthis ‘\u001b[01m\u001b[Kfor\u001b[m\u001b[K’ clause does not guard... [\u001b[01;35m\u001b[K-Wmisleading-indentation\u001b[m\u001b[K]\r\n",
      "  197 |   \u001b[01;35m\u001b[Kfor\u001b[m\u001b[K(j=0; j<k; j++) x[j]=(int)(scale*xy[j*2+0]+.5); x[k]=x[0];\r\n",
      "      |   \u001b[01;35m\u001b[K^~~\u001b[m\u001b[K\r\n",
      "\u001b[01m\u001b[K./common/maskApi.c:197:54:\u001b[m\u001b[K \u001b[01;36m\u001b[Knote: \u001b[m\u001b[K...this statement, but the latter is misleadingly indented as if it were guarded by the ‘\u001b[01m\u001b[Kfor\u001b[m\u001b[K’\r\n",
      "  197 |   for(j=0; j<k; j++) x[j]=(int)(scale*xy[j*2+0]+.5); \u001b[01;36m\u001b[Kx\u001b[m\u001b[K[k]=x[0];\r\n",
      "      |                                                      \u001b[01;36m\u001b[K^\u001b[m\u001b[K\r\n",
      "\u001b[01m\u001b[K./common/maskApi.c:198:3:\u001b[m\u001b[K \u001b[01;35m\u001b[Kwarning: \u001b[m\u001b[Kthis ‘\u001b[01m\u001b[Kfor\u001b[m\u001b[K’ clause does not guard... [\u001b[01;35m\u001b[K-Wmisleading-indentation\u001b[m\u001b[K]\r\n",
      "  198 |   \u001b[01;35m\u001b[Kfor\u001b[m\u001b[K(j=0; j<k; j++) y[j]=(int)(scale*xy[j*2+1]+.5); y[k]=y[0];\r\n",
      "      |   \u001b[01;35m\u001b[K^~~\u001b[m\u001b[K\r\n",
      "\u001b[01m\u001b[K./common/maskApi.c:198:54:\u001b[m\u001b[K \u001b[01;36m\u001b[Knote: \u001b[m\u001b[K...this statement, but the latter is misleadingly indented as if it were guarded by the ‘\u001b[01m\u001b[Kfor\u001b[m\u001b[K’\r\n",
      "  198 |   for(j=0; j<k; j++) y[j]=(int)(scale*xy[j*2+1]+.5); \u001b[01;36m\u001b[Ky\u001b[m\u001b[K[k]=y[0];\r\n",
      "      |                                                      \u001b[01;36m\u001b[K^\u001b[m\u001b[K\r\n",
      "\u001b[01m\u001b[K./common/maskApi.c:\u001b[m\u001b[K In function ‘\u001b[01m\u001b[KrleToString\u001b[m\u001b[K’:\r\n",
      "\u001b[01m\u001b[K./common/maskApi.c:243:7:\u001b[m\u001b[K \u001b[01;35m\u001b[Kwarning: \u001b[m\u001b[Kthis ‘\u001b[01m\u001b[Kif\u001b[m\u001b[K’ clause does not guard... [\u001b[01;35m\u001b[K-Wmisleading-indentation\u001b[m\u001b[K]\r\n",
      "  243 |       \u001b[01;35m\u001b[Kif\u001b[m\u001b[K(more) c |= 0x20; c+=48; s[p++]=c;\r\n",
      "      |       \u001b[01;35m\u001b[K^~\u001b[m\u001b[K\r\n",
      "\u001b[01m\u001b[K./common/maskApi.c:243:27:\u001b[m\u001b[K \u001b[01;36m\u001b[Knote: \u001b[m\u001b[K...this statement, but the latter is misleadingly indented as if it were guarded by the ‘\u001b[01m\u001b[Kif\u001b[m\u001b[K’\r\n",
      "  243 |       if(more) c |= 0x20; \u001b[01;36m\u001b[Kc\u001b[m\u001b[K+=48; s[p++]=c;\r\n",
      "      |                           \u001b[01;36m\u001b[K^\u001b[m\u001b[K\r\n",
      "\u001b[01m\u001b[K./common/maskApi.c:\u001b[m\u001b[K In function ‘\u001b[01m\u001b[KrleFrString\u001b[m\u001b[K’:\r\n",
      "\u001b[01m\u001b[K./common/maskApi.c:251:3:\u001b[m\u001b[K \u001b[01;35m\u001b[Kwarning: \u001b[m\u001b[Kthis ‘\u001b[01m\u001b[Kwhile\u001b[m\u001b[K’ clause does not guard... [\u001b[01;35m\u001b[K-Wmisleading-indentation\u001b[m\u001b[K]\r\n",
      "  251 |   \u001b[01;35m\u001b[Kwhile\u001b[m\u001b[K( s[m] ) m++; cnts=malloc(sizeof(uint)*m); m=0;\r\n",
      "      |   \u001b[01;35m\u001b[K^~~~~\u001b[m\u001b[K\r\n",
      "\u001b[01m\u001b[K./common/maskApi.c:251:22:\u001b[m\u001b[K \u001b[01;36m\u001b[Knote: \u001b[m\u001b[K...this statement, but the latter is misleadingly indented as if it were guarded by the ‘\u001b[01m\u001b[Kwhile\u001b[m\u001b[K’\r\n",
      "  251 |   while( s[m] ) m++; \u001b[01;36m\u001b[Kcnts\u001b[m\u001b[K=malloc(sizeof(uint)*m); m=0;\r\n",
      "      |                      \u001b[01;36m\u001b[K^~~~\u001b[m\u001b[K\r\n",
      "\u001b[01m\u001b[K./common/maskApi.c:259:5:\u001b[m\u001b[K \u001b[01;35m\u001b[Kwarning: \u001b[m\u001b[Kthis ‘\u001b[01m\u001b[Kif\u001b[m\u001b[K’ clause does not guard... [\u001b[01;35m\u001b[K-Wmisleading-indentation\u001b[m\u001b[K]\r\n",
      "  259 |     \u001b[01;35m\u001b[Kif\u001b[m\u001b[K(m>2) x+=(long) cnts[m-2]; cnts[m++]=(uint) x;\r\n",
      "      |     \u001b[01;35m\u001b[K^~\u001b[m\u001b[K\r\n",
      "\u001b[01m\u001b[K./common/maskApi.c:259:34:\u001b[m\u001b[K \u001b[01;36m\u001b[Knote: \u001b[m\u001b[K...this statement, but the latter is misleadingly indented as if it were guarded by the ‘\u001b[01m\u001b[Kif\u001b[m\u001b[K’\r\n",
      "  259 |     if(m>2) x+=(long) cnts[m-2]; \u001b[01;36m\u001b[Kcnts\u001b[m\u001b[K[m++]=(uint) x;\r\n",
      "      |                                  \u001b[01;36m\u001b[K^~~~\u001b[m\u001b[K\r\n",
      "gcc -pthread -B /opt/conda/compiler_compat -Wno-unused-result -Wsign-compare -DNDEBUG -fwrapv -O2 -Wall -fPIC -O2 -isystem /opt/conda/include -fPIC -O2 -isystem /opt/conda/include -fPIC -I/opt/conda/lib/python3.10/site-packages/numpy/core/include -I./common -I/opt/conda/include/python3.10 -c pycocotools/_mask.c -o build/temp.linux-x86_64-3.10/pycocotools/_mask.o -Wno-cpp -Wno-unused-function -std=c99\r\n",
      "\u001b[01m\u001b[Kpycocotools/_mask.c:\u001b[m\u001b[K In function ‘\u001b[01m\u001b[K__pyx_pf_11pycocotools_5_mask_12iou\u001b[m\u001b[K’:\r\n",
      "\u001b[01m\u001b[Kpycocotools/_mask.c:6140:31:\u001b[m\u001b[K \u001b[01;35m\u001b[Kwarning: \u001b[m\u001b[Kcomparison of integer expressions of different signedness: ‘\u001b[01m\u001b[KPy_ssize_t\u001b[m\u001b[K’ {aka ‘\u001b[01m\u001b[Klong int\u001b[m\u001b[K’} and ‘\u001b[01m\u001b[Ksiz\u001b[m\u001b[K’ {aka ‘\u001b[01m\u001b[Klong unsigned int\u001b[m\u001b[K’} [\u001b[01;35m\u001b[K-Wsign-compare\u001b[m\u001b[K]\r\n",
      " 6140 |     if (unlikely(!((__pyx_t_8 \u001b[01;35m\u001b[K==\u001b[m\u001b[K __pyx_v_n) != 0))) {\r\n",
      "      |                               \u001b[01;35m\u001b[K^~\u001b[m\u001b[K\r\n",
      "\u001b[01m\u001b[Kpycocotools/_mask.c:944:43:\u001b[m\u001b[K \u001b[01;36m\u001b[Knote: \u001b[m\u001b[Kin definition of macro ‘\u001b[01m\u001b[Kunlikely\u001b[m\u001b[K’\r\n",
      "  944 |   #define unlikely(x) __builtin_expect(!!(\u001b[01;36m\u001b[Kx\u001b[m\u001b[K), 0)\r\n",
      "      |                                           \u001b[01;36m\u001b[K^\u001b[m\u001b[K\r\n",
      "gcc -pthread -B /opt/conda/compiler_compat -shared -Wl,--allow-shlib-undefined -Wl,-rpath,/opt/conda/lib -Wl,-rpath-link,/opt/conda/lib -L/opt/conda/lib -Wl,--allow-shlib-undefined -Wl,-rpath,/opt/conda/lib -Wl,-rpath-link,/opt/conda/lib -L/opt/conda/lib build/temp.linux-x86_64-3.10/./common/maskApi.o build/temp.linux-x86_64-3.10/pycocotools/_mask.o -o build/lib.linux-x86_64-3.10/pycocotools/_mask.cpython-310-x86_64-linux-gnu.so\r\n",
      "creating build/bdist.linux-x86_64\r\n",
      "creating build/bdist.linux-x86_64/egg\r\n",
      "creating build/bdist.linux-x86_64/egg/pycocotools\r\n",
      "copying build/lib.linux-x86_64-3.10/pycocotools/mask.py -> build/bdist.linux-x86_64/egg/pycocotools\r\n",
      "copying build/lib.linux-x86_64-3.10/pycocotools/coco.py -> build/bdist.linux-x86_64/egg/pycocotools\r\n",
      "copying build/lib.linux-x86_64-3.10/pycocotools/__init__.py -> build/bdist.linux-x86_64/egg/pycocotools\r\n",
      "copying build/lib.linux-x86_64-3.10/pycocotools/_mask.cpython-310-x86_64-linux-gnu.so -> build/bdist.linux-x86_64/egg/pycocotools\r\n",
      "copying build/lib.linux-x86_64-3.10/pycocotools/cocoeval.py -> build/bdist.linux-x86_64/egg/pycocotools\r\n",
      "byte-compiling build/bdist.linux-x86_64/egg/pycocotools/mask.py to mask.cpython-310.pyc\r\n",
      "byte-compiling build/bdist.linux-x86_64/egg/pycocotools/coco.py to coco.cpython-310.pyc\r\n",
      "byte-compiling build/bdist.linux-x86_64/egg/pycocotools/__init__.py to __init__.cpython-310.pyc\r\n",
      "byte-compiling build/bdist.linux-x86_64/egg/pycocotools/cocoeval.py to cocoeval.cpython-310.pyc\r\n",
      "creating stub loader for pycocotools/_mask.cpython-310-x86_64-linux-gnu.so\r\n",
      "byte-compiling build/bdist.linux-x86_64/egg/pycocotools/_mask.py to _mask.cpython-310.pyc\r\n",
      "creating build/bdist.linux-x86_64/egg/EGG-INFO\r\n",
      "copying pycocotools.egg-info/PKG-INFO -> build/bdist.linux-x86_64/egg/EGG-INFO\r\n",
      "copying pycocotools.egg-info/SOURCES.txt -> build/bdist.linux-x86_64/egg/EGG-INFO\r\n",
      "copying pycocotools.egg-info/dependency_links.txt -> build/bdist.linux-x86_64/egg/EGG-INFO\r\n",
      "copying pycocotools.egg-info/requires.txt -> build/bdist.linux-x86_64/egg/EGG-INFO\r\n",
      "copying pycocotools.egg-info/top_level.txt -> build/bdist.linux-x86_64/egg/EGG-INFO\r\n",
      "writing build/bdist.linux-x86_64/egg/EGG-INFO/native_libs.txt\r\n",
      "zip_safe flag not set; analyzing archive contents...\r\n",
      "pycocotools.__pycache__._mask.cpython-310: module references __file__\r\n",
      "creating dist\r\n",
      "creating 'dist/pycocotools-2.0.6-py3.10-linux-x86_64.egg' and adding 'build/bdist.linux-x86_64/egg' to it\r\n",
      "removing 'build/bdist.linux-x86_64/egg' (and everything under it)\r\n",
      "Processing pycocotools-2.0.6-py3.10-linux-x86_64.egg\r\n",
      "creating /opt/conda/lib/python3.10/site-packages/pycocotools-2.0.6-py3.10-linux-x86_64.egg\r\n",
      "Extracting pycocotools-2.0.6-py3.10-linux-x86_64.egg to /opt/conda/lib/python3.10/site-packages\r\n",
      "Adding pycocotools 2.0.6 to easy-install.pth file\r\n",
      "\r\n",
      "Installed /opt/conda/lib/python3.10/site-packages/pycocotools-2.0.6-py3.10-linux-x86_64.egg\r\n",
      "Processing dependencies for pycocotools==2.0.6\r\n",
      "error: [Errno 2] No such file or directory: '/opt/conda/lib/python3.10/site-packages/numpy-1.24.3.dist-info/METADATA'\r\n",
      "Looking in links: /kaggle/working/packages/\r\n",
      "Processing /kaggle/working/packages/pycocotools-2.0.6\r\n",
      "  Installing build dependencies ... \u001b[?25l-\b \b\\\b \b|\b \b/\b \bdone\r\n",
      "\u001b[?25h  Getting requirements to build wheel ... \u001b[?25l-\b \bdone\r\n",
      "\u001b[?25h  Preparing metadata (pyproject.toml) ... \u001b[?25l-\b \bdone\r\n",
      "\u001b[?25hRequirement already satisfied: matplotlib>=2.1.0 in /opt/conda/lib/python3.10/site-packages (from pycocotools==2.0.6) (3.6.3)\r\n",
      "Requirement already satisfied: numpy in /opt/conda/lib/python3.10/site-packages (from pycocotools==2.0.6) (1.23.5)\r\n",
      "Requirement already satisfied: contourpy>=1.0.1 in /opt/conda/lib/python3.10/site-packages (from matplotlib>=2.1.0->pycocotools==2.0.6) (1.0.7)\r\n",
      "Requirement already satisfied: cycler>=0.10 in /opt/conda/lib/python3.10/site-packages (from matplotlib>=2.1.0->pycocotools==2.0.6) (0.11.0)\r\n",
      "Requirement already satisfied: fonttools>=4.22.0 in /opt/conda/lib/python3.10/site-packages (from matplotlib>=2.1.0->pycocotools==2.0.6) (4.39.3)\r\n",
      "Requirement already satisfied: kiwisolver>=1.0.1 in /opt/conda/lib/python3.10/site-packages (from matplotlib>=2.1.0->pycocotools==2.0.6) (1.4.4)\r\n",
      "Requirement already satisfied: packaging>=20.0 in /opt/conda/lib/python3.10/site-packages (from matplotlib>=2.1.0->pycocotools==2.0.6) (21.3)\r\n",
      "Requirement already satisfied: pillow>=6.2.0 in /opt/conda/lib/python3.10/site-packages (from matplotlib>=2.1.0->pycocotools==2.0.6) (9.5.0)\r\n",
      "Requirement already satisfied: pyparsing>=2.2.1 in /opt/conda/lib/python3.10/site-packages (from matplotlib>=2.1.0->pycocotools==2.0.6) (3.0.9)\r\n",
      "Requirement already satisfied: python-dateutil>=2.7 in /opt/conda/lib/python3.10/site-packages (from matplotlib>=2.1.0->pycocotools==2.0.6) (2.8.2)\r\n",
      "Requirement already satisfied: six>=1.5 in /opt/conda/lib/python3.10/site-packages (from python-dateutil>=2.7->matplotlib>=2.1.0->pycocotools==2.0.6) (1.16.0)\r\n",
      "Building wheels for collected packages: pycocotools\r\n",
      "  Building wheel for pycocotools (pyproject.toml) ... \u001b[?25l-\b \b\\\b \b|\b \b/\b \bdone\r\n",
      "\u001b[?25h  Created wheel for pycocotools: filename=pycocotools-2.0.6-cp310-cp310-linux_x86_64.whl size=102202 sha256=e850f3b900c1c152474a3580b7e8ef4cd320d65bfee5a0ad9ac4e4fc4c57f38b\r\n",
      "  Stored in directory: /root/.cache/pip/wheels/b7/83/32/99474500256e64154dfc568319411b6ff49e96e50f30d9474f\r\n",
      "Successfully built pycocotools\r\n",
      "Installing collected packages: pycocotools\r\n",
      "  Attempting uninstall: pycocotools\r\n",
      "    Found existing installation: pycocotools 2.0.6\r\n",
      "    Uninstalling pycocotools-2.0.6:\r\n",
      "      Successfully uninstalled pycocotools-2.0.6\r\n",
      "Successfully installed pycocotools-2.0.6\r\n",
      "\u001b[33mWARNING: Running pip as the 'root' user can result in broken permissions and conflicting behaviour with the system package manager. It is recommended to use a virtual environment instead: https://pip.pypa.io/warnings/venv\u001b[0m\u001b[33m\r\n",
      "\u001b[0m"
     ]
    }
   ],
   "source": [
    "import os\n",
    "HOME = os.getcwd()\n",
    "!mkdir /kaggle/working/packages\n",
    "!cp -r /kaggle/input/pycocotools/* /kaggle/working/packages\n",
    "os.chdir(\"/kaggle/working/packages/pycocotools-2.0.6/\")\n",
    "!python setup.py install\n",
    "!pip install . --no-index --find-links /kaggle/working/packages/\n",
    "os.chdir(\"/kaggle/working\")\n",
    "\n",
    "import base64\n",
    "import numpy as np\n",
    "from pycocotools import _mask as coco_mask\n",
    "import typing as t\n",
    "import zlib\n",
    "from PIL import Image\n",
    "import cv2\n",
    "import pandas as pd\n",
    "import os\n",
    "from itertools import groupby\n",
    "from skimage.measure import label, regionprops\n",
    "\n",
    "def encode_binary_mask(mask: np.ndarray) -> t.Text:\n",
    "    \"\"\"Converts a binary mask into OID challenge encoding ascii text.\"\"\"\n",
    "\n",
    "    # check input mask --\n",
    "    if mask.dtype != bool:\n",
    "        raise ValueError(\n",
    "            \"encode_binary_mask expects a binary mask, received dtype == %s\" %\n",
    "            mask.dtype)\n",
    "\n",
    "    mask = np.squeeze(mask)\n",
    "    if len(mask.shape) != 2:\n",
    "        raise ValueError(\n",
    "            \"encode_binary_mask expects a 2d mask, received shape == %s\" %\n",
    "            mask.shape)\n",
    "\n",
    "    # convert input mask to expected COCO API input --\n",
    "    mask_to_encode = mask.reshape(mask.shape[0], mask.shape[1], 1)\n",
    "    mask_to_encode = mask_to_encode.astype(np.uint8)\n",
    "    mask_to_encode = np.asfortranarray(mask_to_encode)\n",
    "\n",
    "    # RLE encode mask --\n",
    "    encoded_mask = coco_mask.encode(mask_to_encode)[0][\"counts\"]\n",
    "\n",
    "    # compress and base64 encoding --\n",
    "    binary_str = zlib.compress(encoded_mask, zlib.Z_BEST_COMPRESSION)\n",
    "    base64_str = base64.b64encode(binary_str)\n",
    "    return base64_str"
   ]
  },
  {
   "cell_type": "markdown",
   "id": "47ebbf86",
   "metadata": {
    "papermill": {
     "duration": 0.008298,
     "end_time": "2023-06-27T03:02:16.745823",
     "exception": false,
     "start_time": "2023-06-27T03:02:16.737525",
     "status": "completed"
    },
    "tags": []
   },
   "source": [
    "# infer"
   ]
  },
  {
   "cell_type": "code",
   "execution_count": 5,
   "id": "3c36e94e",
   "metadata": {
    "execution": {
     "iopub.execute_input": "2023-06-27T03:02:16.762463Z",
     "iopub.status.busy": "2023-06-27T03:02:16.762015Z",
     "iopub.status.idle": "2023-06-27T03:02:16.768208Z",
     "shell.execute_reply": "2023-06-27T03:02:16.767209Z"
    },
    "papermill": {
     "duration": 0.017141,
     "end_time": "2023-06-27T03:02:16.770330",
     "exception": false,
     "start_time": "2023-06-27T03:02:16.753189",
     "status": "completed"
    },
    "tags": []
   },
   "outputs": [],
   "source": [
    "# To determine if the current position has been detected\n",
    "def count_change(old,new):\n",
    "    sum=0\n",
    "    for i in range(old.shape[0]):\n",
    "        for j in range(old.shape[1]):\n",
    "            if new[i,j] == True and old[i,j] == True:\n",
    "                return True\n",
    "    \n",
    "    return False"
   ]
  },
  {
   "cell_type": "code",
   "execution_count": 6,
   "id": "015176c8",
   "metadata": {
    "execution": {
     "iopub.execute_input": "2023-06-27T03:02:16.787320Z",
     "iopub.status.busy": "2023-06-27T03:02:16.786532Z",
     "iopub.status.idle": "2023-06-27T03:02:16.791717Z",
     "shell.execute_reply": "2023-06-27T03:02:16.790875Z"
    },
    "papermill": {
     "duration": 0.015702,
     "end_time": "2023-06-27T03:02:16.793613",
     "exception": false,
     "start_time": "2023-06-27T03:02:16.777911",
     "status": "completed"
    },
    "tags": []
   },
   "outputs": [],
   "source": [
    "# Draw mask image\n",
    "def draw_mask(array):\n",
    "    plt.figure()\n",
    "    image_array = np.array(array)\n",
    "    plt.imshow(image_array, cmap='binary')\n",
    "    plt.axis('off')\n",
    "    plt.show()"
   ]
  },
  {
   "cell_type": "code",
   "execution_count": 7,
   "id": "fd51c0e0",
   "metadata": {
    "execution": {
     "iopub.execute_input": "2023-06-27T03:02:16.810416Z",
     "iopub.status.busy": "2023-06-27T03:02:16.810061Z",
     "iopub.status.idle": "2023-06-27T03:02:16.819560Z",
     "shell.execute_reply": "2023-06-27T03:02:16.818472Z"
    },
    "papermill": {
     "duration": 0.020681,
     "end_time": "2023-06-27T03:02:16.821811",
     "exception": false,
     "start_time": "2023-06-27T03:02:16.801130",
     "status": "completed"
    },
    "tags": []
   },
   "outputs": [],
   "source": [
    "# Segment the picture and record the mask result\n",
    "def make_mask(model,im1,row, mask_all):\n",
    "    results = model.predict(source=im1)\n",
    "    boxe_data = results[0].boxes.data.cpu().numpy()\n",
    "    mask_data = results[0].masks.data\n",
    "    row[\"width\"] = results[0].orig_shape[0]\n",
    "    row[\"height\"] = results[0].orig_shape[1]\n",
    "\n",
    "    mask_data = mask_data == 1# multiple images are expected\n",
    "    mask_data = mask_data * 1\n",
    "    mask_data = mask_data.cpu().numpy()\n",
    "\n",
    "    mask_data = mask_data.astype(bool)\n",
    "    prediction_l = []\n",
    "    list_encode = []\n",
    "    conf_encode = []\n",
    "    \n",
    "    \n",
    "    \n",
    "    for i in range(boxe_data.shape[0]):\n",
    "        class_no = int(boxe_data[i][5])\n",
    "        class_conf = boxe_data[i][4]\n",
    "        class_conf = float(class_conf)\n",
    "        \n",
    "        if class_no !=0 :\n",
    "            continue\n",
    "            \n",
    "        if count_change(mask_all,mask_data[i,:,:]):\n",
    "            continue\n",
    "        \n",
    "        mask_all = mask_all | mask_data[i,:,:]\n",
    "        \n",
    "        sliceImage = mask_data[i,:,:]\n",
    "        coded_len = encode_binary_mask(sliceImage).decode('utf-8')\n",
    "                # if len(coded_len) < 90:\n",
    "        list_encode.append(coded_len)\n",
    "        conf_encode.append(class_conf)\n",
    "    \n",
    "    \n",
    "    for i in range(len(conf_encode)):\n",
    "        row[\"prediction_string\"] += '0 ' + str(conf_encode[i])+' '+ list_encode[i]+' '\n",
    "    \n",
    "    return mask_all"
   ]
  },
  {
   "cell_type": "markdown",
   "id": "81b8bd5e",
   "metadata": {
    "papermill": {
     "duration": 0.007094,
     "end_time": "2023-06-27T03:02:16.836361",
     "exception": false,
     "start_time": "2023-06-27T03:02:16.829267",
     "status": "completed"
    },
    "tags": []
   },
   "source": [
    "# New approach"
   ]
  },
  {
   "cell_type": "code",
   "execution_count": 8,
   "id": "7b502df9",
   "metadata": {
    "execution": {
     "iopub.execute_input": "2023-06-27T03:02:16.853077Z",
     "iopub.status.busy": "2023-06-27T03:02:16.852696Z",
     "iopub.status.idle": "2023-06-27T03:02:16.857380Z",
     "shell.execute_reply": "2023-06-27T03:02:16.856682Z"
    },
    "papermill": {
     "duration": 0.015476,
     "end_time": "2023-06-27T03:02:16.859264",
     "exception": false,
     "start_time": "2023-06-27T03:02:16.843788",
     "status": "completed"
    },
    "tags": []
   },
   "outputs": [],
   "source": [
    "#Identify overlaps\n",
    "def replace(mask_data,new_mask,num_mask):\n",
    "    for i in range(num_mask):\n",
    "        array = new_mask & mask_data[i,:,:]\n",
    "        count = np.any(array == 1)\n",
    "        if count > 0:\n",
    "            return i\n",
    "    return -1"
   ]
  },
  {
   "cell_type": "code",
   "execution_count": 9,
   "id": "b3b2f74c",
   "metadata": {
    "execution": {
     "iopub.execute_input": "2023-06-27T03:02:16.875485Z",
     "iopub.status.busy": "2023-06-27T03:02:16.875112Z",
     "iopub.status.idle": "2023-06-27T03:02:16.879876Z",
     "shell.execute_reply": "2023-06-27T03:02:16.878744Z"
    },
    "papermill": {
     "duration": 0.015484,
     "end_time": "2023-06-27T03:02:16.882114",
     "exception": false,
     "start_time": "2023-06-27T03:02:16.866630",
     "status": "completed"
    },
    "tags": []
   },
   "outputs": [],
   "source": [
    "# Get the mask union\n",
    "def remask(old_mask,new_mask):\n",
    "    return old_mask | new_mask"
   ]
  },
  {
   "cell_type": "code",
   "execution_count": 10,
   "id": "12cd2422",
   "metadata": {
    "execution": {
     "iopub.execute_input": "2023-06-27T03:02:16.898886Z",
     "iopub.status.busy": "2023-06-27T03:02:16.898164Z",
     "iopub.status.idle": "2023-06-27T03:02:16.903753Z",
     "shell.execute_reply": "2023-06-27T03:02:16.902694Z"
    },
    "papermill": {
     "duration": 0.016498,
     "end_time": "2023-06-27T03:02:16.906027",
     "exception": false,
     "start_time": "2023-06-27T03:02:16.889529",
     "status": "completed"
    },
    "tags": []
   },
   "outputs": [],
   "source": [
    "def get_result(results):\n",
    "    mask_data = results[0].masks.data\n",
    "    mask_data = mask_data == 1# multiple images are expected\n",
    "    mask_data = mask_data * 1\n",
    "    mask_data = mask_data.cpu().numpy()\n",
    "    mask_data = mask_data.astype(bool)\n",
    "    return mask_data"
   ]
  },
  {
   "cell_type": "code",
   "execution_count": 11,
   "id": "cf972101",
   "metadata": {
    "execution": {
     "iopub.execute_input": "2023-06-27T03:02:16.922996Z",
     "iopub.status.busy": "2023-06-27T03:02:16.922617Z",
     "iopub.status.idle": "2023-06-27T03:02:16.928828Z",
     "shell.execute_reply": "2023-06-27T03:02:16.928070Z"
    },
    "papermill": {
     "duration": 0.016996,
     "end_time": "2023-06-27T03:02:16.930809",
     "exception": false,
     "start_time": "2023-06-27T03:02:16.913813",
     "status": "completed"
    },
    "tags": []
   },
   "outputs": [],
   "source": [
    "def get_change(boxe_data1,mask_data,mask_data1,num_mask,conf):\n",
    "    for i in range(boxe_data1.shape[0]):\n",
    "        change = replace(mask_data,mask_data1[i,:,:],num_mask)\n",
    "        if change >= 0 :\n",
    "            mask_data[change,:,:] = remask(mask_data[change,:,:],mask_data1[i,:,:])\n",
    "        else:\n",
    "            mask_data = np.concatenate((mask_data,np.expand_dims(mask_data1[i,:,:], axis=0)), axis=0)\n",
    "            conf = np.concatenate((conf,np.expand_dims(float(boxe_data1[i][4]),axis=0)),axis=0)\n",
    "            num_mask+=1\n",
    "    return num_mask,mask_data,conf"
   ]
  },
  {
   "cell_type": "code",
   "execution_count": 12,
   "id": "8639848b",
   "metadata": {
    "execution": {
     "iopub.execute_input": "2023-06-27T03:02:16.947020Z",
     "iopub.status.busy": "2023-06-27T03:02:16.946626Z",
     "iopub.status.idle": "2023-06-27T03:02:16.954084Z",
     "shell.execute_reply": "2023-06-27T03:02:16.953016Z"
    },
    "papermill": {
     "duration": 0.018163,
     "end_time": "2023-06-27T03:02:16.956346",
     "exception": false,
     "start_time": "2023-06-27T03:02:16.938183",
     "status": "completed"
    },
    "tags": []
   },
   "outputs": [],
   "source": [
    "def new_mask(model,model1,im):\n",
    "    results = model.predict(source=im1)\n",
    "    results1 = model1.predict(source=im1)\n",
    "    \n",
    "    mask_data = get_result(results)\n",
    "    mask_data1 = get_result(results1)\n",
    "    \n",
    "    first_rs = results[0].boxes.data.cpu().numpy().shape[0]\n",
    "    num_mask = first_rs\n",
    "    \n",
    "    boxe_data = results[0].boxes.data.cpu().numpy()\n",
    "    boxe_data1 = results1[0].boxes.data.cpu().numpy()\n",
    "    \n",
    "    conf = np.empty(first_rs)\n",
    "    for i in range(first_rs):\n",
    "        class_conf = boxe_data[i][4]\n",
    "        class_conf = float(class_conf)\n",
    "        conf[i] = class_conf\n",
    "    num_mask,mask_data,conf=get_change(boxe_data1,mask_data,mask_data1,num_mask,conf)\n",
    "    \n",
    "    return mask_data,num_mask,conf"
   ]
  },
  {
   "cell_type": "code",
   "execution_count": 13,
   "id": "11db69c6",
   "metadata": {
    "execution": {
     "iopub.execute_input": "2023-06-27T03:02:16.972812Z",
     "iopub.status.busy": "2023-06-27T03:02:16.972434Z",
     "iopub.status.idle": "2023-06-27T03:02:29.493143Z",
     "shell.execute_reply": "2023-06-27T03:02:29.492311Z"
    },
    "papermill": {
     "duration": 12.531741,
     "end_time": "2023-06-27T03:02:29.495503",
     "exception": false,
     "start_time": "2023-06-27T03:02:16.963762",
     "status": "completed"
    },
    "tags": []
   },
   "outputs": [
    {
     "name": "stderr",
     "output_type": "stream",
     "text": [
      "/opt/conda/lib/python3.10/site-packages/tensorflow_io/python/ops/__init__.py:98: UserWarning: unable to load libtensorflow_io_plugins.so: unable to open file: libtensorflow_io_plugins.so, from paths: ['/opt/conda/lib/python3.10/site-packages/tensorflow_io/python/ops/libtensorflow_io_plugins.so']\n",
      "caused by: ['/opt/conda/lib/python3.10/site-packages/tensorflow_io/python/ops/libtensorflow_io_plugins.so: undefined symbol: _ZN3tsl6StatusC1EN10tensorflow5error4CodeESt17basic_string_viewIcSt11char_traitsIcEENS_14SourceLocationE']\n",
      "  warnings.warn(f\"unable to load libtensorflow_io_plugins.so: {e}\")\n",
      "/opt/conda/lib/python3.10/site-packages/tensorflow_io/python/ops/__init__.py:104: UserWarning: file system plugins are not loaded: unable to open file: libtensorflow_io.so, from paths: ['/opt/conda/lib/python3.10/site-packages/tensorflow_io/python/ops/libtensorflow_io.so']\n",
      "caused by: ['/opt/conda/lib/python3.10/site-packages/tensorflow_io/python/ops/libtensorflow_io.so: undefined symbol: _ZTVN10tensorflow13GcsFileSystemE']\n",
      "  warnings.warn(f\"file system plugins are not loaded: {e}\")\n",
      "\n",
      "0: 512x512 13 blood_vessels, 1298.1ms\n",
      "Speed: 12.0ms preprocess, 1298.1ms inference, 49.6ms postprocess per image at shape (1, 3, 512, 512)\n",
      "\n",
      "0: 512x512 16 blood_vessels, 115.1ms\n",
      "Speed: 1.4ms preprocess, 115.1ms inference, 22.0ms postprocess per image at shape (1, 3, 512, 512)\n"
     ]
    }
   ],
   "source": [
    "model = YOLO(\"/kaggle/input/yolov8/120best.pt\")\n",
    "model1 = YOLO(\"/kaggle/input/yolov8/30best.pt\")\n",
    "\n",
    "all_rows = []\n",
    "results_csv = pd.DataFrame([], columns=[\"id\",\"height\",\"width\",\"prediction_string\"])\n",
    "results_csv.set_index(\"id\")\n",
    "\n",
    "for dirname, _, filenames in os.walk('/kaggle/input/hubmap-hacking-the-human-vasculature/test'):\n",
    "    for filename in filenames:\n",
    "        \n",
    "        im1 = Image.open(os.path.join(dirname, filename))\n",
    "        width, height = im1.size\n",
    "        \n",
    "        row = dict()\n",
    "        row[\"id\"] = filename[:-4]\n",
    "        row[\"height\"] = height\n",
    "        row[\"width\"] = width\n",
    "        row[\"prediction_string\"] = \"\"\n",
    "        try:\n",
    "            mask,num,conf = new_mask(model,model1,im1)\n",
    "            for i in range(num):\n",
    "                sliceImage = mask[i,:,:]\n",
    "                coded_len = encode_binary_mask(sliceImage).decode('utf-8')\n",
    "                row[\"prediction_string\"] += '0 ' + str(conf[i])+' '+ coded_len+' '\n",
    "        except:\n",
    "            print(\"failed to some reason\")\n",
    "        \n",
    "        new_row = pd.DataFrame(row, index=[0])\n",
    "        results_csv = pd.concat([new_row, results_csv.loc[:]]).reset_index(drop=True)\n",
    "\n",
    "results_csv.to_csv(\"submission.csv\", index=False)"
   ]
  },
  {
   "cell_type": "code",
   "execution_count": 14,
   "id": "f5b036bf",
   "metadata": {
    "execution": {
     "iopub.execute_input": "2023-06-27T03:02:29.513177Z",
     "iopub.status.busy": "2023-06-27T03:02:29.512233Z",
     "iopub.status.idle": "2023-06-27T03:02:30.541542Z",
     "shell.execute_reply": "2023-06-27T03:02:30.540169Z"
    },
    "papermill": {
     "duration": 1.040932,
     "end_time": "2023-06-27T03:02:30.544256",
     "exception": false,
     "start_time": "2023-06-27T03:02:29.503324",
     "status": "completed"
    },
    "tags": []
   },
   "outputs": [
    {
     "name": "stdout",
     "output_type": "stream",
     "text": [
      "id,height,width,prediction_string\r\n",
      "72e40acccadf,512,512,0 0.8259779214859009 eNqLjggytU6yN/c29IdBAwMgNjSA8AyQaAMDGAlSgQNAZGDyuNURBlCr0BwCYfkZ+Rv5gXhGfsY+xr5GfqbeQRExhgAMESyf 0 0.7998782396316528 eNoLjM8xyTYIsTf1MSAHGPojWCA2BBv5QfjIYjARhEoINPKLCAgxAgCq5x2e 0 0.7457514405250549 eNrLjUsys0u0N/Yz9IdAAwMYC8bDgg0MgKSRP5IQjIWARhAjfY39jPwN/QwNgBgoZuQXH5BkAACj2Rxz 0 0.7207280993461609 eNotjtsKwkAMRH8pSVsQZBW2CILdpKK1tRdEq9UtXv7/zWz1YTjDzEDyyXP0UCyTjFzsIiZVnMUZMXGyma9m6+BQggCC4I/Wjbaj0vTOKytzVp6oNYI1D3aA2tRyt1dlIw/bw9G04u0FKtPJqCw1f2pf6O41sZI8vcHOHGSbetgvOGJkBGQSpWC4KxTeCIn6KdMFCOBvoT033Tv5AgG1OsQ= 0 0.6939664483070374 eNqLjMsytou3N/M29jfwNzA0MDDwBxGGfob+Rn6GIBqIjfyBIv6GGCQEowCwbjADYoihn7Gfka8RyBAI9DdEYD9jXyO/yKAwYwAyER82 0 0.6071067452430725 eNqLC48zTzcItzfxM/A3hEIDIACS/oYGYGwAEYEKGvkb+hr7mPga+xv6Gfka+xn5GfsZgsSASsM9AQgJEyo= 0 0.6057500839233398 eNqLDcoySzKItTf2M/QHQQMDCAaRIACjQcDfEE4b+oGwEQj6mnnE56YaAACGqRFM 0 0.568560779094696 eNqLi4kys0i3N/c09THyM/QHQgMDfzDtb2BgaOBvAKJBAMQ2APEgAiBlEHkwhjAQ6kEkyCgI09/I38jP1NvYz9/Q0DksOMsAAGZ2G1I= 0 0.45192810893058777 eNrLic8xMsmyN/I39Dc0MIBgGBsmAiNJA4b+IAyBBgbGvhEBUSYAWogYDw== 0 0.4089702069759369 eNpVizEOgDAMA78UN51Y+ECbbkiMHdgQ/x9xcBcS2XKsyzzvul27d5hFbbV5YGSGYRgFJVZ50im5kiZZWx8mXt+kxK7qj9JHyRTJlO9CFK73eTx4ATXwJD8= 0 0.37049105763435364 eNrLDEowsEu0N/YzMDD0N/Q3gAJ/QyA28jMECfoZe4fFhpsDAOCYClk= 0 0.3439224362373352 eNoLjcgyTDKItTf2NfI38Dc0MPQzBJJAlr+BAYg2ADPAXCAfRINJoBRIESqGkTgA0GiwwUb+hn5Gfka+oRERpgBQ6hyg 0 0.30446723103523254 eNoLCzAyzLM39jXyNwACQzCJYGEnERgCkfVhA/6GIAwhISx0EWR1UL6hH4SVHZ9mBgCcaCQO 0 0.41899991035461426 eNrLDA0yMs+wN/M28TH0NwADf0N/QwMUgMyHsRFiMH0IFroIiAQaCiUN/Y38EOIYACZl6AeyAUz6G/kbgDUZ+Rn5BkUlmQAA+fMncg== 0 0.29374760389328003 eNrLj4gxSzGIsjfxNfIz8jfwNwRDIz9DKMvAAEIagKSMfIz9jPyMwUqBPJCkn6GBIVDOAEzCMcwQ37zwXAMA3JwYeA== 0 0.28870028257369995 eNpLC8kysk20N/Ux8jcwMPA3NPA3MDRAYoEIf0OgHJgPUmMI4kJ5hmB1MGUGMN1QCTQMggg+AoBNhZoGNh6kwNDXxDM3O98YAHgsJDw= \r\n"
     ]
    }
   ],
   "source": [
    "!cat submission.csv"
   ]
  },
  {
   "cell_type": "code",
   "execution_count": 15,
   "id": "77801c36",
   "metadata": {
    "execution": {
     "iopub.execute_input": "2023-06-27T03:02:30.562816Z",
     "iopub.status.busy": "2023-06-27T03:02:30.562018Z",
     "iopub.status.idle": "2023-06-27T03:02:30.702259Z",
     "shell.execute_reply": "2023-06-27T03:02:30.701202Z"
    },
    "papermill": {
     "duration": 0.152858,
     "end_time": "2023-06-27T03:02:30.705124",
     "exception": false,
     "start_time": "2023-06-27T03:02:30.552266",
     "status": "completed"
    },
    "tags": []
   },
   "outputs": [
    {
     "data": {
      "image/png": "[encoded data removed]",
      "text/plain": [
       "<Figure size 640x480 with 1 Axes>"
      ]
     },
     "metadata": {},
     "output_type": "display_data"
    }
   ],
   "source": [
    "mask_all = np.zeros((512,512),dtype=bool)\n",
    "for i in range(num):\n",
    "#     print(i)\n",
    "#     draw_mask(mask[i,:,:])\n",
    "    mask_all |= mask[i,:,:]\n",
    "draw_mask(mask_all)"
   ]
  },
  {
   "cell_type": "code",
   "execution_count": null,
   "id": "7e84c811",
   "metadata": {
    "papermill": {
     "duration": 0.013181,
     "end_time": "2023-06-27T03:02:30.731731",
     "exception": false,
     "start_time": "2023-06-27T03:02:30.718550",
     "status": "completed"
    },
    "tags": []
   },
   "outputs": [],
   "source": []
  }
 ],
 "metadata": {
  "kernelspec": {
   "display_name": "Python 3",
   "language": "python",
   "name": "python3"
  },
  "language_info": {
   "codemirror_mode": {
    "name": "ipython",
    "version": 3
   },
   "file_extension": ".py",
   "mimetype": "text/x-python",
   "name": "python",
   "nbconvert_exporter": "python",
   "pygments_lexer": "ipython3",
   "version": "3.10.10"
  },
  "papermill": {
   "default_parameters": {},
   "duration": 98.54761,
   "end_time": "2023-06-27T03:02:35.929161",
   "environment_variables": {},
   "exception": null,
   "input_path": "__notebook__.ipynb",
   "output_path": "__notebook__.ipynb",
   "parameters": {},
   "start_time": "2023-06-27T03:00:57.381551",
   "version": "2.4.0"
  }
 },
 "nbformat": 4,
 "nbformat_minor": 5
}
