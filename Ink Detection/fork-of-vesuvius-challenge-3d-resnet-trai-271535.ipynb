{
 "cells": [
  {
   "cell_type": "markdown",
   "id": "1f8e7401",
   "metadata": {
    "papermill": {
     "duration": 0.012351,
     "end_time": "2023-05-29T01:39:53.542099",
     "exception": false,
     "start_time": "2023-05-29T01:39:53.529748",
     "status": "completed"
    },
    "tags": []
   },
   "source": [
    "## Vesuvius Challenge - Ink Detection Training Notebook"
   ]
  },
  {
   "cell_type": "markdown",
   "id": "2ba7bfcd",
   "metadata": {
    "papermill": {
     "duration": 0.010545,
     "end_time": "2023-05-29T01:39:53.563886",
     "exception": false,
     "start_time": "2023-05-29T01:39:53.553341",
     "status": "completed"
    },
    "tags": []
   },
   "source": [
    "### Setup"
   ]
  },
  {
   "cell_type": "code",
   "execution_count": 1,
   "id": "4272bbff",
   "metadata": {
    "_kg_hide-input": false,
    "_kg_hide-output": true,
    "execution": {
     "iopub.execute_input": "2023-05-29T01:39:53.588237Z",
     "iopub.status.busy": "2023-05-29T01:39:53.587720Z",
     "iopub.status.idle": "2023-05-29T01:40:33.687835Z",
     "shell.execute_reply": "2023-05-29T01:40:33.686234Z"
    },
    "papermill": {
     "duration": 40.115612,
     "end_time": "2023-05-29T01:40:33.690852",
     "exception": false,
     "start_time": "2023-05-29T01:39:53.575240",
     "status": "completed"
    },
    "scrolled": true,
    "tags": []
   },
   "outputs": [
    {
     "name": "stdout",
     "output_type": "stream",
     "text": [
      "Collecting gdown\r\n",
      "  Downloading gdown-4.7.1-py3-none-any.whl (15 kB)\r\n",
      "Requirement already satisfied: filelock in /opt/conda/lib/python3.7/site-packages (from gdown) (3.9.0)\r\n",
      "Requirement already satisfied: requests[socks] in /opt/conda/lib/python3.7/site-packages (from gdown) (2.28.2)\r\n",
      "Requirement already satisfied: tqdm in /opt/conda/lib/python3.7/site-packages (from gdown) (4.64.1)\r\n",
      "Requirement already satisfied: beautifulsoup4 in /opt/conda/lib/python3.7/site-packages (from gdown) (4.11.1)\r\n",
      "Requirement already satisfied: six in /opt/conda/lib/python3.7/site-packages (from gdown) (1.16.0)\r\n",
      "Requirement already satisfied: soupsieve>1.2 in /opt/conda/lib/python3.7/site-packages (from beautifulsoup4->gdown) (2.3.2.post1)\r\n",
      "Requirement already satisfied: certifi>=2017.4.17 in /opt/conda/lib/python3.7/site-packages (from requests[socks]->gdown) (2022.12.7)\r\n",
      "Requirement already satisfied: urllib3<1.27,>=1.21.1 in /opt/conda/lib/python3.7/site-packages (from requests[socks]->gdown) (1.26.14)\r\n",
      "Requirement already satisfied: idna<4,>=2.5 in /opt/conda/lib/python3.7/site-packages (from requests[socks]->gdown) (3.4)\r\n",
      "Requirement already satisfied: charset-normalizer<4,>=2 in /opt/conda/lib/python3.7/site-packages (from requests[socks]->gdown) (2.1.1)\r\n",
      "Requirement already satisfied: PySocks!=1.5.7,>=1.5.6 in /opt/conda/lib/python3.7/site-packages (from requests[socks]->gdown) (1.7.1)\r\n",
      "Installing collected packages: gdown\r\n",
      "Successfully installed gdown-4.7.1\r\n",
      "\u001b[33mWARNING: Running pip as the 'root' user can result in broken permissions and conflicting behaviour with the system package manager. It is recommended to use a virtual environment instead: https://pip.pypa.io/warnings/venv\u001b[0m\u001b[33m\r\n",
      "\u001b[0mDownloading...\r\n",
      "From (uriginal): https://drive.google.com/uc?id=1fFN5J2He6eTqMPRl_M9gFtFfpUmhtQc9\r\n",
      "From (redirected): https://drive.google.com/uc?id=1fFN5J2He6eTqMPRl_M9gFtFfpUmhtQc9&confirm=t&uuid=8a11ec61-70d1-49f1-bfdd-7beb6c0ae6f5\r\n",
      "To: /kaggle/working/r3d34_K_200ep.pth\r\n",
      "100%|████████████████████████████████████████| 511M/511M [00:06<00:00, 80.4MB/s]\r\n",
      "Collecting zarr\r\n",
      "  Downloading zarr-2.12.0-py3-none-any.whl (185 kB)\r\n",
      "\u001b[2K     \u001b[90m━━━━━━━━━━━━━━━━━━━━━━━━━━━━━━━━━━━━━━━\u001b[0m \u001b[32m185.8/185.8 kB\u001b[0m \u001b[31m4.9 MB/s\u001b[0m eta \u001b[36m0:00:00\u001b[0m\r\n",
      "\u001b[?25hCollecting imageio-ffmpeg\r\n",
      "  Downloading imageio_ffmpeg-0.4.8-py3-none-manylinux2010_x86_64.whl (26.9 MB)\r\n",
      "\u001b[2K     \u001b[90m━━━━━━━━━━━━━━━━━━━━━━━━━━━━━━━━━━━━━━━━\u001b[0m \u001b[32m26.9/26.9 MB\u001b[0m \u001b[31m45.9 MB/s\u001b[0m eta \u001b[36m0:00:00\u001b[0m\r\n",
      "\u001b[?25hRequirement already satisfied: fasteners in /opt/conda/lib/python3.7/site-packages (from zarr) (0.18)\r\n",
      "Collecting asciitree\r\n",
      "  Downloading asciitree-0.3.3.tar.gz (4.0 kB)\r\n",
      "  Preparing metadata (setup.py) ... \u001b[?25l-\b \b\\\b \bdone\r\n",
      "\u001b[?25hRequirement already satisfied: numpy>=1.7 in /opt/conda/lib/python3.7/site-packages (from zarr) (1.21.6)\r\n",
      "Collecting numcodecs>=0.6.4\r\n",
      "  Downloading numcodecs-0.10.2-cp37-cp37m-manylinux_2_17_x86_64.manylinux2014_x86_64.whl (6.6 MB)\r\n",
      "\u001b[2K     \u001b[90m━━━━━━━━━━━━━━━━━━━━━━━━━━━━━━━━━━━━━━━━\u001b[0m \u001b[32m6.6/6.6 MB\u001b[0m \u001b[31m74.5 MB/s\u001b[0m eta \u001b[36m0:00:00\u001b[0m\r\n",
      "\u001b[?25hRequirement already satisfied: entrypoints in /opt/conda/lib/python3.7/site-packages (from numcodecs>=0.6.4->zarr) (0.4)\r\n",
      "Requirement already satisfied: typing-extensions>=3.7.4 in /opt/conda/lib/python3.7/site-packages (from numcodecs>=0.6.4->zarr) (4.4.0)\r\n",
      "Building wheels for collected packages: asciitree\r\n",
      "  Building wheel for asciitree (setup.py) ... \u001b[?25l-\b \b\\\b \bdone\r\n",
      "\u001b[?25h  Created wheel for asciitree: filename=asciitree-0.3.3-py3-none-any.whl size=5050 sha256=09057081867ac63b460755f91cfb1cd1a6c1e8381a7db33c932ea7b1f6e900d4\r\n",
      "  Stored in directory: /root/.cache/pip/wheels/e2/97/c4/5537ba28215ed3508783dc23c1fb59e17f00722317e4edeac0\r\n",
      "Successfully built asciitree\r\n",
      "Installing collected packages: asciitree, numcodecs, imageio-ffmpeg, zarr\r\n",
      "Successfully installed asciitree-0.3.3 imageio-ffmpeg-0.4.8 numcodecs-0.10.2 zarr-2.12.0\r\n",
      "\u001b[33mWARNING: Running pip as the 'root' user can result in broken permissions and conflicting behaviour with the system package manager. It is recommended to use a virtual environment instead: https://pip.pypa.io/warnings/venv\u001b[0m\u001b[33m\r\n",
      "\u001b[0m"
     ]
    }
   ],
   "source": [
    "# Pretrained weights\n",
    "# ref - https://github.com/kenshohara/3D-ResNets-PyTorch\n",
    "!pip install gdown\n",
    "!gdown 1fFN5J2He6eTqMPRl_M9gFtFfpUmhtQc9\n",
    "\n",
    "# Utility packages for reading and visualizing volumes\n",
    "!pip install zarr imageio-ffmpeg\n",
    "\n",
    "# save model checkpoints\n",
    "!mkdir ./ckpts"
   ]
  },
  {
   "cell_type": "code",
   "execution_count": 2,
   "id": "e63b173d",
   "metadata": {
    "execution": {
     "iopub.execute_input": "2023-05-29T01:40:33.727756Z",
     "iopub.status.busy": "2023-05-29T01:40:33.727396Z",
     "iopub.status.idle": "2023-05-29T01:40:38.262784Z",
     "shell.execute_reply": "2023-05-29T01:40:38.261735Z"
    },
    "papermill": {
     "duration": 4.557739,
     "end_time": "2023-05-29T01:40:38.265769",
     "exception": false,
     "start_time": "2023-05-29T01:40:33.708030",
     "status": "completed"
    },
    "tags": []
   },
   "outputs": [],
   "source": [
    "import os\n",
    "import gc\n",
    "import sys\n",
    "import zarr\n",
    "import random\n",
    "import imageio\n",
    "import numpy as np\n",
    "import pandas as pd\n",
    "from tqdm import tqdm\n",
    "import matplotlib.pyplot as plt\n",
    "from IPython.display import Video\n",
    "\n",
    "import torch\n",
    "import torch.nn as nn\n",
    "import torch.nn.functional as F\n",
    "from torch.cuda import amp\n",
    "from torch.utils.data import Dataset, DataLoader\n",
    "\n",
    "sys.path.append(\"/kaggle/input/resnet3d\")\n",
    "from resnet3d import generate_model"
   ]
  },
  {
   "cell_type": "markdown",
   "id": "eb3f159d",
   "metadata": {
    "papermill": {
     "duration": 0.016187,
     "end_time": "2023-05-29T01:40:38.298745",
     "exception": false,
     "start_time": "2023-05-29T01:40:38.282558",
     "status": "completed"
    },
    "tags": []
   },
   "source": [
    "### Config"
   ]
  },
  {
   "cell_type": "code",
   "execution_count": 3,
   "id": "f556323f",
   "metadata": {
    "execution": {
     "iopub.execute_input": "2023-05-29T01:40:38.334052Z",
     "iopub.status.busy": "2023-05-29T01:40:38.333366Z",
     "iopub.status.idle": "2023-05-29T01:40:38.339462Z",
     "shell.execute_reply": "2023-05-29T01:40:38.338303Z"
    },
    "papermill": {
     "duration": 0.02657,
     "end_time": "2023-05-29T01:40:38.342107",
     "exception": false,
     "start_time": "2023-05-29T01:40:38.315537",
     "status": "completed"
    },
    "tags": []
   },
   "outputs": [],
   "source": [
    "LR = 1e-4\n",
    "EPOCHS = 50\n",
    "BATCH_SIZE = 32\n",
    "CROP_SIZE = 256\n",
    "Z_START = 24\n",
    "Z_DIMS = 16\n",
    "TRAIN_FRAGMENTS = [\"2\", \"3\"]\n",
    "TEST_FRAGMENT = \"1\"\n",
    "metric_direction = 'maximize'"
   ]
  },
  {
   "cell_type": "markdown",
   "id": "dfdedcf8",
   "metadata": {
    "papermill": {
     "duration": 0.01695,
     "end_time": "2023-05-29T01:40:38.376638",
     "exception": false,
     "start_time": "2023-05-29T01:40:38.359688",
     "status": "completed"
    },
    "tags": []
   },
   "source": [
    "### Load data"
   ]
  },
  {
   "cell_type": "code",
   "execution_count": 4,
   "id": "bb03b8ad",
   "metadata": {
    "execution": {
     "iopub.execute_input": "2023-05-29T01:40:38.413286Z",
     "iopub.status.busy": "2023-05-29T01:40:38.412924Z",
     "iopub.status.idle": "2023-05-29T01:40:38.479818Z",
     "shell.execute_reply": "2023-05-29T01:40:38.478568Z"
    },
    "papermill": {
     "duration": 0.088478,
     "end_time": "2023-05-29T01:40:38.482640",
     "exception": false,
     "start_time": "2023-05-29T01:40:38.394162",
     "status": "completed"
    },
    "tags": []
   },
   "outputs": [],
   "source": [
    "FRAGMENTS_ZARR = {\n",
    "    \"1\" : zarr.open(\"/kaggle/input/vesuvius-zarr-files/train-1.zarr\", mode=\"r\"),\n",
    "    \"2\" : zarr.open(\"/kaggle/input/vesuvius-zarr-files/train-2.zarr\", mode=\"r\"),\n",
    "    \"3\" : zarr.open(\"/kaggle/input/vesuvius-zarr-files/train-3.zarr\", mode=\"r\")\n",
    "}\n",
    "\n",
    "FRAGMENTS_SHAPE = {k : v.mask.shape for k, v in FRAGMENTS_ZARR.items()}"
   ]
  },
  {
   "cell_type": "markdown",
   "id": "66712aef",
   "metadata": {
    "papermill": {
     "duration": 0.016139,
     "end_time": "2023-05-29T01:40:38.515206",
     "exception": false,
     "start_time": "2023-05-29T01:40:38.499067",
     "status": "completed"
    },
    "tags": []
   },
   "source": [
    "### Visualise input"
   ]
  },
  {
   "cell_type": "code",
   "execution_count": 5,
   "id": "f9d11f12",
   "metadata": {
    "execution": {
     "iopub.execute_input": "2023-05-29T01:40:38.550103Z",
     "iopub.status.busy": "2023-05-29T01:40:38.549239Z",
     "iopub.status.idle": "2023-05-29T01:40:40.351314Z",
     "shell.execute_reply": "2023-05-29T01:40:40.350244Z"
    },
    "papermill": {
     "duration": 1.821797,
     "end_time": "2023-05-29T01:40:40.353909",
     "exception": false,
     "start_time": "2023-05-29T01:40:38.532112",
     "status": "completed"
    },
    "tags": []
   },
   "outputs": [
    {
     "data": {
      "text/html": [
       "<video src=\"fragment_crop.mp4\" controls  width=\"256\"  height=\"256\">\n",
       "      Your browser does not support the <code>video</code> element.\n",
       "    </video>"
      ],
      "text/plain": [
       "<IPython.core.display.Video object>"
      ]
     },
     "execution_count": 5,
     "metadata": {},
     "output_type": "execute_result"
    }
   ],
   "source": [
    "fragment = FRAGMENTS_ZARR[\"1\"]\n",
    "x, y = 2000, 2000\n",
    "\n",
    "fragment_cropped = fragment.surface_volume[y:y+CROP_SIZE, x:x+CROP_SIZE, Z_START:Z_START+Z_DIMS]\n",
    "imageio.mimwrite(\"fragment_crop.mp4\", fragment_cropped.transpose(2, 0, 1), \"ffmpeg\")\n",
    "Video(\"fragment_crop.mp4\", height=256, width=256)"
   ]
  },
  {
   "cell_type": "code",
   "execution_count": 6,
   "id": "db6fb652",
   "metadata": {
    "execution": {
     "iopub.execute_input": "2023-05-29T01:40:40.389678Z",
     "iopub.status.busy": "2023-05-29T01:40:40.389314Z",
     "iopub.status.idle": "2023-05-29T01:40:40.653307Z",
     "shell.execute_reply": "2023-05-29T01:40:40.652203Z"
    },
    "papermill": {
     "duration": 0.285932,
     "end_time": "2023-05-29T01:40:40.656877",
     "exception": false,
     "start_time": "2023-05-29T01:40:40.370945",
     "status": "completed"
    },
    "tags": []
   },
   "outputs": [
    {
     "data": {
      "image/png": "[encoded data removed]",
      "text/plain": [
       "<Figure size 600x300 with 2 Axes>"
      ]
     },
     "metadata": {},
     "output_type": "display_data"
    }
   ],
   "source": [
    "mask_cropped = fragment.truth[y:y+CROP_SIZE, x:x+CROP_SIZE]\n",
    "ir_cropped = fragment.infrared[y:y+CROP_SIZE, x:x+CROP_SIZE]\n",
    "\n",
    "plt.figure(figsize=(6, 3))\n",
    "plt.subplot(1, 2, 1)\n",
    "plt.imshow(mask_cropped, cmap=\"gray\")\n",
    "plt.axis(\"off\")\n",
    "\n",
    "plt.subplot(1, 2, 2)\n",
    "plt.imshow(ir_cropped, cmap=\"gray\")\n",
    "plt.axis(\"off\")\n",
    "plt.show()"
   ]
  },
  {
   "cell_type": "code",
   "execution_count": 7,
   "id": "6c3e2757",
   "metadata": {
    "execution": {
     "iopub.execute_input": "2023-05-29T01:40:40.716612Z",
     "iopub.status.busy": "2023-05-29T01:40:40.716248Z",
     "iopub.status.idle": "2023-05-29T01:40:40.864260Z",
     "shell.execute_reply": "2023-05-29T01:40:40.863266Z"
    },
    "papermill": {
     "duration": 0.171155,
     "end_time": "2023-05-29T01:40:40.866661",
     "exception": false,
     "start_time": "2023-05-29T01:40:40.695506",
     "status": "completed"
    },
    "tags": []
   },
   "outputs": [
    {
     "data": {
      "text/plain": [
       "3955"
      ]
     },
     "execution_count": 7,
     "metadata": {},
     "output_type": "execute_result"
    }
   ],
   "source": [
    "del fragment, fragment_cropped, mask_cropped, ir_cropped\n",
    "gc.collect()"
   ]
  },
  {
   "cell_type": "markdown",
   "id": "2c480154",
   "metadata": {
    "papermill": {
     "duration": 0.017421,
     "end_time": "2023-05-29T01:40:40.901763",
     "exception": false,
     "start_time": "2023-05-29T01:40:40.884342",
     "status": "completed"
    },
    "tags": []
   },
   "source": [
    "### Dataloaders"
   ]
  },
  {
   "cell_type": "code",
   "execution_count": 8,
   "id": "6007a30c",
   "metadata": {
    "execution": {
     "iopub.execute_input": "2023-05-29T01:40:40.938682Z",
     "iopub.status.busy": "2023-05-29T01:40:40.937716Z",
     "iopub.status.idle": "2023-05-29T01:40:40.952974Z",
     "shell.execute_reply": "2023-05-29T01:40:40.951784Z"
    },
    "papermill": {
     "duration": 0.036381,
     "end_time": "2023-05-29T01:40:40.955427",
     "exception": false,
     "start_time": "2023-05-29T01:40:40.919046",
     "status": "completed"
    },
    "tags": []
   },
   "outputs": [],
   "source": [
    "class VesuviusTrain(Dataset):\n",
    "    def __init__(self, fragments):\n",
    "        self.fragments = fragments\n",
    "        self.xys = []\n",
    "        \n",
    "        for fragment in fragments:\n",
    "            H, W = FRAGMENTS_SHAPE[fragment]\n",
    "            for y in range(0, H-CROP_SIZE+1, CROP_SIZE):\n",
    "                for x in range(0, W-CROP_SIZE+1, CROP_SIZE):\n",
    "                    self.xys.append((fragment, x, y, W, H))\n",
    "        \n",
    "    def __getitem__(self, i):\n",
    "        fragment, x1, y1, W, H = self.xys[i]\n",
    "        z1, z2 = Z_START, Z_START+Z_DIMS\n",
    "        \n",
    "        x_offset = random.randint(-32 if x1 != 0 else 0, 32)\n",
    "        y_offset = random.randint(-32 if y1 != 0 else 0, 32)\n",
    "        \n",
    "        x1 += x_offset\n",
    "        y1 += y_offset\n",
    "        \n",
    "        x2 = x1 + CROP_SIZE\n",
    "        y2 = y1 + CROP_SIZE\n",
    "        \n",
    "        if x2 > W:\n",
    "            x1 -= x_offset\n",
    "            x2 -= x_offset\n",
    "            \n",
    "        if y2 > H:\n",
    "            y1 -= y_offset\n",
    "            y2 -= y_offset\n",
    "        \n",
    "        frag_crop = FRAGMENTS_ZARR[fragment].surface_volume[y1:y2, x1:x2, z1:z2]\n",
    "        mask_crop = FRAGMENTS_ZARR[fragment].truth[y1:y2, x1:x2]\n",
    "        \n",
    "        if random.random() > 0.5:\n",
    "            frag_crop = np.flip(frag_crop, axis=1).copy()\n",
    "            mask_crop = np.flip(mask_crop, axis=1).copy()\n",
    "\n",
    "        frag_crop = torch.from_numpy(frag_crop.astype(np.float32)).unsqueeze(0).permute(0, 3, 1, 2)\n",
    "        frag_crop = frag_crop/65535.0\n",
    "        frag_crop = (frag_crop - 0.45)/0.225\n",
    "        \n",
    "        mask_crop = torch.from_numpy(mask_crop.astype(np.float32)).unsqueeze(0)\n",
    "        return frag_crop, mask_crop\n",
    "\n",
    "    def __len__(self):\n",
    "        return len(self.xys)"
   ]
  },
  {
   "cell_type": "code",
   "execution_count": 9,
   "id": "fae73fee",
   "metadata": {
    "execution": {
     "iopub.execute_input": "2023-05-29T01:40:40.991258Z",
     "iopub.status.busy": "2023-05-29T01:40:40.990938Z",
     "iopub.status.idle": "2023-05-29T01:40:41.002307Z",
     "shell.execute_reply": "2023-05-29T01:40:41.001285Z"
    },
    "papermill": {
     "duration": 0.031709,
     "end_time": "2023-05-29T01:40:41.004623",
     "exception": false,
     "start_time": "2023-05-29T01:40:40.972914",
     "status": "completed"
    },
    "tags": []
   },
   "outputs": [],
   "source": [
    "class VesuviusVal(Dataset):\n",
    "    def __init__(self, fragment):\n",
    "        self.fragment = FRAGMENTS_ZARR[fragment]\n",
    "        self.xys = []\n",
    "        \n",
    "        H, W = FRAGMENTS_SHAPE[fragment]\n",
    "        for y in range(0, H-CROP_SIZE+1, CROP_SIZE):\n",
    "            for x in range(0, W-CROP_SIZE+1, CROP_SIZE):\n",
    "                self.xys.append((x, y))\n",
    "                \n",
    "    def __getitem__(self, i):\n",
    "        x1, y1 = self.xys[i]\n",
    "        x2, y2 = x1+CROP_SIZE, y1+CROP_SIZE\n",
    "        z1, z2 = Z_START, Z_START+Z_DIMS\n",
    "        \n",
    "        frag_crop = self.fragment.surface_volume[y1:y2, x1:x2, z1:z2]\n",
    "        mask_crop = self.fragment.truth[y1:y2, x1:x2]\n",
    "\n",
    "        frag_crop = torch.from_numpy(frag_crop.astype(np.float32)).unsqueeze(0).permute(0, 3, 1, 2)\n",
    "        frag_crop = frag_crop/65535.0\n",
    "        frag_crop = (frag_crop - 0.45)/0.225\n",
    "        \n",
    "        mask_crop = torch.from_numpy(mask_crop.astype(np.float32)).unsqueeze(0)\n",
    "        return frag_crop, mask_crop, torch.tensor([x1, y1, x2, y2], dtype=torch.int32)\n",
    "\n",
    "    def __len__(self):\n",
    "        return len(self.xys)"
   ]
  },
  {
   "cell_type": "code",
   "execution_count": 10,
   "id": "2021f091",
   "metadata": {
    "execution": {
     "iopub.execute_input": "2023-05-29T01:40:41.042054Z",
     "iopub.status.busy": "2023-05-29T01:40:41.041302Z",
     "iopub.status.idle": "2023-05-29T01:40:41.049469Z",
     "shell.execute_reply": "2023-05-29T01:40:41.048510Z"
    },
    "papermill": {
     "duration": 0.029776,
     "end_time": "2023-05-29T01:40:41.052091",
     "exception": false,
     "start_time": "2023-05-29T01:40:41.022315",
     "status": "completed"
    },
    "tags": []
   },
   "outputs": [],
   "source": [
    "dataset_train = VesuviusTrain(TRAIN_FRAGMENTS)\n",
    "dataloader_train = DataLoader(dataset_train, batch_size=BATCH_SIZE, num_workers=2,\n",
    "                              shuffle=True, pin_memory=True, drop_last=True)\n",
    "n_train = len(dataloader_train)\n",
    "\n",
    "dataset_valid = VesuviusVal(TEST_FRAGMENT)\n",
    "dataloader_valid = DataLoader(dataset_valid, batch_size=BATCH_SIZE, num_workers=2,\n",
    "                              shuffle=False, pin_memory=True, drop_last=False)\n",
    "n_valid = len(dataloader_valid)"
   ]
  },
  {
   "cell_type": "code",
   "execution_count": 11,
   "id": "93822152",
   "metadata": {
    "execution": {
     "iopub.execute_input": "2023-05-29T01:40:41.088901Z",
     "iopub.status.busy": "2023-05-29T01:40:41.088619Z",
     "iopub.status.idle": "2023-05-29T01:40:41.093847Z",
     "shell.execute_reply": "2023-05-29T01:40:41.092893Z"
    },
    "papermill": {
     "duration": 0.026409,
     "end_time": "2023-05-29T01:40:41.096185",
     "exception": false,
     "start_time": "2023-05-29T01:40:41.069776",
     "status": "completed"
    },
    "tags": []
   },
   "outputs": [],
   "source": [
    "# len(dataset_train)"
   ]
  },
  {
   "cell_type": "markdown",
   "id": "60df088c",
   "metadata": {
    "papermill": {
     "duration": 0.017346,
     "end_time": "2023-05-29T01:40:41.131117",
     "exception": false,
     "start_time": "2023-05-29T01:40:41.113771",
     "status": "completed"
    },
    "tags": []
   },
   "source": [
    "### Model\n",
    "* Encoder is a 3D ResNet model. The architecture has been modified to remove temporal downsampling between blocks.\n",
    "* A 2D decoder is used for predicting the segmentation map.\n",
    "* The encoder feature maps are average pooled over the Z dimension before passing it to the decoder."
   ]
  },
  {
   "cell_type": "code",
   "execution_count": 12,
   "id": "da8285ea",
   "metadata": {
    "execution": {
     "iopub.execute_input": "2023-05-29T01:40:41.168980Z",
     "iopub.status.busy": "2023-05-29T01:40:41.168165Z",
     "iopub.status.idle": "2023-05-29T01:40:41.184949Z",
     "shell.execute_reply": "2023-05-29T01:40:41.183790Z"
    },
    "papermill": {
     "duration": 0.037867,
     "end_time": "2023-05-29T01:40:41.187303",
     "exception": false,
     "start_time": "2023-05-29T01:40:41.149436",
     "status": "completed"
    },
    "tags": []
   },
   "outputs": [],
   "source": [
    "class Decoder(nn.Module):\n",
    "    def __init__(self, encoder_dims, upscale):\n",
    "        super().__init__()\n",
    "        self.convs = nn.ModuleList([\n",
    "            nn.Sequential(\n",
    "                nn.Conv2d(encoder_dims[i]+encoder_dims[i-1], encoder_dims[i-1], 3, 1, 1, bias=False),\n",
    "                nn.BatchNorm2d(encoder_dims[i-1]),\n",
    "                nn.ReLU(inplace=True)\n",
    "            ) for i in range(1, len(encoder_dims))])\n",
    "\n",
    "        self.logit = nn.Conv2d(encoder_dims[0], 1, 1, 1, 0)\n",
    "        self.up = nn.Upsample(scale_factor=upscale, mode=\"bilinear\")\n",
    "\n",
    "    def forward(self, feature_maps):\n",
    "        for i in range(len(feature_maps)-1, 0, -1):\n",
    "            f_up = F.interpolate(feature_maps[i], scale_factor=2, mode=\"bilinear\")\n",
    "            f = torch.cat([feature_maps[i-1], f_up], dim=1)\n",
    "            f_down = self.convs[i-1](f)\n",
    "            feature_maps[i-1] = f_down\n",
    "\n",
    "        x = self.logit(feature_maps[0])\n",
    "        mask = self.up(x)\n",
    "        return mask\n",
    "\n",
    "\n",
    "class SegModel(nn.Module):\n",
    "    def __init__(self):\n",
    "        super().__init__()\n",
    "        self.encoder = generate_model(model_depth=34, n_input_channels=1)\n",
    "        self.decoder = Decoder(encoder_dims=[64, 128, 256, 512], upscale=4)\n",
    "        \n",
    "    def forward(self, x):\n",
    "        feat_maps = self.encoder(x)\n",
    "        feat_maps_pooled = [torch.mean(f, dim=2) for f in feat_maps]\n",
    "        pred_mask = self.decoder(feat_maps_pooled)\n",
    "        return pred_mask\n",
    "    \n",
    "    def load_pretrained_weights(self, state_dict):\n",
    "        # Convert 3 channel weights to single channel\n",
    "        # ref - https://timm.fast.ai/models#Case-1:-When-the-number-of-input-channels-is-1\n",
    "        conv1_weight = state_dict['conv1.weight']\n",
    "        state_dict['conv1.weight'] = conv1_weight.sum(dim=1, keepdim=True)\n",
    "        print(self.encoder.load_state_dict(state_dict, strict=False))\n",
    "        \n",
    "        \n",
    "def build_model():\n",
    "\n",
    "    model = SegModel()\n",
    "\n",
    "    return model"
   ]
  },
  {
   "cell_type": "code",
   "execution_count": 13,
   "id": "ab7a9c96",
   "metadata": {
    "execution": {
     "iopub.execute_input": "2023-05-29T01:40:41.226250Z",
     "iopub.status.busy": "2023-05-29T01:40:41.225386Z",
     "iopub.status.idle": "2023-05-29T01:40:46.853548Z",
     "shell.execute_reply": "2023-05-29T01:40:46.852406Z"
    },
    "papermill": {
     "duration": 5.650782,
     "end_time": "2023-05-29T01:40:46.856596",
     "exception": false,
     "start_time": "2023-05-29T01:40:41.205814",
     "status": "completed"
    },
    "tags": []
   },
   "outputs": [
    {
     "name": "stdout",
     "output_type": "stream",
     "text": [
      "_IncompatibleKeys(missing_keys=[], unexpected_keys=['fc.weight', 'fc.bias'])\n"
     ]
    }
   ],
   "source": [
    "model = SegModel()\n",
    "model.load_pretrained_weights(torch.load(\"r3d34_K_200ep.pth\")[\"state_dict\"])\n",
    "model = nn.DataParallel(model, device_ids=[0, 1])\n",
    "model = model.cuda()"
   ]
  },
  {
   "cell_type": "code",
   "execution_count": 14,
   "id": "19be8761",
   "metadata": {
    "execution": {
     "iopub.execute_input": "2023-05-29T01:40:46.894027Z",
     "iopub.status.busy": "2023-05-29T01:40:46.893018Z",
     "iopub.status.idle": "2023-05-29T01:40:46.898844Z",
     "shell.execute_reply": "2023-05-29T01:40:46.897716Z"
    },
    "papermill": {
     "duration": 0.026818,
     "end_time": "2023-05-29T01:40:46.901197",
     "exception": false,
     "start_time": "2023-05-29T01:40:46.874379",
     "status": "completed"
    },
    "tags": []
   },
   "outputs": [],
   "source": [
    "# class EnsembleModel(nn.Module):\n",
    "#     def __init__(self):\n",
    "#         super().__init__()\n",
    "#         self.model = nn.ModuleList()\n",
    "#         for fold in [1, 2, 3]:\n",
    "#             _model = build_model()\n",
    "#             _model.load_pretrained_weights(torch.load(\"r3d34_K_200ep.pth\")[\"state_dict\"])\n",
    "#             #_model.to(device)\n",
    "\n",
    "# #             model_path = f'/kaggle/input/vesuvius-models-public/{CFG.exp_name}/vesuvius-models/Unet_fold{fold}_best.pth'\n",
    "# #             state = torch.load(model_path)['model']\n",
    "# #             _model.load_state_dict(state)\n",
    "#             _model.train()\n",
    "\n",
    "#             self.model.append(_model)\n",
    "    \n",
    "#     def forward(self,x):\n",
    "#         output=[]\n",
    "#         for m in self.model:\n",
    "#             output.append(m(x))\n",
    "#         output=torch.stack(output,dim=0).mean(0)\n",
    "#         return output"
   ]
  },
  {
   "cell_type": "code",
   "execution_count": 15,
   "id": "f920cd95",
   "metadata": {
    "execution": {
     "iopub.execute_input": "2023-05-29T01:40:46.938315Z",
     "iopub.status.busy": "2023-05-29T01:40:46.937356Z",
     "iopub.status.idle": "2023-05-29T01:40:46.942148Z",
     "shell.execute_reply": "2023-05-29T01:40:46.941203Z"
    },
    "papermill": {
     "duration": 0.025797,
     "end_time": "2023-05-29T01:40:46.944514",
     "exception": false,
     "start_time": "2023-05-29T01:40:46.918717",
     "status": "completed"
    },
    "tags": []
   },
   "outputs": [],
   "source": [
    "# model = EnsembleModel()\n",
    "# model = nn.DataParallel(model, device_ids=[0, 1])\n",
    "# model = model.cuda()"
   ]
  },
  {
   "cell_type": "markdown",
   "id": "215f686a",
   "metadata": {
    "papermill": {
     "duration": 0.017021,
     "end_time": "2023-05-29T01:40:46.979060",
     "exception": false,
     "start_time": "2023-05-29T01:40:46.962039",
     "status": "completed"
    },
    "tags": []
   },
   "source": [
    "### Competition metric (F0.5 Score)"
   ]
  },
  {
   "cell_type": "code",
   "execution_count": 16,
   "id": "6fa648b3",
   "metadata": {
    "execution": {
     "iopub.execute_input": "2023-05-29T01:40:47.015398Z",
     "iopub.status.busy": "2023-05-29T01:40:47.014486Z",
     "iopub.status.idle": "2023-05-29T01:40:47.023620Z",
     "shell.execute_reply": "2023-05-29T01:40:47.022662Z"
    },
    "papermill": {
     "duration": 0.030035,
     "end_time": "2023-05-29T01:40:47.026199",
     "exception": false,
     "start_time": "2023-05-29T01:40:46.996164",
     "status": "completed"
    },
    "tags": []
   },
   "outputs": [],
   "source": [
    "# ref - https://www.kaggle.com/competitions/vesuvius-challenge-ink-detection/discussion/397288\n",
    "def fbeta_score(preds, targets, threshold, beta=1, smooth=1e-5):\n",
    "    preds_t = torch.where(preds > threshold, 1.0, 0.0).float()\n",
    "    y_true_count = targets.sum()\n",
    "    \n",
    "    ctp = preds_t[targets==1].sum()\n",
    "    cfp = preds_t[targets==0].sum()\n",
    "    beta_squared = beta * beta\n",
    "\n",
    "    c_precision = ctp / (ctp + cfp + smooth)\n",
    "    c_recall = ctp / (y_true_count + smooth)\n",
    "    dice = (1 + beta_squared) * (c_precision * c_recall) / (beta_squared * c_precision + c_recall + smooth)\n",
    "\n",
    "    return dice\n",
    "# def fbeta_numpy(targets, preds, beta=0.5, smooth=1e-5):\n",
    "#     \"\"\"\n",
    "#     https://www.kaggle.com/competitions/vesuvius-challenge-ink-detection/discussion/397288\n",
    "#     \"\"\"\n",
    "#     y_true_count = targets.sum()\n",
    "#     ctp = preds[targets==1].sum()\n",
    "#     cfp = preds[targets==0].sum()\n",
    "#     beta_squared = beta * beta\n",
    "\n",
    "#     c_precision = ctp / (ctp + cfp + smooth)\n",
    "#     c_recall = ctp / (y_true_count + smooth)\n",
    "#     dice = (1 + beta_squared) * (c_precision * c_recall) / (beta_squared * c_precision + c_recall + smooth)\n",
    "\n",
    "#     return dice\n",
    "\n",
    "# def calc_fbeta(mask, mask_pred):\n",
    "#     mask = mask.astype(int).flatten()\n",
    "# #     mask = mask.flatten()\n",
    "#     mask_pred = mask_pred.flatten()\n",
    "\n",
    "#     best_th = 0\n",
    "#     best_dice = 0\n",
    "#     for th in np.array(range(10, 50+1, 5)) / 100:\n",
    "        \n",
    "#         # dice = fbeta_score(mask, (mask_pred >= th).astype(int), beta=0.5)\n",
    "#         dice = fbeta_numpy(mask, (mask_pred >= th).astype(int), beta=0.5)\n",
    "#         print(f'th: {th}, fbeta: {dice}')\n",
    "\n",
    "#         if dice > best_dice:\n",
    "#             best_dice = dice\n",
    "#             best_th = th\n",
    "    \n",
    "#     Logger.info(f'best_th: {best_th}, fbeta: {best_dice}')\n",
    "#     return best_dice, best_th\n",
    "\n",
    "\n",
    "# def calc_cv(mask_gt, mask_pred):\n",
    "#     best_dice, best_th = calc_fbeta(mask_gt, mask_pred)\n",
    "\n",
    "#     return best_dice, best_th"
   ]
  },
  {
   "cell_type": "markdown",
   "id": "4b609427",
   "metadata": {
    "papermill": {
     "duration": 0.017824,
     "end_time": "2023-05-29T01:40:47.062365",
     "exception": false,
     "start_time": "2023-05-29T01:40:47.044541",
     "status": "completed"
    },
    "tags": []
   },
   "source": [
    "# 1. 验证集使用TTA"
   ]
  },
  {
   "cell_type": "code",
   "execution_count": 17,
   "id": "f1044056",
   "metadata": {
    "execution": {
     "iopub.execute_input": "2023-05-29T01:40:47.099159Z",
     "iopub.status.busy": "2023-05-29T01:40:47.098784Z",
     "iopub.status.idle": "2023-05-29T01:40:47.108497Z",
     "shell.execute_reply": "2023-05-29T01:40:47.107247Z"
    },
    "papermill": {
     "duration": 0.03095,
     "end_time": "2023-05-29T01:40:47.111104",
     "exception": false,
     "start_time": "2023-05-29T01:40:47.080154",
     "status": "completed"
    },
    "tags": []
   },
   "outputs": [],
   "source": [
    "TTA = True\n",
    "def TTA(x,model):\n",
    "    #x.shape=(batch,c,h,w)\n",
    "    if TTA:\n",
    "        shape=x.shape\n",
    "        x=[x,*[torch.rot90(x,k=i,dims=(-2,-1)) for i in range(1,4)]]\n",
    "        x=torch.cat(x,dim=0)\n",
    "        x=model(x)\n",
    "        x=torch.sigmoid(x)\n",
    "        x=x.reshape(4,shape[0],*shape[2:])\n",
    "        x=[torch.rot90(x[i],k=-i,dims=(-2,-1)) for i in range(4)]\n",
    "        x=torch.stack(x,dim=0)\n",
    "        return x.mean(0)\n",
    "    else :\n",
    "        x=model(x)\n",
    "        x=torch.sigmoid(x)\n",
    "        return x"
   ]
  },
  {
   "cell_type": "markdown",
   "id": "ea1098fd",
   "metadata": {
    "papermill": {
     "duration": 0.016923,
     "end_time": "2023-05-29T01:40:47.145714",
     "exception": false,
     "start_time": "2023-05-29T01:40:47.128791",
     "status": "completed"
    },
    "tags": []
   },
   "source": [
    "### Training"
   ]
  },
  {
   "cell_type": "markdown",
   "id": "cec5f723",
   "metadata": {
    "papermill": {
     "duration": 0.018503,
     "end_time": "2023-05-29T01:40:47.181616",
     "exception": false,
     "start_time": "2023-05-29T01:40:47.163113",
     "status": "completed"
    },
    "tags": []
   },
   "source": [
    "1. # LOSS"
   ]
  },
  {
   "cell_type": "code",
   "execution_count": 18,
   "id": "0220eacd",
   "metadata": {
    "execution": {
     "iopub.execute_input": "2023-05-29T01:40:47.217935Z",
     "iopub.status.busy": "2023-05-29T01:40:47.216990Z",
     "iopub.status.idle": "2023-05-29T01:41:06.154340Z",
     "shell.execute_reply": "2023-05-29T01:41:06.153016Z"
    },
    "papermill": {
     "duration": 18.958256,
     "end_time": "2023-05-29T01:41:06.157100",
     "exception": false,
     "start_time": "2023-05-29T01:40:47.198844",
     "status": "completed"
    },
    "scrolled": true,
    "tags": []
   },
   "outputs": [
    {
     "name": "stdout",
     "output_type": "stream",
     "text": [
      "Collecting segmentation_models_pytorch\r\n",
      "  Downloading segmentation_models_pytorch-0.3.3-py3-none-any.whl (106 kB)\r\n",
      "\u001b[2K     \u001b[90m━━━━━━━━━━━━━━━━━━━━━━━━━━━━━━━━━━━━━━━\u001b[0m \u001b[32m106.7/106.7 kB\u001b[0m \u001b[31m3.4 MB/s\u001b[0m eta \u001b[36m0:00:00\u001b[0m\r\n",
      "\u001b[?25hRequirement already satisfied: pillow in /opt/conda/lib/python3.7/site-packages (from segmentation_models_pytorch) (9.4.0)\r\n",
      "Requirement already satisfied: torchvision>=0.5.0 in /opt/conda/lib/python3.7/site-packages (from segmentation_models_pytorch) (0.14.0)\r\n",
      "Requirement already satisfied: tqdm in /opt/conda/lib/python3.7/site-packages (from segmentation_models_pytorch) (4.64.1)\r\n",
      "Collecting efficientnet-pytorch==0.7.1\r\n",
      "  Downloading efficientnet_pytorch-0.7.1.tar.gz (21 kB)\r\n",
      "  Preparing metadata (setup.py) ... \u001b[?25l-\b \bdone\r\n",
      "\u001b[?25hCollecting timm==0.9.2\r\n",
      "  Downloading timm-0.9.2-py3-none-any.whl (2.2 MB)\r\n",
      "\u001b[2K     \u001b[90m━━━━━━━━━━━━━━━━━━━━━━━━━━━━━━━━━━━━━━━━\u001b[0m \u001b[32m2.2/2.2 MB\u001b[0m \u001b[31m34.4 MB/s\u001b[0m eta \u001b[36m0:00:00\u001b[0m\r\n",
      "\u001b[?25hCollecting pretrainedmodels==0.7.4\r\n",
      "  Downloading pretrainedmodels-0.7.4.tar.gz (58 kB)\r\n",
      "\u001b[2K     \u001b[90m━━━━━━━━━━━━━━━━━━━━━━━━━━━━━━━━━━━━━━━━\u001b[0m \u001b[32m58.8/58.8 kB\u001b[0m \u001b[31m4.4 MB/s\u001b[0m eta \u001b[36m0:00:00\u001b[0m\r\n",
      "\u001b[?25h  Preparing metadata (setup.py) ... \u001b[?25l-\b \bdone\r\n",
      "\u001b[?25hRequirement already satisfied: torch in /opt/conda/lib/python3.7/site-packages (from efficientnet-pytorch==0.7.1->segmentation_models_pytorch) (1.13.0)\r\n",
      "Requirement already satisfied: munch in /opt/conda/lib/python3.7/site-packages (from pretrainedmodels==0.7.4->segmentation_models_pytorch) (2.5.0)\r\n",
      "Requirement already satisfied: huggingface-hub in /opt/conda/lib/python3.7/site-packages (from timm==0.9.2->segmentation_models_pytorch) (0.13.3)\r\n",
      "Collecting safetensors\r\n",
      "  Downloading safetensors-0.3.1-cp37-cp37m-manylinux_2_17_x86_64.manylinux2014_x86_64.whl (1.3 MB)\r\n",
      "\u001b[2K     \u001b[90m━━━━━━━━━━━━━━━━━━━━━━━━━━━━━━━━━━━━━━━━\u001b[0m \u001b[32m1.3/1.3 MB\u001b[0m \u001b[31m55.0 MB/s\u001b[0m eta \u001b[36m0:00:00\u001b[0m\r\n",
      "\u001b[?25hRequirement already satisfied: pyyaml in /opt/conda/lib/python3.7/site-packages (from timm==0.9.2->segmentation_models_pytorch) (6.0)\r\n",
      "Requirement already satisfied: typing-extensions in /opt/conda/lib/python3.7/site-packages (from torchvision>=0.5.0->segmentation_models_pytorch) (4.4.0)\r\n",
      "Requirement already satisfied: requests in /opt/conda/lib/python3.7/site-packages (from torchvision>=0.5.0->segmentation_models_pytorch) (2.28.2)\r\n",
      "Requirement already satisfied: numpy in /opt/conda/lib/python3.7/site-packages (from torchvision>=0.5.0->segmentation_models_pytorch) (1.21.6)\r\n",
      "Requirement already satisfied: filelock in /opt/conda/lib/python3.7/site-packages (from huggingface-hub->timm==0.9.2->segmentation_models_pytorch) (3.9.0)\r\n",
      "Requirement already satisfied: importlib-metadata in /opt/conda/lib/python3.7/site-packages (from huggingface-hub->timm==0.9.2->segmentation_models_pytorch) (4.11.4)\r\n",
      "Requirement already satisfied: packaging>=20.9 in /opt/conda/lib/python3.7/site-packages (from huggingface-hub->timm==0.9.2->segmentation_models_pytorch) (23.0)\r\n",
      "Requirement already satisfied: six in /opt/conda/lib/python3.7/site-packages (from munch->pretrainedmodels==0.7.4->segmentation_models_pytorch) (1.16.0)\r\n",
      "Requirement already satisfied: charset-normalizer<4,>=2 in /opt/conda/lib/python3.7/site-packages (from requests->torchvision>=0.5.0->segmentation_models_pytorch) (2.1.1)\r\n",
      "Requirement already satisfied: idna<4,>=2.5 in /opt/conda/lib/python3.7/site-packages (from requests->torchvision>=0.5.0->segmentation_models_pytorch) (3.4)\r\n",
      "Requirement already satisfied: urllib3<1.27,>=1.21.1 in /opt/conda/lib/python3.7/site-packages (from requests->torchvision>=0.5.0->segmentation_models_pytorch) (1.26.14)\r\n",
      "Requirement already satisfied: certifi>=2017.4.17 in /opt/conda/lib/python3.7/site-packages (from requests->torchvision>=0.5.0->segmentation_models_pytorch) (2022.12.7)\r\n",
      "Requirement already satisfied: zipp>=0.5 in /opt/conda/lib/python3.7/site-packages (from importlib-metadata->huggingface-hub->timm==0.9.2->segmentation_models_pytorch) (3.11.0)\r\n",
      "Building wheels for collected packages: efficientnet-pytorch, pretrainedmodels\r\n",
      "  Building wheel for efficientnet-pytorch (setup.py) ... \u001b[?25l-\b \bdone\r\n",
      "\u001b[?25h  Created wheel for efficientnet-pytorch: filename=efficientnet_pytorch-0.7.1-py3-none-any.whl size=16446 sha256=e1bb0e4689f55b94ba6942e35309bd0c27f4f8113114757a04eefb97b6b30785\r\n",
      "  Stored in directory: /root/.cache/pip/wheels/96/3f/5f/13976445f67f3b4e77b054e65f7f4c39016e92e8358fe088db\r\n",
      "  Building wheel for pretrainedmodels (setup.py) ... \u001b[?25l-\b \b\\\b \bdone\r\n",
      "\u001b[?25h  Created wheel for pretrainedmodels: filename=pretrainedmodels-0.7.4-py3-none-any.whl size=60966 sha256=b59f406321176efc006da76a32cf14161065c8758dd62077f724dba6b4285560\r\n",
      "  Stored in directory: /root/.cache/pip/wheels/4f/89/a3/5cf59e30a8a75c917c313f14da0f6209be2d147e3160b985d6\r\n",
      "Successfully built efficientnet-pytorch pretrainedmodels\r\n",
      "Installing collected packages: safetensors, efficientnet-pytorch, timm, pretrainedmodels, segmentation_models_pytorch\r\n",
      "  Attempting uninstall: timm\r\n",
      "    Found existing installation: timm 0.6.13\r\n",
      "    Uninstalling timm-0.6.13:\r\n",
      "      Successfully uninstalled timm-0.6.13\r\n",
      "Successfully installed efficientnet-pytorch-0.7.1 pretrainedmodels-0.7.4 safetensors-0.3.1 segmentation_models_pytorch-0.3.3 timm-0.9.2\r\n",
      "\u001b[33mWARNING: Running pip as the 'root' user can result in broken permissions and conflicting behaviour with the system package manager. It is recommended to use a virtual environment instead: https://pip.pypa.io/warnings/venv\u001b[0m\u001b[33m\r\n",
      "\u001b[0m"
     ]
    }
   ],
   "source": [
    "!pip install segmentation_models_pytorch"
   ]
  },
  {
   "cell_type": "code",
   "execution_count": 19,
   "id": "eb92a239",
   "metadata": {
    "execution": {
     "iopub.execute_input": "2023-05-29T01:41:06.200034Z",
     "iopub.status.busy": "2023-05-29T01:41:06.199665Z",
     "iopub.status.idle": "2023-05-29T01:41:09.704086Z",
     "shell.execute_reply": "2023-05-29T01:41:09.702686Z"
    },
    "papermill": {
     "duration": 3.529047,
     "end_time": "2023-05-29T01:41:09.707205",
     "exception": false,
     "start_time": "2023-05-29T01:41:06.178158",
     "status": "completed"
    },
    "tags": []
   },
   "outputs": [],
   "source": [
    "import segmentation_models_pytorch as smp"
   ]
  },
  {
   "cell_type": "code",
   "execution_count": 20,
   "id": "4a501402",
   "metadata": {
    "execution": {
     "iopub.execute_input": "2023-05-29T01:41:09.748776Z",
     "iopub.status.busy": "2023-05-29T01:41:09.748440Z",
     "iopub.status.idle": "2023-05-29T01:41:09.756290Z",
     "shell.execute_reply": "2023-05-29T01:41:09.755237Z"
    },
    "papermill": {
     "duration": 0.031423,
     "end_time": "2023-05-29T01:41:09.758714",
     "exception": false,
     "start_time": "2023-05-29T01:41:09.727291",
     "status": "completed"
    },
    "tags": []
   },
   "outputs": [],
   "source": [
    "DiceLoss = smp.losses.DiceLoss(mode='binary')\n",
    "BCELoss = smp.losses.SoftBCEWithLogitsLoss()\n",
    "\n",
    "alpha = 0.5\n",
    "beta = 1 - alpha\n",
    "TverskyLoss = smp.losses.TverskyLoss(\n",
    "    mode='binary', log_loss=False, alpha=alpha, beta=beta)\n",
    "\n",
    "def criterion(y_pred, y_true):\n",
    "    return 0.5 * BCELoss(y_pred, y_true) + 0.5 * DiceLoss(y_pred, y_true)\n",
    "#     return BCELoss(y_pred, y_true)\n",
    "    # return 0.5 * BCELoss(y_pred, y_true) + 0.5 * TverskyLoss(y_pred, y_true)"
   ]
  },
  {
   "cell_type": "code",
   "execution_count": 21,
   "id": "3d2c02a8",
   "metadata": {
    "execution": {
     "iopub.execute_input": "2023-05-29T01:41:09.799894Z",
     "iopub.status.busy": "2023-05-29T01:41:09.799241Z",
     "iopub.status.idle": "2023-05-29T01:41:09.806608Z",
     "shell.execute_reply": "2023-05-29T01:41:09.805666Z"
    },
    "papermill": {
     "duration": 0.030553,
     "end_time": "2023-05-29T01:41:09.808819",
     "exception": false,
     "start_time": "2023-05-29T01:41:09.778266",
     "status": "completed"
    },
    "tags": []
   },
   "outputs": [],
   "source": [
    "scaler = amp.GradScaler()\n",
    "# criterion = nn.BCEWithLogitsLoss()\n",
    "\n",
    "optimizer = torch.optim.AdamW(model.parameters(), lr=LR)\n",
    "scheduler = torch.optim.lr_scheduler.OneCycleLR(optimizer, max_lr=LR,\n",
    "                                                steps_per_epoch=10, epochs=EPOCHS//10,\n",
    "                                                pct_start=0.1)"
   ]
  },
  {
   "cell_type": "code",
   "execution_count": 22,
   "id": "cdd7e96d",
   "metadata": {
    "execution": {
     "iopub.execute_input": "2023-05-29T01:41:09.850012Z",
     "iopub.status.busy": "2023-05-29T01:41:09.849139Z",
     "iopub.status.idle": "2023-05-29T01:41:10.346334Z",
     "shell.execute_reply": "2023-05-29T01:41:10.341918Z"
    },
    "papermill": {
     "duration": 0.521491,
     "end_time": "2023-05-29T01:41:10.350117",
     "exception": false,
     "start_time": "2023-05-29T01:41:09.828626",
     "status": "completed"
    },
    "tags": []
   },
   "outputs": [],
   "source": [
    "gt_mask = torch.from_numpy(np.asarray(FRAGMENTS_ZARR[TEST_FRAGMENT].truth)).float().cuda()\n",
    "# gt_mask = \n",
    "gt_shape = FRAGMENTS_SHAPE[TEST_FRAGMENT]"
   ]
  },
  {
   "cell_type": "code",
   "execution_count": 23,
   "id": "0c48f0ac",
   "metadata": {
    "execution": {
     "iopub.execute_input": "2023-05-29T01:41:10.435969Z",
     "iopub.status.busy": "2023-05-29T01:41:10.434449Z",
     "iopub.status.idle": "2023-05-29T01:41:10.447834Z",
     "shell.execute_reply": "2023-05-29T01:41:10.445976Z"
    },
    "papermill": {
     "duration": 0.056491,
     "end_time": "2023-05-29T01:41:10.451855",
     "exception": false,
     "start_time": "2023-05-29T01:41:10.395364",
     "status": "completed"
    },
    "tags": []
   },
   "outputs": [
    {
     "data": {
      "text/plain": [
       "torch.Tensor"
      ]
     },
     "execution_count": 23,
     "metadata": {},
     "output_type": "execute_result"
    }
   ],
   "source": [
    "type(gt_mask)"
   ]
  },
  {
   "cell_type": "code",
   "execution_count": 24,
   "id": "d64a0ccc",
   "metadata": {
    "execution": {
     "iopub.execute_input": "2023-05-29T01:41:10.515170Z",
     "iopub.status.busy": "2023-05-29T01:41:10.514839Z",
     "iopub.status.idle": "2023-05-29T03:15:23.456767Z",
     "shell.execute_reply": "2023-05-29T03:15:23.455389Z"
    },
    "papermill": {
     "duration": 5652.979267,
     "end_time": "2023-05-29T03:15:23.459654",
     "exception": false,
     "start_time": "2023-05-29T01:41:10.480387",
     "status": "completed"
    },
    "tags": []
   },
   "outputs": [
    {
     "name": "stderr",
     "output_type": "stream",
     "text": [
      "Epoch 1/50  Mem : 9.05GB  LR : 4.00E-06  Loss: 0.7021: 100%|██████████| 84/84 [02:37<00:00,  1.88s/it]\n",
      "Val Loss: 0.6569: 100%|██████████| 24/24 [00:48<00:00,  2.00s/it]\n"
     ]
    },
    {
     "name": "stdout",
     "output_type": "stream",
     "text": [
      "Threshold : 0.20\tFBeta : 0.203592\n",
      "Threshold : 0.25\tFBeta : 0.241138\n",
      "Threshold : 0.30\tFBeta : 0.291479\n",
      "Threshold : 0.35\tFBeta : 0.315835\n",
      "Threshold : 0.40\tFBeta : 0.325633\n",
      "Threshold : 0.45\tFBeta : 0.332911\n",
      "Threshold : 0.50\tFBeta : 0.346255\n",
      "Threshold : 0.55\tFBeta : 0.366821\n",
      "Threshold : 0.60\tFBeta : 0.374458\n",
      "\n"
     ]
    },
    {
     "name": "stderr",
     "output_type": "stream",
     "text": [
      "Epoch 2/50  Mem : 11.2GB  LR : 1.81E-05  Loss: 0.6562: 100%|██████████| 84/84 [02:22<00:00,  1.69s/it]\n",
      "Val Loss: 0.6905: 100%|██████████| 24/24 [00:46<00:00,  1.96s/it]\n"
     ]
    },
    {
     "name": "stdout",
     "output_type": "stream",
     "text": [
      "Threshold : 0.20\tFBeta : 0.213688\n",
      "Threshold : 0.25\tFBeta : 0.317485\n",
      "Threshold : 0.30\tFBeta : 0.329006\n",
      "Threshold : 0.35\tFBeta : 0.332901\n",
      "Threshold : 0.40\tFBeta : 0.339723\n",
      "Threshold : 0.45\tFBeta : 0.354773\n",
      "Threshold : 0.50\tFBeta : 0.366863\n",
      "Threshold : 0.55\tFBeta : 0.370393\n",
      "Threshold : 0.60\tFBeta : 0.368177\n",
      "\n"
     ]
    },
    {
     "name": "stderr",
     "output_type": "stream",
     "text": [
      "Epoch 3/50  Mem : 11.2GB  LR : 5.20E-05  Loss: 0.6102: 100%|██████████| 84/84 [02:19<00:00,  1.67s/it]\n",
      "Val Loss: 0.6669: 100%|██████████| 24/24 [00:46<00:00,  1.96s/it]\n"
     ]
    },
    {
     "name": "stdout",
     "output_type": "stream",
     "text": [
      "Threshold : 0.20\tFBeta : 0.320213\n",
      "Threshold : 0.25\tFBeta : 0.330760\n",
      "Threshold : 0.30\tFBeta : 0.339546\n",
      "Threshold : 0.35\tFBeta : 0.353758\n",
      "Threshold : 0.40\tFBeta : 0.365585\n",
      "Threshold : 0.45\tFBeta : 0.375260\n",
      "Threshold : 0.50\tFBeta : 0.382382\n",
      "Threshold : 0.55\tFBeta : 0.390403\n",
      "Threshold : 0.60\tFBeta : 0.398524\n",
      "\n"
     ]
    },
    {
     "name": "stderr",
     "output_type": "stream",
     "text": [
      "Epoch 4/50  Mem : 11.2GB  LR : 8.59E-05  Loss: 0.5757: 100%|██████████| 84/84 [02:19<00:00,  1.66s/it]\n",
      "Val Loss: 0.5918: 100%|██████████| 24/24 [00:46<00:00,  1.95s/it]\n"
     ]
    },
    {
     "name": "stdout",
     "output_type": "stream",
     "text": [
      "Threshold : 0.20\tFBeta : 0.339477\n",
      "Threshold : 0.25\tFBeta : 0.367286\n",
      "Threshold : 0.30\tFBeta : 0.384360\n",
      "Threshold : 0.35\tFBeta : 0.394333\n",
      "Threshold : 0.40\tFBeta : 0.400004\n",
      "Threshold : 0.45\tFBeta : 0.404634\n",
      "Threshold : 0.50\tFBeta : 0.409126\n",
      "Threshold : 0.55\tFBeta : 0.414395\n",
      "Threshold : 0.60\tFBeta : 0.418919\n",
      "\n"
     ]
    },
    {
     "name": "stderr",
     "output_type": "stream",
     "text": [
      "Epoch 5/50  Mem : 11.2GB  LR : 1.00E-04  Loss: 0.5382: 100%|██████████| 84/84 [02:19<00:00,  1.66s/it]\n",
      "Val Loss: 0.7739: 100%|██████████| 24/24 [00:47<00:00,  1.98s/it]\n"
     ]
    },
    {
     "name": "stdout",
     "output_type": "stream",
     "text": [
      "Threshold : 0.20\tFBeta : 0.332409\n",
      "Threshold : 0.25\tFBeta : 0.339832\n",
      "Threshold : 0.30\tFBeta : 0.345545\n",
      "Threshold : 0.35\tFBeta : 0.349860\n",
      "Threshold : 0.40\tFBeta : 0.353651\n",
      "Threshold : 0.45\tFBeta : 0.357416\n",
      "Threshold : 0.50\tFBeta : 0.361851\n",
      "Threshold : 0.55\tFBeta : 0.368165\n",
      "Threshold : 0.60\tFBeta : 0.374667\n",
      "\n"
     ]
    },
    {
     "name": "stderr",
     "output_type": "stream",
     "text": [
      "Epoch 6/50  Mem : 11.2GB  LR : 9.99E-05  Loss: 0.5007: 100%|██████████| 84/84 [02:20<00:00,  1.67s/it]\n",
      "Val Loss: 0.5082: 100%|██████████| 24/24 [00:46<00:00,  1.96s/it]\n"
     ]
    },
    {
     "name": "stdout",
     "output_type": "stream",
     "text": [
      "Threshold : 0.20\tFBeta : 0.434362\n",
      "Threshold : 0.25\tFBeta : 0.431473\n",
      "Threshold : 0.30\tFBeta : 0.420090\n",
      "Threshold : 0.35\tFBeta : 0.409234\n",
      "Threshold : 0.40\tFBeta : 0.398655\n",
      "Threshold : 0.45\tFBeta : 0.387531\n",
      "Threshold : 0.50\tFBeta : 0.373458\n",
      "Threshold : 0.55\tFBeta : 0.352829\n",
      "Threshold : 0.60\tFBeta : 0.330292\n",
      "\n"
     ]
    },
    {
     "name": "stderr",
     "output_type": "stream",
     "text": [
      "Epoch 7/50  Mem : 11.2GB  LR : 9.95E-05  Loss: 0.4830: 100%|██████████| 84/84 [02:19<00:00,  1.66s/it]\n",
      "Val Loss: 0.5479: 100%|██████████| 24/24 [00:46<00:00,  1.95s/it]\n"
     ]
    },
    {
     "name": "stdout",
     "output_type": "stream",
     "text": [
      "Threshold : 0.20\tFBeta : 0.267614\n",
      "Threshold : 0.25\tFBeta : 0.182762\n",
      "Threshold : 0.30\tFBeta : 0.155755\n",
      "Threshold : 0.35\tFBeta : 0.136450\n",
      "Threshold : 0.40\tFBeta : 0.121226\n",
      "Threshold : 0.45\tFBeta : 0.107510\n",
      "Threshold : 0.50\tFBeta : 0.082077\n",
      "Threshold : 0.55\tFBeta : 0.061922\n",
      "Threshold : 0.60\tFBeta : 0.050782\n",
      "\n"
     ]
    },
    {
     "name": "stderr",
     "output_type": "stream",
     "text": [
      "Epoch 8/50  Mem : 11.2GB  LR : 9.89E-05  Loss: 0.4570: 100%|██████████| 84/84 [02:20<00:00,  1.67s/it]\n",
      "Val Loss: 0.4808: 100%|██████████| 24/24 [00:46<00:00,  1.95s/it]\n"
     ]
    },
    {
     "name": "stdout",
     "output_type": "stream",
     "text": [
      "Threshold : 0.20\tFBeta : 0.456639\n",
      "Threshold : 0.25\tFBeta : 0.447457\n",
      "Threshold : 0.30\tFBeta : 0.440336\n",
      "Threshold : 0.35\tFBeta : 0.433508\n",
      "Threshold : 0.40\tFBeta : 0.425937\n",
      "Threshold : 0.45\tFBeta : 0.417235\n",
      "Threshold : 0.50\tFBeta : 0.399704\n",
      "Threshold : 0.55\tFBeta : 0.376441\n",
      "Threshold : 0.60\tFBeta : 0.359556\n",
      "\n"
     ]
    },
    {
     "name": "stderr",
     "output_type": "stream",
     "text": [
      "Epoch 9/50  Mem : 11.2GB  LR : 9.81E-05  Loss: 0.4412: 100%|██████████| 84/84 [02:20<00:00,  1.67s/it]\n",
      "Val Loss: 0.4719: 100%|██████████| 24/24 [00:46<00:00,  1.95s/it]\n"
     ]
    },
    {
     "name": "stdout",
     "output_type": "stream",
     "text": [
      "Threshold : 0.20\tFBeta : 0.441569\n",
      "Threshold : 0.25\tFBeta : 0.445106\n",
      "Threshold : 0.30\tFBeta : 0.446285\n",
      "Threshold : 0.35\tFBeta : 0.446228\n",
      "Threshold : 0.40\tFBeta : 0.445137\n",
      "Threshold : 0.45\tFBeta : 0.443387\n",
      "Threshold : 0.50\tFBeta : 0.430704\n",
      "Threshold : 0.55\tFBeta : 0.416207\n",
      "Threshold : 0.60\tFBeta : 0.402865\n",
      "\n"
     ]
    },
    {
     "name": "stderr",
     "output_type": "stream",
     "text": [
      "Epoch 10/50  Mem : 11.2GB  LR : 9.70E-05  Loss: 0.4210: 100%|██████████| 84/84 [02:19<00:00,  1.66s/it]\n",
      "Val Loss: 0.5703: 100%|██████████| 24/24 [00:46<00:00,  1.95s/it]\n"
     ]
    },
    {
     "name": "stdout",
     "output_type": "stream",
     "text": [
      "Threshold : 0.20\tFBeta : 0.131251\n",
      "Threshold : 0.25\tFBeta : 0.111554\n",
      "Threshold : 0.30\tFBeta : 0.099055\n",
      "Threshold : 0.35\tFBeta : 0.090268\n",
      "Threshold : 0.40\tFBeta : 0.083160\n",
      "Threshold : 0.45\tFBeta : 0.076971\n",
      "Threshold : 0.50\tFBeta : 0.068696\n",
      "Threshold : 0.55\tFBeta : 0.059292\n",
      "Threshold : 0.60\tFBeta : 0.051168\n",
      "\n"
     ]
    },
    {
     "name": "stderr",
     "output_type": "stream",
     "text": [
      "Epoch 11/50  Mem : 11.2GB  LR : 9.57E-05  Loss: 0.4093: 100%|██████████| 84/84 [02:21<00:00,  1.68s/it]\n",
      "Val Loss: 0.5435: 100%|██████████| 24/24 [00:46<00:00,  1.96s/it]\n"
     ]
    },
    {
     "name": "stdout",
     "output_type": "stream",
     "text": [
      "Threshold : 0.20\tFBeta : 0.247148\n",
      "Threshold : 0.25\tFBeta : 0.221092\n",
      "Threshold : 0.30\tFBeta : 0.204815\n",
      "Threshold : 0.35\tFBeta : 0.192233\n",
      "Threshold : 0.40\tFBeta : 0.182056\n",
      "Threshold : 0.45\tFBeta : 0.172290\n",
      "Threshold : 0.50\tFBeta : 0.158899\n",
      "Threshold : 0.55\tFBeta : 0.144656\n",
      "Threshold : 0.60\tFBeta : 0.131553\n",
      "\n"
     ]
    },
    {
     "name": "stderr",
     "output_type": "stream",
     "text": [
      "Epoch 12/50  Mem : 11.2GB  LR : 9.41E-05  Loss: 0.3883: 100%|██████████| 84/84 [02:20<00:00,  1.67s/it]\n",
      "Val Loss: 0.9988: 100%|██████████| 24/24 [00:46<00:00,  1.95s/it]\n"
     ]
    },
    {
     "name": "stdout",
     "output_type": "stream",
     "text": [
      "Threshold : 0.20\tFBeta : 0.360715\n",
      "Threshold : 0.25\tFBeta : 0.365922\n",
      "Threshold : 0.30\tFBeta : 0.369421\n",
      "Threshold : 0.35\tFBeta : 0.371981\n",
      "Threshold : 0.40\tFBeta : 0.374021\n",
      "Threshold : 0.45\tFBeta : 0.375869\n",
      "Threshold : 0.50\tFBeta : 0.378206\n",
      "Threshold : 0.55\tFBeta : 0.381125\n",
      "Threshold : 0.60\tFBeta : 0.384125\n",
      "\n"
     ]
    },
    {
     "name": "stderr",
     "output_type": "stream",
     "text": [
      "Epoch 13/50  Mem : 11.2GB  LR : 9.24E-05  Loss: 0.3838: 100%|██████████| 84/84 [02:20<00:00,  1.67s/it]\n",
      "Val Loss: 1.2115: 100%|██████████| 24/24 [00:46<00:00,  1.95s/it]\n"
     ]
    },
    {
     "name": "stdout",
     "output_type": "stream",
     "text": [
      "Threshold : 0.20\tFBeta : 0.332502\n",
      "Threshold : 0.25\tFBeta : 0.333934\n",
      "Threshold : 0.30\tFBeta : 0.335144\n",
      "Threshold : 0.35\tFBeta : 0.336237\n",
      "Threshold : 0.40\tFBeta : 0.337302\n",
      "Threshold : 0.45\tFBeta : 0.338451\n",
      "Threshold : 0.50\tFBeta : 0.340157\n",
      "Threshold : 0.55\tFBeta : 0.342314\n",
      "Threshold : 0.60\tFBeta : 0.344717\n",
      "\n"
     ]
    },
    {
     "name": "stderr",
     "output_type": "stream",
     "text": [
      "Epoch 14/50  Mem : 11.2GB  LR : 9.05E-05  Loss: 0.3623: 100%|██████████| 84/84 [02:20<00:00,  1.68s/it]\n",
      "Val Loss: 0.4661: 100%|██████████| 24/24 [00:46<00:00,  1.95s/it]\n"
     ]
    },
    {
     "name": "stdout",
     "output_type": "stream",
     "text": [
      "Threshold : 0.20\tFBeta : 0.437065\n",
      "Threshold : 0.25\tFBeta : 0.425465\n",
      "Threshold : 0.30\tFBeta : 0.416519\n",
      "Threshold : 0.35\tFBeta : 0.408721\n",
      "Threshold : 0.40\tFBeta : 0.401293\n",
      "Threshold : 0.45\tFBeta : 0.392350\n",
      "Threshold : 0.50\tFBeta : 0.372456\n",
      "Threshold : 0.55\tFBeta : 0.352973\n",
      "Threshold : 0.60\tFBeta : 0.336742\n",
      "\n"
     ]
    },
    {
     "name": "stderr",
     "output_type": "stream",
     "text": [
      "Epoch 15/50  Mem : 11.2GB  LR : 8.83E-05  Loss: 0.3576: 100%|██████████| 84/84 [02:19<00:00,  1.67s/it]\n",
      "Val Loss: 1.0748: 100%|██████████| 24/24 [00:46<00:00,  1.95s/it]\n"
     ]
    },
    {
     "name": "stdout",
     "output_type": "stream",
     "text": [
      "Threshold : 0.20\tFBeta : 0.350822\n",
      "Threshold : 0.25\tFBeta : 0.353574\n",
      "Threshold : 0.30\tFBeta : 0.355569\n",
      "Threshold : 0.35\tFBeta : 0.357264\n",
      "Threshold : 0.40\tFBeta : 0.358947\n",
      "Threshold : 0.45\tFBeta : 0.360713\n",
      "Threshold : 0.50\tFBeta : 0.365633\n",
      "Threshold : 0.55\tFBeta : 0.369374\n",
      "Threshold : 0.60\tFBeta : 0.372595\n",
      "\n"
     ]
    },
    {
     "name": "stderr",
     "output_type": "stream",
     "text": [
      "Epoch 16/50  Mem : 11.2GB  LR : 8.60E-05  Loss: 0.3383: 100%|██████████| 84/84 [02:19<00:00,  1.66s/it]\n",
      "Val Loss: 0.5947: 100%|██████████| 24/24 [00:47<00:00,  1.97s/it]\n"
     ]
    },
    {
     "name": "stdout",
     "output_type": "stream",
     "text": [
      "Threshold : 0.20\tFBeta : 0.397372\n",
      "Threshold : 0.25\tFBeta : 0.401405\n",
      "Threshold : 0.30\tFBeta : 0.404558\n",
      "Threshold : 0.35\tFBeta : 0.407444\n",
      "Threshold : 0.40\tFBeta : 0.410087\n",
      "Threshold : 0.45\tFBeta : 0.412878\n",
      "Threshold : 0.50\tFBeta : 0.417265\n",
      "Threshold : 0.55\tFBeta : 0.422168\n",
      "Threshold : 0.60\tFBeta : 0.426445\n",
      "\n"
     ]
    },
    {
     "name": "stderr",
     "output_type": "stream",
     "text": [
      "Epoch 17/50  Mem : 11.2GB  LR : 8.35E-05  Loss: 0.3247: 100%|██████████| 84/84 [02:20<00:00,  1.68s/it]\n",
      "Val Loss: 0.4761: 100%|██████████| 24/24 [00:46<00:00,  1.95s/it]\n"
     ]
    },
    {
     "name": "stdout",
     "output_type": "stream",
     "text": [
      "Threshold : 0.20\tFBeta : 0.423728\n",
      "Threshold : 0.25\tFBeta : 0.418591\n",
      "Threshold : 0.30\tFBeta : 0.413632\n",
      "Threshold : 0.35\tFBeta : 0.408405\n",
      "Threshold : 0.40\tFBeta : 0.403007\n",
      "Threshold : 0.45\tFBeta : 0.396394\n",
      "Threshold : 0.50\tFBeta : 0.384977\n",
      "Threshold : 0.55\tFBeta : 0.371734\n",
      "Threshold : 0.60\tFBeta : 0.357853\n",
      "\n"
     ]
    },
    {
     "name": "stderr",
     "output_type": "stream",
     "text": [
      "Epoch 18/50  Mem : 11.2GB  LR : 8.08E-05  Loss: 0.3229: 100%|██████████| 84/84 [02:19<00:00,  1.66s/it]\n",
      "Val Loss: 0.5097: 100%|██████████| 24/24 [00:46<00:00,  1.94s/it]\n"
     ]
    },
    {
     "name": "stdout",
     "output_type": "stream",
     "text": [
      "Threshold : 0.20\tFBeta : 0.362714\n",
      "Threshold : 0.25\tFBeta : 0.353615\n",
      "Threshold : 0.30\tFBeta : 0.345692\n",
      "Threshold : 0.35\tFBeta : 0.339495\n",
      "Threshold : 0.40\tFBeta : 0.333813\n",
      "Threshold : 0.45\tFBeta : 0.328250\n",
      "Threshold : 0.50\tFBeta : 0.321550\n",
      "Threshold : 0.55\tFBeta : 0.312896\n",
      "Threshold : 0.60\tFBeta : 0.301833\n",
      "\n"
     ]
    },
    {
     "name": "stderr",
     "output_type": "stream",
     "text": [
      "Epoch 19/50  Mem : 11.2GB  LR : 7.80E-05  Loss: 0.3042: 100%|██████████| 84/84 [02:20<00:00,  1.67s/it]\n",
      "Val Loss: 0.4462: 100%|██████████| 24/24 [00:46<00:00,  1.95s/it]\n"
     ]
    },
    {
     "name": "stdout",
     "output_type": "stream",
     "text": [
      "Threshold : 0.20\tFBeta : 0.482840\n",
      "Threshold : 0.25\tFBeta : 0.482317\n",
      "Threshold : 0.30\tFBeta : 0.481498\n",
      "Threshold : 0.35\tFBeta : 0.480785\n",
      "Threshold : 0.40\tFBeta : 0.479981\n",
      "Threshold : 0.45\tFBeta : 0.478887\n",
      "Threshold : 0.50\tFBeta : 0.477678\n",
      "Threshold : 0.55\tFBeta : 0.475782\n",
      "Threshold : 0.60\tFBeta : 0.473053\n",
      "\n"
     ]
    },
    {
     "name": "stderr",
     "output_type": "stream",
     "text": [
      "Epoch 20/50  Mem : 11.2GB  LR : 7.50E-05  Loss: 0.2953: 100%|██████████| 84/84 [02:20<00:00,  1.67s/it]\n",
      "Val Loss: 0.5352: 100%|██████████| 24/24 [00:46<00:00,  1.95s/it]\n"
     ]
    },
    {
     "name": "stdout",
     "output_type": "stream",
     "text": [
      "Threshold : 0.20\tFBeta : 0.299238\n",
      "Threshold : 0.25\tFBeta : 0.289131\n",
      "Threshold : 0.30\tFBeta : 0.281049\n",
      "Threshold : 0.35\tFBeta : 0.274054\n",
      "Threshold : 0.40\tFBeta : 0.267827\n",
      "Threshold : 0.45\tFBeta : 0.261712\n",
      "Threshold : 0.50\tFBeta : 0.255427\n",
      "Threshold : 0.55\tFBeta : 0.248419\n",
      "Threshold : 0.60\tFBeta : 0.239464\n",
      "\n"
     ]
    },
    {
     "name": "stderr",
     "output_type": "stream",
     "text": [
      "Epoch 21/50  Mem : 11.2GB  LR : 7.19E-05  Loss: 0.2936: 100%|██████████| 84/84 [02:20<00:00,  1.67s/it]\n",
      "Val Loss: 0.4902: 100%|██████████| 24/24 [00:46<00:00,  1.95s/it]\n"
     ]
    },
    {
     "name": "stdout",
     "output_type": "stream",
     "text": [
      "Threshold : 0.20\tFBeta : 0.407940\n",
      "Threshold : 0.25\tFBeta : 0.398056\n",
      "Threshold : 0.30\tFBeta : 0.389122\n",
      "Threshold : 0.35\tFBeta : 0.381217\n",
      "Threshold : 0.40\tFBeta : 0.373641\n",
      "Threshold : 0.45\tFBeta : 0.365735\n",
      "Threshold : 0.50\tFBeta : 0.356200\n",
      "Threshold : 0.55\tFBeta : 0.345244\n",
      "Threshold : 0.60\tFBeta : 0.332955\n",
      "\n"
     ]
    },
    {
     "name": "stderr",
     "output_type": "stream",
     "text": [
      "Epoch 22/50  Mem : 11.2GB  LR : 6.87E-05  Loss: 0.2766: 100%|██████████| 84/84 [02:20<00:00,  1.67s/it]\n",
      "Val Loss: 0.4987: 100%|██████████| 24/24 [00:46<00:00,  1.94s/it]\n"
     ]
    },
    {
     "name": "stdout",
     "output_type": "stream",
     "text": [
      "Threshold : 0.20\tFBeta : 0.375424\n",
      "Threshold : 0.25\tFBeta : 0.363406\n",
      "Threshold : 0.30\tFBeta : 0.352851\n",
      "Threshold : 0.35\tFBeta : 0.343119\n",
      "Threshold : 0.40\tFBeta : 0.334436\n",
      "Threshold : 0.45\tFBeta : 0.326159\n",
      "Threshold : 0.50\tFBeta : 0.316802\n",
      "Threshold : 0.55\tFBeta : 0.306498\n",
      "Threshold : 0.60\tFBeta : 0.293673\n",
      "\n"
     ]
    },
    {
     "name": "stderr",
     "output_type": "stream",
     "text": [
      "Epoch 23/50  Mem : 11.2GB  LR : 6.55E-05  Loss: 0.2630: 100%|██████████| 84/84 [02:19<00:00,  1.67s/it]\n",
      "Val Loss: 0.4665: 100%|██████████| 24/24 [00:46<00:00,  1.95s/it]\n"
     ]
    },
    {
     "name": "stdout",
     "output_type": "stream",
     "text": [
      "Threshold : 0.20\tFBeta : 0.430648\n",
      "Threshold : 0.25\tFBeta : 0.426256\n",
      "Threshold : 0.30\tFBeta : 0.422070\n",
      "Threshold : 0.35\tFBeta : 0.418310\n",
      "Threshold : 0.40\tFBeta : 0.414689\n",
      "Threshold : 0.45\tFBeta : 0.411126\n",
      "Threshold : 0.50\tFBeta : 0.407341\n",
      "Threshold : 0.55\tFBeta : 0.403252\n",
      "Threshold : 0.60\tFBeta : 0.398084\n",
      "\n"
     ]
    },
    {
     "name": "stderr",
     "output_type": "stream",
     "text": [
      "Epoch 24/50  Mem : 11.2GB  LR : 6.21E-05  Loss: 0.2603: 100%|██████████| 84/84 [02:19<00:00,  1.67s/it]\n",
      "Val Loss: 0.6500: 100%|██████████| 24/24 [00:46<00:00,  1.95s/it]\n"
     ]
    },
    {
     "name": "stdout",
     "output_type": "stream",
     "text": [
      "Threshold : 0.20\tFBeta : 0.434380\n",
      "Threshold : 0.25\tFBeta : 0.437227\n",
      "Threshold : 0.30\tFBeta : 0.439475\n",
      "Threshold : 0.35\tFBeta : 0.441387\n",
      "Threshold : 0.40\tFBeta : 0.443192\n",
      "Threshold : 0.45\tFBeta : 0.444819\n",
      "Threshold : 0.50\tFBeta : 0.446323\n",
      "Threshold : 0.55\tFBeta : 0.447892\n",
      "Threshold : 0.60\tFBeta : 0.449687\n",
      "\n"
     ]
    },
    {
     "name": "stderr",
     "output_type": "stream",
     "text": [
      "Epoch 25/50  Mem : 11.2GB  LR : 5.87E-05  Loss: 0.2548: 100%|██████████| 84/84 [02:20<00:00,  1.68s/it]\n",
      "Val Loss: 0.5001: 100%|██████████| 24/24 [00:46<00:00,  1.95s/it]\n"
     ]
    },
    {
     "name": "stdout",
     "output_type": "stream",
     "text": [
      "Threshold : 0.20\tFBeta : 0.367825\n",
      "Threshold : 0.25\tFBeta : 0.357998\n",
      "Threshold : 0.30\tFBeta : 0.349951\n",
      "Threshold : 0.35\tFBeta : 0.342840\n",
      "Threshold : 0.40\tFBeta : 0.336176\n",
      "Threshold : 0.45\tFBeta : 0.329898\n",
      "Threshold : 0.50\tFBeta : 0.322835\n",
      "Threshold : 0.55\tFBeta : 0.315049\n",
      "Threshold : 0.60\tFBeta : 0.306231\n",
      "\n"
     ]
    },
    {
     "name": "stderr",
     "output_type": "stream",
     "text": [
      "Epoch 26/50  Mem : 11.2GB  LR : 5.52E-05  Loss: 0.2455: 100%|██████████| 84/84 [02:21<00:00,  1.68s/it]\n",
      "Val Loss: 0.4632: 100%|██████████| 24/24 [00:46<00:00,  1.94s/it]\n"
     ]
    },
    {
     "name": "stdout",
     "output_type": "stream",
     "text": [
      "Threshold : 0.20\tFBeta : 0.480436\n",
      "Threshold : 0.25\tFBeta : 0.481298\n",
      "Threshold : 0.30\tFBeta : 0.481873\n",
      "Threshold : 0.35\tFBeta : 0.482343\n",
      "Threshold : 0.40\tFBeta : 0.482621\n",
      "Threshold : 0.45\tFBeta : 0.482652\n",
      "Threshold : 0.50\tFBeta : 0.482710\n",
      "Threshold : 0.55\tFBeta : 0.482634\n",
      "Threshold : 0.60\tFBeta : 0.482295\n",
      "\n"
     ]
    },
    {
     "name": "stderr",
     "output_type": "stream",
     "text": [
      "Epoch 27/50  Mem : 11.2GB  LR : 5.17E-05  Loss: 0.2408: 100%|██████████| 84/84 [02:20<00:00,  1.67s/it]\n",
      "Val Loss: 0.4916: 100%|██████████| 24/24 [00:47<00:00,  1.96s/it]\n"
     ]
    },
    {
     "name": "stdout",
     "output_type": "stream",
     "text": [
      "Threshold : 0.20\tFBeta : 0.413082\n",
      "Threshold : 0.25\tFBeta : 0.406534\n",
      "Threshold : 0.30\tFBeta : 0.401280\n",
      "Threshold : 0.35\tFBeta : 0.396729\n",
      "Threshold : 0.40\tFBeta : 0.392595\n",
      "Threshold : 0.45\tFBeta : 0.388629\n",
      "Threshold : 0.50\tFBeta : 0.384737\n",
      "Threshold : 0.55\tFBeta : 0.380428\n",
      "Threshold : 0.60\tFBeta : 0.375532\n",
      "\n"
     ]
    },
    {
     "name": "stderr",
     "output_type": "stream",
     "text": [
      "Epoch 28/50  Mem : 11.2GB  LR : 4.83E-05  Loss: 0.2263: 100%|██████████| 84/84 [02:20<00:00,  1.67s/it]\n",
      "Val Loss: 0.4310: 100%|██████████| 24/24 [00:47<00:00,  1.96s/it]\n"
     ]
    },
    {
     "name": "stdout",
     "output_type": "stream",
     "text": [
      "Threshold : 0.20\tFBeta : 0.499153\n",
      "Threshold : 0.25\tFBeta : 0.496668\n",
      "Threshold : 0.30\tFBeta : 0.493919\n",
      "Threshold : 0.35\tFBeta : 0.491260\n",
      "Threshold : 0.40\tFBeta : 0.488541\n",
      "Threshold : 0.45\tFBeta : 0.486145\n",
      "Threshold : 0.50\tFBeta : 0.483470\n",
      "Threshold : 0.55\tFBeta : 0.480468\n",
      "Threshold : 0.60\tFBeta : 0.477215\n",
      "\n"
     ]
    },
    {
     "name": "stderr",
     "output_type": "stream",
     "text": [
      "Epoch 29/50  Mem : 11.2GB  LR : 4.48E-05  Loss: 0.2203: 100%|██████████| 84/84 [02:21<00:00,  1.68s/it]\n",
      "Val Loss: 0.4899: 100%|██████████| 24/24 [00:46<00:00,  1.96s/it]\n"
     ]
    },
    {
     "name": "stdout",
     "output_type": "stream",
     "text": [
      "Threshold : 0.20\tFBeta : 0.442157\n",
      "Threshold : 0.25\tFBeta : 0.440555\n",
      "Threshold : 0.30\tFBeta : 0.439069\n",
      "Threshold : 0.35\tFBeta : 0.437621\n",
      "Threshold : 0.40\tFBeta : 0.436139\n",
      "Threshold : 0.45\tFBeta : 0.434582\n",
      "Threshold : 0.50\tFBeta : 0.432957\n",
      "Threshold : 0.55\tFBeta : 0.431088\n",
      "Threshold : 0.60\tFBeta : 0.429039\n",
      "\n"
     ]
    },
    {
     "name": "stderr",
     "output_type": "stream",
     "text": [
      "Epoch 30/50  Mem : 11.2GB  LR : 4.13E-05  Loss: 0.2136: 100%|██████████| 84/84 [02:20<00:00,  1.67s/it]\n",
      "Val Loss: 0.4795: 100%|██████████| 24/24 [00:46<00:00,  1.95s/it]\n"
     ]
    },
    {
     "name": "stdout",
     "output_type": "stream",
     "text": [
      "Threshold : 0.20\tFBeta : 0.425338\n",
      "Threshold : 0.25\tFBeta : 0.418540\n",
      "Threshold : 0.30\tFBeta : 0.413093\n",
      "Threshold : 0.35\tFBeta : 0.408478\n",
      "Threshold : 0.40\tFBeta : 0.404317\n",
      "Threshold : 0.45\tFBeta : 0.400192\n",
      "Threshold : 0.50\tFBeta : 0.395788\n",
      "Threshold : 0.55\tFBeta : 0.390787\n",
      "Threshold : 0.60\tFBeta : 0.384881\n"
     ]
    }
   ],
   "source": [
    "# best_loss=1000\n",
    "if metric_direction == 'minimize':\n",
    "    best_score = np.inf\n",
    "elif metric_direction == 'maximize':\n",
    "    best_score = -1\n",
    "\n",
    "best_loss = np.inf\n",
    "\n",
    "for epoch in range(1, EPOCHS+1):\n",
    "    model.train()\n",
    "    cur_lr = f\"LR : {scheduler.get_last_lr()[0]:.2E}\"\n",
    "    pbar_train = enumerate(dataloader_train)\n",
    "    pbar_train = tqdm(pbar_train, total=n_train, bar_format=\"{l_bar}{bar:10}{r_bar}{bar:-10b}\")\n",
    "    mloss_train, mloss_val, val_metric = 0.0, 0.0, 0.0\n",
    "\n",
    "    for i, (fragments, masks) in pbar_train:\n",
    "        fragments, masks = fragments.cuda(), masks.cuda()\n",
    "        optimizer.zero_grad()\n",
    "        with amp.autocast():\n",
    "            pred_masks = model(fragments)\n",
    "            loss = criterion(pred_masks, masks)\n",
    "            scaler.scale(loss).backward()\n",
    "            scaler.step(optimizer)\n",
    "            scaler.update()\n",
    "            mloss_train += loss.detach().item()\n",
    "\n",
    "        gpu_mem = f\"Mem : {torch.cuda.memory_reserved() / 1E9:.3g}GB\"\n",
    "        pbar_train.set_description((\"%10s  \" * 3 + \"%10s\") % (f\"Epoch {epoch}/{EPOCHS}\", gpu_mem, cur_lr,\n",
    "                                                              f\"Loss: {mloss_train / (i + 1):.4f}\"))\n",
    "        \n",
    "    scheduler.step()\n",
    "    model.eval()\n",
    "    pbar_val = enumerate(dataloader_valid)\n",
    "    pbar_val = tqdm(pbar_val, total=n_valid, bar_format=\"{l_bar}{bar:10}{r_bar}{bar:-10b}\")\n",
    "    final_pred_mask = torch.zeros(gt_shape, dtype=torch.float32, device='cuda')\n",
    "    \n",
    "    for i, (fragments, masks, xys) in pbar_val:\n",
    "        fragments, masks = fragments.cuda(), masks.cuda()\n",
    "        with torch.no_grad():\n",
    "#             print(fragments.shape)\n",
    "#             fragments=TTA(fragments,model)\n",
    "            pred_masks = model(fragments)\n",
    "            mloss_val += criterion(pred_masks, masks).item()\n",
    "            pred_masks = torch.sigmoid(pred_masks)\n",
    "        \n",
    "        for j, xy in enumerate(xys):\n",
    "            final_pred_mask[xy[1]:xy[3], xy[0]:xy[2]] = pred_masks[j, 0]\n",
    "\n",
    "        pbar_val.set_description((\"%10s\") % (f\"Val Loss: {mloss_val / (i+1):.4f}\"))\n",
    "    \n",
    "    \n",
    "#     final_pred_mask = final_pred_mask.cpu().numpy()\n",
    "    \n",
    "#     best_dice, best_th = calc_cv(gt_mask, final_pred_mask)\n",
    "    \n",
    "#     score = best_dice\n",
    "    \n",
    "#     if metric_direction == 'minimize':\n",
    "#         update_best = score < best_score\n",
    "#     elif metric_direction == 'maximize':\n",
    "#         update_best = score > best_score\n",
    "        \n",
    "        \n",
    "        \n",
    "#     if update_best:\n",
    "#         best_loss = avg_val_loss\n",
    "#         best_score = score\n",
    "\n",
    "        \n",
    "#         torch.save({'model': model.state_dict(),\n",
    "#                     'preds': mask_pred},\n",
    "#                     CFG.model_dir + f'{CFG.model_name}_fold{fold}_best.pth')\n",
    "    for threshold in np.arange(0.2, 0.65, 0.05):\n",
    "        fbeta = fbeta_score(final_pred_mask, gt_mask, threshold)\n",
    "        print(f\"Threshold : {threshold:.2f}\\tFBeta : {fbeta:.6f}\")\n",
    "    \n",
    "    if epoch >= 10:\n",
    "        torch.save(model.module.state_dict(), f\"./ckpts/resnet34_3d_seg_epoch_{epoch}.pt\")\n",
    "\n",
    "    if epoch == 30:\n",
    "        break\n",
    "\n",
    "    print()"
   ]
  },
  {
   "cell_type": "code",
   "execution_count": 25,
   "id": "87853888",
   "metadata": {
    "execution": {
     "iopub.execute_input": "2023-05-29T03:15:24.693586Z",
     "iopub.status.busy": "2023-05-29T03:15:24.693134Z",
     "iopub.status.idle": "2023-05-29T03:15:24.699370Z",
     "shell.execute_reply": "2023-05-29T03:15:24.698259Z"
    },
    "papermill": {
     "duration": 0.686166,
     "end_time": "2023-05-29T03:15:24.702135",
     "exception": false,
     "start_time": "2023-05-29T03:15:24.015969",
     "status": "completed"
    },
    "tags": []
   },
   "outputs": [
    {
     "name": "stdout",
     "output_type": "stream",
     "text": [
      "s\n"
     ]
    }
   ],
   "source": [
    "print('s')"
   ]
  },
  {
   "cell_type": "code",
   "execution_count": 26,
   "id": "14034bbb",
   "metadata": {
    "execution": {
     "iopub.execute_input": "2023-05-29T03:15:25.763889Z",
     "iopub.status.busy": "2023-05-29T03:15:25.762633Z",
     "iopub.status.idle": "2023-05-29T03:15:40.960833Z",
     "shell.execute_reply": "2023-05-29T03:15:40.959532Z"
    },
    "papermill": {
     "duration": 15.732997,
     "end_time": "2023-05-29T03:15:40.963612",
     "exception": false,
     "start_time": "2023-05-29T03:15:25.230615",
     "status": "completed"
    },
    "tags": []
   },
   "outputs": [
    {
     "name": "stdout",
     "output_type": "stream",
     "text": [
      "打包完成\n",
      "2023-05-29 03:15:40.956854\n"
     ]
    }
   ],
   "source": [
    "import os\n",
    "import zipfile\n",
    "import datetime\n",
    "\n",
    "def file2zip(packagePath, zipPath):\n",
    "    '''\n",
    "  :param packagePath: /kaggle/working/images\n",
    "  :param zipPath: /kaggle/working/\n",
    "  :return:\n",
    "  '''\n",
    "    zip = zipfile.ZipFile(zipPath, 'w', zipfile.ZIP_DEFLATED)\n",
    "    for path, dirNames, fileNames in os.walk(packagePath):\n",
    "        fpath = path.replace(packagePath, '')\n",
    "#         for name in fileNames:\n",
    "        name = 'resnet34_3d_seg_epoch_16.pt'\n",
    "        fullName = os.path.join(path, name)\n",
    "        name = fpath + '\\\\' + name\n",
    "        zip.write(fullName, name)\n",
    "    zip.close()\n",
    "\n",
    "\n",
    "if __name__ == \"__main__\":\n",
    "    # 文件夹路径\n",
    "    packagePath = '/kaggle/working/ckpts/'\n",
    "    zipPath = '/kaggle/working/output.zip'\n",
    "    if os.path.exists(zipPath):\n",
    "        os.remove(zipPath)\n",
    "    file2zip(packagePath, zipPath)\n",
    "    print(\"打包完成\")\n",
    "    print(datetime.datetime.utcnow())"
   ]
  },
  {
   "cell_type": "code",
   "execution_count": 27,
   "id": "d0d174a4",
   "metadata": {
    "execution": {
     "iopub.execute_input": "2023-05-29T03:15:42.045786Z",
     "iopub.status.busy": "2023-05-29T03:15:42.045000Z",
     "iopub.status.idle": "2023-05-29T03:15:42.056973Z",
     "shell.execute_reply": "2023-05-29T03:15:42.055753Z"
    },
    "papermill": {
     "duration": 0.551348,
     "end_time": "2023-05-29T03:15:42.059381",
     "exception": false,
     "start_time": "2023-05-29T03:15:41.508033",
     "status": "completed"
    },
    "tags": []
   },
   "outputs": [
    {
     "name": "stdout",
     "output_type": "stream",
     "text": [
      "/kaggle/working\n",
      "['r3d34_K_200ep.pth', '__notebook__.ipynb', 'ckpts', 'output.zip', 'fragment_crop.mp4']\n"
     ]
    },
    {
     "data": {
      "text/html": [
       "<a href='output.zip' target='_blank'>output.zip</a><br>"
      ],
      "text/plain": [
       "/kaggle/working/output.zip"
      ]
     },
     "execution_count": 27,
     "metadata": {},
     "output_type": "execute_result"
    }
   ],
   "source": [
    "import os\n",
    "os.chdir('/kaggle/working')\n",
    "print(os.getcwd())\n",
    "print(os.listdir(\"/kaggle/working\"))\n",
    "from IPython.display import FileLink\n",
    "FileLink('output.zip')"
   ]
  },
  {
   "cell_type": "code",
   "execution_count": 28,
   "id": "cbac3fe2",
   "metadata": {
    "execution": {
     "iopub.execute_input": "2023-05-29T03:15:43.235485Z",
     "iopub.status.busy": "2023-05-29T03:15:43.234258Z",
     "iopub.status.idle": "2023-05-29T03:15:43.283578Z",
     "shell.execute_reply": "2023-05-29T03:15:43.282278Z"
    },
    "papermill": {
     "duration": 0.617456,
     "end_time": "2023-05-29T03:15:43.286320",
     "exception": false,
     "start_time": "2023-05-29T03:15:42.668864",
     "status": "completed"
    },
    "tags": []
   },
   "outputs": [],
   "source": [
    "import os\n",
    "import shutil\n",
    "\n",
    "# folder = '/kaggle/working/r3d34_K_200ep.pth'\n",
    "# for filename in os.listdir(folder):\n",
    "\n",
    "file_path = '/kaggle/working/output.zip'\n",
    "\n",
    "try:\n",
    "    if os.path.isfile(file_path) or os.path.islink(file_path):\n",
    "        os.unlink(file_path)\n",
    "    elif os.path.isdir(file_path):\n",
    "        shutil.rmtree(file_path)\n",
    "except Exception as e:\n",
    "    print(f'Failed to delete {file_path}. Reason: {e}')"
   ]
  },
  {
   "cell_type": "code",
   "execution_count": null,
   "id": "662dff26",
   "metadata": {
    "papermill": {
     "duration": 0.535592,
     "end_time": "2023-05-29T03:15:44.354835",
     "exception": false,
     "start_time": "2023-05-29T03:15:43.819243",
     "status": "completed"
    },
    "tags": []
   },
   "outputs": [],
   "source": []
  }
 ],
 "metadata": {
  "kernelspec": {
   "display_name": "Python 3",
   "language": "python",
   "name": "python3"
  },
  "language_info": {
   "codemirror_mode": {
    "name": "ipython",
    "version": 3
   },
   "file_extension": ".py",
   "mimetype": "text/x-python",
   "name": "python",
   "nbconvert_exporter": "python",
   "pygments_lexer": "ipython3",
   "version": "3.7.12"
  },
  "papermill": {
   "default_parameters": {},
   "duration": 5769.340695,
   "end_time": "2023-05-29T03:15:48.284897",
   "environment_variables": {},
   "exception": null,
   "input_path": "__notebook__.ipynb",
   "output_path": "__notebook__.ipynb",
   "parameters": {},
   "start_time": "2023-05-29T01:39:38.944202",
   "version": "2.4.0"
  }
 },
 "nbformat": 4,
 "nbformat_minor": 5
}
