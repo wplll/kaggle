{
 "cells": [
  {
   "cell_type": "markdown",
   "id": "d2cb01dc",
   "metadata": {
    "papermill": {
     "duration": 0.011924,
     "end_time": "2023-05-24T08:13:54.066403",
     "exception": false,
     "start_time": "2023-05-24T08:13:54.054479",
     "status": "completed"
    },
    "tags": []
   },
   "source": [
    "## Vesuvius Challenge - Ink Detection Training Notebook"
   ]
  },
  {
   "cell_type": "markdown",
   "id": "af968dab",
   "metadata": {
    "papermill": {
     "duration": 0.009852,
     "end_time": "2023-05-24T08:13:54.086702",
     "exception": false,
     "start_time": "2023-05-24T08:13:54.076850",
     "status": "completed"
    },
    "tags": []
   },
   "source": [
    "### Setup"
   ]
  },
  {
   "cell_type": "code",
   "execution_count": 1,
   "id": "484e65e0",
   "metadata": {
    "_kg_hide-input": false,
    "_kg_hide-output": true,
    "execution": {
     "iopub.execute_input": "2023-05-24T08:13:54.109157Z",
     "iopub.status.busy": "2023-05-24T08:13:54.108268Z",
     "iopub.status.idle": "2023-05-24T08:14:33.511752Z",
     "shell.execute_reply": "2023-05-24T08:14:33.510137Z"
    },
    "papermill": {
     "duration": 39.41886,
     "end_time": "2023-05-24T08:14:33.515475",
     "exception": false,
     "start_time": "2023-05-24T08:13:54.096615",
     "status": "completed"
    },
    "tags": []
   },
   "outputs": [
    {
     "name": "stdout",
     "output_type": "stream",
     "text": [
      "Collecting gdown\r\n",
      "  Downloading gdown-4.7.1-py3-none-any.whl (15 kB)\r\n",
      "Requirement already satisfied: beautifulsoup4 in /opt/conda/lib/python3.7/site-packages (from gdown) (4.11.1)\r\n",
      "Requirement already satisfied: tqdm in /opt/conda/lib/python3.7/site-packages (from gdown) (4.64.1)\r\n",
      "Requirement already satisfied: six in /opt/conda/lib/python3.7/site-packages (from gdown) (1.16.0)\r\n",
      "Requirement already satisfied: filelock in /opt/conda/lib/python3.7/site-packages (from gdown) (3.9.0)\r\n",
      "Requirement already satisfied: requests[socks] in /opt/conda/lib/python3.7/site-packages (from gdown) (2.28.2)\r\n",
      "Requirement already satisfied: soupsieve>1.2 in /opt/conda/lib/python3.7/site-packages (from beautifulsoup4->gdown) (2.3.2.post1)\r\n",
      "Requirement already satisfied: certifi>=2017.4.17 in /opt/conda/lib/python3.7/site-packages (from requests[socks]->gdown) (2022.12.7)\r\n",
      "Requirement already satisfied: idna<4,>=2.5 in /opt/conda/lib/python3.7/site-packages (from requests[socks]->gdown) (3.4)\r\n",
      "Requirement already satisfied: urllib3<1.27,>=1.21.1 in /opt/conda/lib/python3.7/site-packages (from requests[socks]->gdown) (1.26.14)\r\n",
      "Requirement already satisfied: charset-normalizer<4,>=2 in /opt/conda/lib/python3.7/site-packages (from requests[socks]->gdown) (2.1.1)\r\n",
      "Requirement already satisfied: PySocks!=1.5.7,>=1.5.6 in /opt/conda/lib/python3.7/site-packages (from requests[socks]->gdown) (1.7.1)\r\n",
      "Installing collected packages: gdown\r\n",
      "Successfully installed gdown-4.7.1\r\n",
      "\u001b[33mWARNING: Running pip as the 'root' user can result in broken permissions and conflicting behaviour with the system package manager. It is recommended to use a virtual environment instead: https://pip.pypa.io/warnings/venv\u001b[0m\u001b[33m\r\n",
      "\u001b[0mDownloading...\r\n",
      "From (uriginal): https://drive.google.com/uc?id=1fFN5J2He6eTqMPRl_M9gFtFfpUmhtQc9\r\n",
      "From (redirected): https://drive.google.com/uc?id=1fFN5J2He6eTqMPRl_M9gFtFfpUmhtQc9&confirm=t&uuid=65cdc518-a35b-45a2-9694-5d7c198196ab\r\n",
      "To: /kaggle/working/r3d34_K_200ep.pth\r\n",
      "100%|████████████████████████████████████████| 511M/511M [00:05<00:00, 93.2MB/s]\r\n",
      "Collecting zarr\r\n",
      "  Downloading zarr-2.12.0-py3-none-any.whl (185 kB)\r\n",
      "\u001b[2K     \u001b[90m━━━━━━━━━━━━━━━━━━━━━━━━━━━━━━━━━━━━━━━\u001b[0m \u001b[32m185.8/185.8 kB\u001b[0m \u001b[31m5.9 MB/s\u001b[0m eta \u001b[36m0:00:00\u001b[0m\r\n",
      "\u001b[?25hCollecting imageio-ffmpeg\r\n",
      "  Downloading imageio_ffmpeg-0.4.8-py3-none-manylinux2010_x86_64.whl (26.9 MB)\r\n",
      "\u001b[2K     \u001b[90m━━━━━━━━━━━━━━━━━━━━━━━━━━━━━━━━━━━━━━━━\u001b[0m \u001b[32m26.9/26.9 MB\u001b[0m \u001b[31m43.5 MB/s\u001b[0m eta \u001b[36m0:00:00\u001b[0m\r\n",
      "\u001b[?25hCollecting asciitree\r\n",
      "  Downloading asciitree-0.3.3.tar.gz (4.0 kB)\r\n",
      "  Preparing metadata (setup.py) ... \u001b[?25l-\b \bdone\r\n",
      "\u001b[?25hCollecting numcodecs>=0.6.4\r\n",
      "  Downloading numcodecs-0.10.2-cp37-cp37m-manylinux_2_17_x86_64.manylinux2014_x86_64.whl (6.6 MB)\r\n",
      "\u001b[2K     \u001b[90m━━━━━━━━━━━━━━━━━━━━━━━━━━━━━━━━━━━━━━━━\u001b[0m \u001b[32m6.6/6.6 MB\u001b[0m \u001b[31m72.7 MB/s\u001b[0m eta \u001b[36m0:00:00\u001b[0m\r\n",
      "\u001b[?25hRequirement already satisfied: numpy>=1.7 in /opt/conda/lib/python3.7/site-packages (from zarr) (1.21.6)\r\n",
      "Requirement already satisfied: fasteners in /opt/conda/lib/python3.7/site-packages (from zarr) (0.18)\r\n",
      "Requirement already satisfied: entrypoints in /opt/conda/lib/python3.7/site-packages (from numcodecs>=0.6.4->zarr) (0.4)\r\n",
      "Requirement already satisfied: typing-extensions>=3.7.4 in /opt/conda/lib/python3.7/site-packages (from numcodecs>=0.6.4->zarr) (4.4.0)\r\n",
      "Building wheels for collected packages: asciitree\r\n",
      "  Building wheel for asciitree (setup.py) ... \u001b[?25l-\b \b\\\b \bdone\r\n",
      "\u001b[?25h  Created wheel for asciitree: filename=asciitree-0.3.3-py3-none-any.whl size=5050 sha256=10f200c101d67ce597459d1d987a32aec51bee126721b1968acbc5e6e31fb0ad\r\n",
      "  Stored in directory: /root/.cache/pip/wheels/e2/97/c4/5537ba28215ed3508783dc23c1fb59e17f00722317e4edeac0\r\n",
      "Successfully built asciitree\r\n",
      "Installing collected packages: asciitree, numcodecs, imageio-ffmpeg, zarr\r\n",
      "Successfully installed asciitree-0.3.3 imageio-ffmpeg-0.4.8 numcodecs-0.10.2 zarr-2.12.0\r\n",
      "\u001b[33mWARNING: Running pip as the 'root' user can result in broken permissions and conflicting behaviour with the system package manager. It is recommended to use a virtual environment instead: https://pip.pypa.io/warnings/venv\u001b[0m\u001b[33m\r\n",
      "\u001b[0m"
     ]
    }
   ],
   "source": [
    "# Pretrained weights\n",
    "# ref - https://github.com/kenshohara/3D-ResNets-PyTorch\n",
    "!pip install gdown\n",
    "!gdown 1fFN5J2He6eTqMPRl_M9gFtFfpUmhtQc9\n",
    "\n",
    "# Utility packages for reading and visualizing volumes\n",
    "!pip install zarr imageio-ffmpeg\n",
    "\n",
    "# save model checkpoints\n",
    "!mkdir ./ckpts"
   ]
  },
  {
   "cell_type": "code",
   "execution_count": 2,
   "id": "14e6bd95",
   "metadata": {
    "execution": {
     "iopub.execute_input": "2023-05-24T08:14:33.562317Z",
     "iopub.status.busy": "2023-05-24T08:14:33.561438Z",
     "iopub.status.idle": "2023-05-24T08:14:36.897302Z",
     "shell.execute_reply": "2023-05-24T08:14:36.896205Z"
    },
    "papermill": {
     "duration": 3.363226,
     "end_time": "2023-05-24T08:14:36.900122",
     "exception": false,
     "start_time": "2023-05-24T08:14:33.536896",
     "status": "completed"
    },
    "tags": []
   },
   "outputs": [],
   "source": [
    "import os\n",
    "import gc\n",
    "import sys\n",
    "import zarr\n",
    "import random\n",
    "import imageio\n",
    "import numpy as np\n",
    "import pandas as pd\n",
    "from tqdm import tqdm\n",
    "import matplotlib.pyplot as plt\n",
    "from IPython.display import Video\n",
    "\n",
    "import torch\n",
    "import torch.nn as nn\n",
    "import torch.nn.functional as F\n",
    "from torch.cuda import amp\n",
    "from torch.utils.data import Dataset, DataLoader\n",
    "\n",
    "sys.path.append(\"/kaggle/input/resnet3d\")\n",
    "from resnet3d import generate_model"
   ]
  },
  {
   "cell_type": "markdown",
   "id": "39dfe261",
   "metadata": {
    "papermill": {
     "duration": 0.017151,
     "end_time": "2023-05-24T08:14:36.936397",
     "exception": false,
     "start_time": "2023-05-24T08:14:36.919246",
     "status": "completed"
    },
    "tags": []
   },
   "source": [
    "### Config"
   ]
  },
  {
   "cell_type": "code",
   "execution_count": 3,
   "id": "e48eb95e",
   "metadata": {
    "execution": {
     "iopub.execute_input": "2023-05-24T08:14:36.970960Z",
     "iopub.status.busy": "2023-05-24T08:14:36.969612Z",
     "iopub.status.idle": "2023-05-24T08:14:36.980305Z",
     "shell.execute_reply": "2023-05-24T08:14:36.978437Z"
    },
    "papermill": {
     "duration": 0.032646,
     "end_time": "2023-05-24T08:14:36.984990",
     "exception": false,
     "start_time": "2023-05-24T08:14:36.952344",
     "status": "completed"
    },
    "tags": []
   },
   "outputs": [],
   "source": [
    "LR = 1e-4\n",
    "EPOCHS = 50\n",
    "BATCH_SIZE = 32\n",
    "CROP_SIZE = 224\n",
    "Z_START = 26\n",
    "Z_DIMS = 12\n",
    "TRAIN_FRAGMENTS = [\"1\", \"2b\", \"3\"]\n",
    "TEST_FRAGMENT = \"2a\""
   ]
  },
  {
   "cell_type": "markdown",
   "id": "1eaee7e5",
   "metadata": {
    "papermill": {
     "duration": 0.017475,
     "end_time": "2023-05-24T08:14:37.020586",
     "exception": false,
     "start_time": "2023-05-24T08:14:37.003111",
     "status": "completed"
    },
    "tags": []
   },
   "source": [
    "### Load data"
   ]
  },
  {
   "cell_type": "code",
   "execution_count": 4,
   "id": "463695fd",
   "metadata": {
    "execution": {
     "iopub.execute_input": "2023-05-24T08:14:37.057082Z",
     "iopub.status.busy": "2023-05-24T08:14:37.056506Z",
     "iopub.status.idle": "2023-05-24T08:14:37.117822Z",
     "shell.execute_reply": "2023-05-24T08:14:37.116586Z"
    },
    "papermill": {
     "duration": 0.083477,
     "end_time": "2023-05-24T08:14:37.120711",
     "exception": false,
     "start_time": "2023-05-24T08:14:37.037234",
     "status": "completed"
    },
    "tags": []
   },
   "outputs": [],
   "source": [
    "FRAGMENTS_ZARR = {\n",
    "    \"1\" : zarr.open(\"/kaggle/input/vesuvius-zarr-files/train-1.zarr\", mode=\"r\"),\n",
    "    \"2\" : zarr.open(\"/kaggle/input/vesuvius-zarr-files/train-2.zarr\", mode=\"r\"),\n",
    "    \"3\" : zarr.open(\"/kaggle/input/vesuvius-zarr-files/train-3.zarr\", mode=\"r\")\n",
    "}\n",
    "\n",
    "FRAGMENTS_SHAPE = {k : v.mask.shape for k, v in FRAGMENTS_ZARR.items()}"
   ]
  },
  {
   "cell_type": "markdown",
   "id": "929a1839",
   "metadata": {
    "papermill": {
     "duration": 0.015435,
     "end_time": "2023-05-24T08:14:37.152224",
     "exception": false,
     "start_time": "2023-05-24T08:14:37.136789",
     "status": "completed"
    },
    "tags": []
   },
   "source": [
    "### Visualise input"
   ]
  },
  {
   "cell_type": "code",
   "execution_count": 5,
   "id": "5946e94e",
   "metadata": {
    "execution": {
     "iopub.execute_input": "2023-05-24T08:14:37.185307Z",
     "iopub.status.busy": "2023-05-24T08:14:37.184048Z",
     "iopub.status.idle": "2023-05-24T08:14:39.051910Z",
     "shell.execute_reply": "2023-05-24T08:14:39.050661Z"
    },
    "papermill": {
     "duration": 1.887176,
     "end_time": "2023-05-24T08:14:39.054579",
     "exception": false,
     "start_time": "2023-05-24T08:14:37.167403",
     "status": "completed"
    },
    "tags": []
   },
   "outputs": [
    {
     "data": {
      "text/html": [
       "<video src=\"fragment_crop.mp4\" controls  width=\"256\"  height=\"256\">\n",
       "      Your browser does not support the <code>video</code> element.\n",
       "    </video>"
      ],
      "text/plain": [
       "<IPython.core.display.Video object>"
      ]
     },
     "execution_count": 5,
     "metadata": {},
     "output_type": "execute_result"
    }
   ],
   "source": [
    "fragment = FRAGMENTS_ZARR[\"1\"]\n",
    "x, y = 2000, 2000\n",
    "\n",
    "fragment_cropped = fragment.surface_volume[y:y+CROP_SIZE, x:x+CROP_SIZE, Z_START:Z_START+Z_DIMS]\n",
    "imageio.mimwrite(\"fragment_crop.mp4\", fragment_cropped.transpose(2, 0, 1), \"ffmpeg\")\n",
    "Video(\"fragment_crop.mp4\", height=256, width=256)"
   ]
  },
  {
   "cell_type": "code",
   "execution_count": 6,
   "id": "b9d700b6",
   "metadata": {
    "execution": {
     "iopub.execute_input": "2023-05-24T08:14:39.088533Z",
     "iopub.status.busy": "2023-05-24T08:14:39.087443Z",
     "iopub.status.idle": "2023-05-24T08:14:39.244495Z",
     "shell.execute_reply": "2023-05-24T08:14:39.243231Z"
    },
    "papermill": {
     "duration": 0.176887,
     "end_time": "2023-05-24T08:14:39.247605",
     "exception": false,
     "start_time": "2023-05-24T08:14:39.070718",
     "status": "completed"
    },
    "tags": []
   },
   "outputs": [
    {
     "data": {
      "text/plain": [
       "(224, 224, 12)"
      ]
     },
     "execution_count": 6,
     "metadata": {},
     "output_type": "execute_result"
    }
   ],
   "source": [
    "fragment_cropped = fragment.surface_volume[y:y+CROP_SIZE, x:x+CROP_SIZE, Z_START:Z_START+Z_DIMS]\n",
    "fragment_cropped.shape"
   ]
  },
  {
   "cell_type": "code",
   "execution_count": 7,
   "id": "b560bb83",
   "metadata": {
    "execution": {
     "iopub.execute_input": "2023-05-24T08:14:39.282470Z",
     "iopub.status.busy": "2023-05-24T08:14:39.281256Z",
     "iopub.status.idle": "2023-05-24T08:14:39.387365Z",
     "shell.execute_reply": "2023-05-24T08:14:39.386209Z"
    },
    "papermill": {
     "duration": 0.126087,
     "end_time": "2023-05-24T08:14:39.390181",
     "exception": false,
     "start_time": "2023-05-24T08:14:39.264094",
     "status": "completed"
    },
    "tags": []
   },
   "outputs": [
    {
     "data": {
      "text/plain": [
       "(224, 224)"
      ]
     },
     "execution_count": 7,
     "metadata": {},
     "output_type": "execute_result"
    }
   ],
   "source": [
    "mask_cropped = fragment.truth[y:y+CROP_SIZE, x:x+CROP_SIZE]\n",
    "ir_cropped = fragment.infrared[y:y+CROP_SIZE, x:x+CROP_SIZE]\n",
    "mask_cropped.shape"
   ]
  },
  {
   "cell_type": "code",
   "execution_count": 8,
   "id": "c2accd26",
   "metadata": {
    "execution": {
     "iopub.execute_input": "2023-05-24T08:14:39.423635Z",
     "iopub.status.busy": "2023-05-24T08:14:39.423227Z",
     "iopub.status.idle": "2023-05-24T08:14:39.608799Z",
     "shell.execute_reply": "2023-05-24T08:14:39.607398Z"
    },
    "papermill": {
     "duration": 0.2068,
     "end_time": "2023-05-24T08:14:39.612884",
     "exception": false,
     "start_time": "2023-05-24T08:14:39.406084",
     "status": "completed"
    },
    "tags": []
   },
   "outputs": [
    {
     "data": {
      "image/png": "[encoded data removed]",
      "text/plain": [
       "<Figure size 600x300 with 2 Axes>"
      ]
     },
     "metadata": {},
     "output_type": "display_data"
    }
   ],
   "source": [
    "mask_cropped = fragment.truth[y:y+CROP_SIZE, x:x+CROP_SIZE]\n",
    "ir_cropped = fragment.infrared[y:y+CROP_SIZE, x:x+CROP_SIZE]\n",
    "\n",
    "plt.figure(figsize=(6, 3))\n",
    "plt.subplot(1, 2, 1)\n",
    "plt.imshow(mask_cropped, cmap=\"gray\")\n",
    "plt.axis(\"off\")\n",
    "\n",
    "plt.subplot(1, 2, 2)\n",
    "plt.imshow(ir_cropped, cmap=\"gray\")\n",
    "plt.axis(\"off\")\n",
    "plt.show()"
   ]
  },
  {
   "cell_type": "code",
   "execution_count": 9,
   "id": "40fb5508",
   "metadata": {
    "execution": {
     "iopub.execute_input": "2023-05-24T08:14:39.669741Z",
     "iopub.status.busy": "2023-05-24T08:14:39.669370Z",
     "iopub.status.idle": "2023-05-24T08:14:39.859184Z",
     "shell.execute_reply": "2023-05-24T08:14:39.858098Z"
    },
    "papermill": {
     "duration": 0.212563,
     "end_time": "2023-05-24T08:14:39.861676",
     "exception": false,
     "start_time": "2023-05-24T08:14:39.649113",
     "status": "completed"
    },
    "tags": []
   },
   "outputs": [
    {
     "data": {
      "text/plain": [
       "3955"
      ]
     },
     "execution_count": 9,
     "metadata": {},
     "output_type": "execute_result"
    }
   ],
   "source": [
    "del fragment, fragment_cropped, mask_cropped, ir_cropped\n",
    "gc.collect()"
   ]
  },
  {
   "cell_type": "markdown",
   "id": "7b01b0ed",
   "metadata": {
    "papermill": {
     "duration": 0.016921,
     "end_time": "2023-05-24T08:14:39.895646",
     "exception": false,
     "start_time": "2023-05-24T08:14:39.878725",
     "status": "completed"
    },
    "tags": []
   },
   "source": [
    "### Dataloaders"
   ]
  },
  {
   "cell_type": "code",
   "execution_count": 10,
   "id": "b1eb78ed",
   "metadata": {
    "execution": {
     "iopub.execute_input": "2023-05-24T08:14:39.931280Z",
     "iopub.status.busy": "2023-05-24T08:14:39.930903Z",
     "iopub.status.idle": "2023-05-24T08:14:39.949823Z",
     "shell.execute_reply": "2023-05-24T08:14:39.948860Z"
    },
    "papermill": {
     "duration": 0.039811,
     "end_time": "2023-05-24T08:14:39.952342",
     "exception": false,
     "start_time": "2023-05-24T08:14:39.912531",
     "status": "completed"
    },
    "tags": []
   },
   "outputs": [],
   "source": [
    "class VesuviusTrain(Dataset):\n",
    "    def __init__(self, fragments):\n",
    "        self.fragments = fragments\n",
    "        self.xys = []\n",
    "        \n",
    "        for fragment in fragments:\n",
    "            if fragment=='2b':\n",
    "                fragment = '2'\n",
    "                H, W = FRAGMENTS_SHAPE[fragment]\n",
    "                H1 = { #ab split\n",
    "                    '1': 4560,\n",
    "                    '2': 9456,\n",
    "                    '3': 4060,\n",
    "                }['2']\n",
    "#                 pad0 = (CROP_SIZE - H % CFG.tile_size)\n",
    "#                 pad1 = (CROP_SIZE - W % CFG.tile_size)\n",
    "#                 image = np.pad(image, [(0, pad0), (0, pad1)], constant_values=0)\n",
    "                for y in range(H1, H-CROP_SIZE+1, CROP_SIZE):\n",
    "                    for x in range(0, W-CROP_SIZE+1, CROP_SIZE):\n",
    "                        self.xys.append((fragment, x, y, W, H))\n",
    "            else:\n",
    "                H, W = FRAGMENTS_SHAPE[fragment]\n",
    "                for y in range(0, H-CROP_SIZE+1, CROP_SIZE):\n",
    "                    for x in range(0, W-CROP_SIZE+1, CROP_SIZE):\n",
    "                        self.xys.append((fragment, x, y, W, H))\n",
    "        \n",
    "    def __getitem__(self, i):\n",
    "        fragment, x1, y1, W, H = self.xys[i]\n",
    "        z1, z2 = Z_START, Z_START+Z_DIMS\n",
    "        \n",
    "        x_offset = random.randint(-32 if x1 != 0 else 0, 32)\n",
    "        y_offset = random.randint(-32 if y1 != 0 else 0, 32)\n",
    "        \n",
    "        x1 += x_offset\n",
    "        y1 += y_offset\n",
    "        \n",
    "        x2 = x1 + CROP_SIZE\n",
    "        y2 = y1 + CROP_SIZE\n",
    "        \n",
    "        if x2 > W:\n",
    "            x1 -= x_offset\n",
    "            x2 -= x_offset\n",
    "            \n",
    "        if y2 > H:\n",
    "            y1 -= y_offset\n",
    "            y2 -= y_offset\n",
    "        \n",
    "        frag_crop = FRAGMENTS_ZARR[fragment].surface_volume[y1:y2, x1:x2, z1:z2]\n",
    "        mask_crop = FRAGMENTS_ZARR[fragment].truth[y1:y2, x1:x2]\n",
    "        \n",
    "        if random.random() > 0.5:\n",
    "            frag_crop = np.flip(frag_crop, axis=1).copy()\n",
    "            mask_crop = np.flip(mask_crop, axis=1).copy()\n",
    "\n",
    "        frag_crop = torch.from_numpy(frag_crop.astype(np.float32)).unsqueeze(0).permute(0, 3, 1, 2)\n",
    "        frag_crop = frag_crop/65535.0\n",
    "        frag_crop = (frag_crop - 0.45)/0.225\n",
    "        \n",
    "        mask_crop = torch.from_numpy(mask_crop.astype(np.float32)).unsqueeze(0)\n",
    "        return frag_crop, mask_crop\n",
    "\n",
    "    def __len__(self):\n",
    "        return len(self.xys)"
   ]
  },
  {
   "cell_type": "code",
   "execution_count": 11,
   "id": "268e9b91",
   "metadata": {
    "execution": {
     "iopub.execute_input": "2023-05-24T08:14:39.987751Z",
     "iopub.status.busy": "2023-05-24T08:14:39.986846Z",
     "iopub.status.idle": "2023-05-24T08:14:39.994827Z",
     "shell.execute_reply": "2023-05-24T08:14:39.993601Z"
    },
    "papermill": {
     "duration": 0.028125,
     "end_time": "2023-05-24T08:14:39.997542",
     "exception": false,
     "start_time": "2023-05-24T08:14:39.969417",
     "status": "completed"
    },
    "tags": []
   },
   "outputs": [
    {
     "data": {
      "text/plain": [
       "(14830, 9506)"
      ]
     },
     "execution_count": 11,
     "metadata": {},
     "output_type": "execute_result"
    }
   ],
   "source": [
    "FRAGMENTS_SHAPE['2']"
   ]
  },
  {
   "cell_type": "code",
   "execution_count": 12,
   "id": "4fd797ac",
   "metadata": {
    "execution": {
     "iopub.execute_input": "2023-05-24T08:14:40.032593Z",
     "iopub.status.busy": "2023-05-24T08:14:40.032003Z",
     "iopub.status.idle": "2023-05-24T08:14:40.047071Z",
     "shell.execute_reply": "2023-05-24T08:14:40.046002Z"
    },
    "papermill": {
     "duration": 0.035974,
     "end_time": "2023-05-24T08:14:40.049711",
     "exception": false,
     "start_time": "2023-05-24T08:14:40.013737",
     "status": "completed"
    },
    "tags": []
   },
   "outputs": [],
   "source": [
    "class VesuviusVal(Dataset):\n",
    "    def __init__(self, fragment):\n",
    "        self.xys = []\n",
    "        if fragment=='2a':\n",
    "            fragment = '2'\n",
    "            self.fragment = FRAGMENTS_ZARR[fragment]\n",
    "            _, W = FRAGMENTS_SHAPE[fragment]\n",
    "            H = { #ab split\n",
    "                '1': 4560,\n",
    "                '2': 9456,\n",
    "                '3': 4060,\n",
    "            }['2']\n",
    "            for y in range(0, H-CROP_SIZE+1, CROP_SIZE):\n",
    "                for x in range(0, W-CROP_SIZE+1, CROP_SIZE):\n",
    "                    self.xys.append((x, y))\n",
    "        else:\n",
    "            self.fragment = FRAGMENTS_ZARR[fragment]\n",
    "            H, W = FRAGMENTS_SHAPE[fragment]\n",
    "            for y in range(0, H-CROP_SIZE+1, CROP_SIZE):\n",
    "                for x in range(0, W-CROP_SIZE+1, CROP_SIZE):\n",
    "                    self.xys.append((x, y))\n",
    "                \n",
    "    def __getitem__(self, i):\n",
    "        x1, y1 = self.xys[i]\n",
    "        x2, y2 = x1+CROP_SIZE, y1+CROP_SIZE\n",
    "        z1, z2 = Z_START, Z_START+Z_DIMS\n",
    "        \n",
    "        frag_crop = self.fragment.surface_volume[y1:y2, x1:x2, z1:z2]\n",
    "        mask_crop = self.fragment.truth[y1:y2, x1:x2]\n",
    "\n",
    "        frag_crop = torch.from_numpy(frag_crop.astype(np.float32)).unsqueeze(0).permute(0, 3, 1, 2)\n",
    "        frag_crop = frag_crop/65535.0\n",
    "        frag_crop = (frag_crop - 0.45)/0.225\n",
    "        \n",
    "        mask_crop = torch.from_numpy(mask_crop.astype(np.float32)).unsqueeze(0)\n",
    "        return frag_crop, mask_crop, torch.tensor([x1, y1, x2, y2], dtype=torch.int32)\n",
    "\n",
    "    def __len__(self):\n",
    "        return len(self.xys)"
   ]
  },
  {
   "cell_type": "code",
   "execution_count": 13,
   "id": "dbc84c0f",
   "metadata": {
    "execution": {
     "iopub.execute_input": "2023-05-24T08:14:40.083834Z",
     "iopub.status.busy": "2023-05-24T08:14:40.083486Z",
     "iopub.status.idle": "2023-05-24T08:14:40.090014Z",
     "shell.execute_reply": "2023-05-24T08:14:40.088999Z"
    },
    "papermill": {
     "duration": 0.026406,
     "end_time": "2023-05-24T08:14:40.092396",
     "exception": false,
     "start_time": "2023-05-24T08:14:40.065990",
     "status": "completed"
    },
    "tags": []
   },
   "outputs": [
    {
     "data": {
      "text/plain": [
       "'2a'"
      ]
     },
     "execution_count": 13,
     "metadata": {},
     "output_type": "execute_result"
    }
   ],
   "source": [
    "TEST_FRAGMENT"
   ]
  },
  {
   "cell_type": "code",
   "execution_count": 14,
   "id": "3c92c13c",
   "metadata": {
    "execution": {
     "iopub.execute_input": "2023-05-24T08:14:40.127452Z",
     "iopub.status.busy": "2023-05-24T08:14:40.126463Z",
     "iopub.status.idle": "2023-05-24T08:14:40.135627Z",
     "shell.execute_reply": "2023-05-24T08:14:40.134290Z"
    },
    "papermill": {
     "duration": 0.029072,
     "end_time": "2023-05-24T08:14:40.138060",
     "exception": false,
     "start_time": "2023-05-24T08:14:40.108988",
     "status": "completed"
    },
    "tags": []
   },
   "outputs": [],
   "source": [
    "dataset_train = VesuviusTrain(TRAIN_FRAGMENTS)\n",
    "dataloader_train = DataLoader(dataset_train, batch_size=BATCH_SIZE, num_workers=2,\n",
    "                              shuffle=True, pin_memory=True, drop_last=True)      #85\n",
    "n_train = len(dataloader_train)\n",
    "\n",
    "dataset_valid = VesuviusVal(TEST_FRAGMENT)  \n",
    "dataloader_valid = DataLoader(dataset_valid, batch_size=BATCH_SIZE, num_workers=2,\n",
    "                              shuffle=False, pin_memory=True, drop_last=False) #56\n",
    "n_valid = len(dataloader_valid)  "
   ]
  },
  {
   "cell_type": "code",
   "execution_count": 15,
   "id": "3213eef8",
   "metadata": {
    "execution": {
     "iopub.execute_input": "2023-05-24T08:14:40.171983Z",
     "iopub.status.busy": "2023-05-24T08:14:40.171697Z",
     "iopub.status.idle": "2023-05-24T08:14:40.176341Z",
     "shell.execute_reply": "2023-05-24T08:14:40.175194Z"
    },
    "papermill": {
     "duration": 0.024082,
     "end_time": "2023-05-24T08:14:40.178789",
     "exception": false,
     "start_time": "2023-05-24T08:14:40.154707",
     "status": "completed"
    },
    "tags": []
   },
   "outputs": [],
   "source": [
    "# for batch in dataloader_valid:\n",
    "#     frag_crop,mask_crop,xys = batch\n",
    "#     print(len(xys))"
   ]
  },
  {
   "cell_type": "code",
   "execution_count": 16,
   "id": "b1ce2a4c",
   "metadata": {
    "execution": {
     "iopub.execute_input": "2023-05-24T08:14:40.214048Z",
     "iopub.status.busy": "2023-05-24T08:14:40.213697Z",
     "iopub.status.idle": "2023-05-24T08:14:40.218471Z",
     "shell.execute_reply": "2023-05-24T08:14:40.217313Z"
    },
    "papermill": {
     "duration": 0.025706,
     "end_time": "2023-05-24T08:14:40.221150",
     "exception": false,
     "start_time": "2023-05-24T08:14:40.195444",
     "status": "completed"
    },
    "tags": []
   },
   "outputs": [],
   "source": [
    "# for i in range(len(dataset_valid)):\n",
    "#     frag_crop,mask_crop,xys = dataset_valid[i]\n",
    "#     print(frag_crop.shape)"
   ]
  },
  {
   "cell_type": "markdown",
   "id": "c8f6f215",
   "metadata": {
    "papermill": {
     "duration": 0.01634,
     "end_time": "2023-05-24T08:14:40.254084",
     "exception": false,
     "start_time": "2023-05-24T08:14:40.237744",
     "status": "completed"
    },
    "tags": []
   },
   "source": [
    "### Model\n",
    "* Encoder is a 3D ResNet model. The architecture has been modified to remove temporal downsampling between blocks.\n",
    "* A 2D decoder is used for predicting the segmentation map.\n",
    "* The encoder feature maps are average pooled over the Z dimension before passing it to the decoder."
   ]
  },
  {
   "cell_type": "code",
   "execution_count": 17,
   "id": "2dd57728",
   "metadata": {
    "execution": {
     "iopub.execute_input": "2023-05-24T08:14:40.290095Z",
     "iopub.status.busy": "2023-05-24T08:14:40.289798Z",
     "iopub.status.idle": "2023-05-24T08:14:40.294286Z",
     "shell.execute_reply": "2023-05-24T08:14:40.293102Z"
    },
    "papermill": {
     "duration": 0.025035,
     "end_time": "2023-05-24T08:14:40.296635",
     "exception": false,
     "start_time": "2023-05-24T08:14:40.271600",
     "status": "completed"
    },
    "tags": []
   },
   "outputs": [],
   "source": [
    "class CFG:\n",
    "    backbone = 'resnet3d'"
   ]
  },
  {
   "cell_type": "code",
   "execution_count": 18,
   "id": "51be9d6d",
   "metadata": {
    "execution": {
     "iopub.execute_input": "2023-05-24T08:14:40.331675Z",
     "iopub.status.busy": "2023-05-24T08:14:40.331387Z",
     "iopub.status.idle": "2023-05-24T08:14:40.357471Z",
     "shell.execute_reply": "2023-05-24T08:14:40.356450Z"
    },
    "papermill": {
     "duration": 0.046065,
     "end_time": "2023-05-24T08:14:40.359957",
     "exception": false,
     "start_time": "2023-05-24T08:14:40.313892",
     "status": "completed"
    },
    "tags": []
   },
   "outputs": [],
   "source": [
    "def normalization(x):\n",
    "    \"\"\"input.shape=(batch,f1,f2,...)\"\"\"\n",
    "    #[batch,f1,f2]->dim[1,2]\n",
    "    dim=list(range(1,x.ndim))\n",
    "    mean=x.mean(dim=dim,keepdim=True)\n",
    "    std=x.std(dim=dim,keepdim=True)\n",
    "    return (x-mean)/(std+1e-9)\n",
    "class Decoder(nn.Module):\n",
    "    def __init__(self, encoder_dims, upscale):\n",
    "        super().__init__()\n",
    "        self.convs = nn.ModuleList([\n",
    "            nn.Sequential(\n",
    "                nn.Conv2d(encoder_dims[i]+encoder_dims[i-1], encoder_dims[i-1], 3, 1, 1, bias=False),\n",
    "                nn.BatchNorm2d(encoder_dims[i-1]),\n",
    "                nn.ReLU(inplace=True)\n",
    "            ) for i in range(1, len(encoder_dims))])\n",
    "\n",
    "        self.logit = nn.Conv2d(encoder_dims[0], 1, 1, 1, 0)\n",
    "        self.up = nn.Upsample(scale_factor=upscale, mode=\"bilinear\")\n",
    "\n",
    "    def forward(self, feature_maps):\n",
    "        for i in range(len(feature_maps)-1, 0, -1):\n",
    "            f_up = F.interpolate(feature_maps[i], scale_factor=2, mode=\"bilinear\")\n",
    "            f = torch.cat([feature_maps[i-1], f_up], dim=1)\n",
    "            f_down = self.convs[i-1](f)\n",
    "            feature_maps[i-1] = f_down\n",
    "\n",
    "        x = self.logit(feature_maps[0])\n",
    "        mask = self.up(x)\n",
    "        return mask\n",
    "\n",
    "\n",
    "class SegModel(nn.Module):\n",
    "    def __init__(self):\n",
    "        super().__init__()\n",
    "        self.encoder = generate_model(model_depth=34, n_input_channels=1)\n",
    "        self.decoder = Decoder(encoder_dims=[64, 128, 256, 512], upscale=4)\n",
    "        \n",
    "    def forward(self, x):\n",
    "        if x.ndim==4:\n",
    "            x=x[:,None]\n",
    "            \n",
    "        feat_maps = self.encoder(x)\n",
    "        feat_maps_pooled = [torch.mean(f, dim=2) for f in feat_maps]\n",
    "        pred_mask = self.decoder(feat_maps_pooled)\n",
    "        return pred_mask\n",
    "    \n",
    "    def load_pretrained_weights(self, state_dict):\n",
    "        # Convert 3 channel weights to single channel\n",
    "        # ref - https://timm.fast.ai/models#Case-1:-When-the-number-of-input-channels-is-1\n",
    "        conv1_weight = state_dict['conv1.weight']\n",
    "        state_dict['conv1.weight'] = conv1_weight.sum(dim=1, keepdim=True)\n",
    "        print(self.encoder.load_state_dict(state_dict, strict=False))\n",
    "        \n",
    "class CustomModel(nn.Module):\n",
    "    def __init__(self, cfg=CFG, weight=None):\n",
    "        super().__init__()\n",
    "        self.cfg = cfg\n",
    "\n",
    "        if cfg.backbone==\"resnet3d\":\n",
    "            self.encoder=SegModel()\n",
    "        elif cfg.backbone[:3]!=\"mit\":\n",
    "            self.encoder = smp.Unet(\n",
    "                encoder_name=cfg.backbone, \n",
    "                encoder_weights=weight,\n",
    "                in_channels=cfg.in_chans,\n",
    "                classes=cfg.target_size,\n",
    "                activation=None,\n",
    "            )\n",
    "        else :\n",
    "            self.encoder = smp.Unet(\n",
    "                encoder_name=cfg.backbone, \n",
    "                encoder_weights=weight,\n",
    "                classes=cfg.target_size,\n",
    "                activation=None,\n",
    "            )\n",
    "            print(self.encoder.encoder.patch_embed1.proj)\n",
    "            out_channels=self.encoder.encoder.patch_embed1.proj.out_channels\n",
    "            self.encoder.encoder.patch_embed1.proj=nn.Conv2d(cfg.in_chans,out_channels,7,4,3)\n",
    "\n",
    "    def forward(self, images:torch.Tensor):\n",
    "        #image.shape=(b,C,H,W)\n",
    "        if images.ndim==4:\n",
    "            images=images[:,None]\n",
    "        images=normalization(images)\n",
    "        output = self.encoder(images)\n",
    "        return output"
   ]
  },
  {
   "cell_type": "code",
   "execution_count": 19,
   "id": "56be6132",
   "metadata": {
    "execution": {
     "iopub.execute_input": "2023-05-24T08:14:40.397027Z",
     "iopub.status.busy": "2023-05-24T08:14:40.396098Z",
     "iopub.status.idle": "2023-05-24T08:14:45.104631Z",
     "shell.execute_reply": "2023-05-24T08:14:45.102826Z"
    },
    "papermill": {
     "duration": 4.732745,
     "end_time": "2023-05-24T08:14:45.110187",
     "exception": false,
     "start_time": "2023-05-24T08:14:40.377442",
     "status": "completed"
    },
    "tags": []
   },
   "outputs": [
    {
     "name": "stdout",
     "output_type": "stream",
     "text": [
      "_IncompatibleKeys(missing_keys=[], unexpected_keys=['fc.weight', 'fc.bias'])\n"
     ]
    }
   ],
   "source": [
    "model = CustomModel()\n",
    "model.encoder.load_pretrained_weights(torch.load(\"r3d34_K_200ep.pth\")[\"state_dict\"])\n",
    "model = nn.DataParallel(model, device_ids=[0, 1])\n",
    "model = model.cuda()"
   ]
  },
  {
   "cell_type": "markdown",
   "id": "8729211f",
   "metadata": {
    "papermill": {
     "duration": 0.031316,
     "end_time": "2023-05-24T08:14:45.172784",
     "exception": false,
     "start_time": "2023-05-24T08:14:45.141468",
     "status": "completed"
    },
    "tags": []
   },
   "source": [
    "### Competition metric (F0.5 Score)"
   ]
  },
  {
   "cell_type": "code",
   "execution_count": 20,
   "id": "a0b1a5c4",
   "metadata": {
    "execution": {
     "iopub.execute_input": "2023-05-24T08:14:45.228079Z",
     "iopub.status.busy": "2023-05-24T08:14:45.227548Z",
     "iopub.status.idle": "2023-05-24T08:14:45.244359Z",
     "shell.execute_reply": "2023-05-24T08:14:45.243210Z"
    },
    "papermill": {
     "duration": 0.047263,
     "end_time": "2023-05-24T08:14:45.247591",
     "exception": false,
     "start_time": "2023-05-24T08:14:45.200328",
     "status": "completed"
    },
    "tags": []
   },
   "outputs": [],
   "source": [
    "# ref - https://www.kaggle.com/competitions/vesuvius-challenge-ink-detection/discussion/397288\n",
    "def fbeta_score(preds, targets, threshold, beta=0.5, smooth=1e-5):\n",
    "    preds_t = torch.where(preds > threshold, 1.0, 0.0).float()\n",
    "    y_true_count = targets.sum()\n",
    "    \n",
    "    ctp = preds_t[targets==1].sum()\n",
    "    cfp = preds_t[targets==0].sum()\n",
    "    beta_squared = beta * beta\n",
    "\n",
    "    c_precision = ctp / (ctp + cfp + smooth)\n",
    "    c_recall = ctp / (y_true_count + smooth)\n",
    "    dice = (1 + beta_squared) * (c_precision * c_recall) / (beta_squared * c_precision + c_recall + smooth)\n",
    "\n",
    "    return dice"
   ]
  },
  {
   "cell_type": "markdown",
   "id": "a4033f65",
   "metadata": {
    "papermill": {
     "duration": 0.022553,
     "end_time": "2023-05-24T08:14:45.297928",
     "exception": false,
     "start_time": "2023-05-24T08:14:45.275375",
     "status": "completed"
    },
    "tags": []
   },
   "source": [
    "### Training"
   ]
  },
  {
   "cell_type": "code",
   "execution_count": 21,
   "id": "dc64f0be",
   "metadata": {
    "execution": {
     "iopub.execute_input": "2023-05-24T08:14:45.335164Z",
     "iopub.status.busy": "2023-05-24T08:14:45.334743Z",
     "iopub.status.idle": "2023-05-24T08:15:03.168994Z",
     "shell.execute_reply": "2023-05-24T08:15:03.167706Z"
    },
    "papermill": {
     "duration": 17.856003,
     "end_time": "2023-05-24T08:15:03.172064",
     "exception": false,
     "start_time": "2023-05-24T08:14:45.316061",
     "status": "completed"
    },
    "scrolled": true,
    "tags": []
   },
   "outputs": [
    {
     "name": "stdout",
     "output_type": "stream",
     "text": [
      "Collecting segmentation_models_pytorch\r\n",
      "  Downloading segmentation_models_pytorch-0.3.2-py3-none-any.whl (106 kB)\r\n",
      "\u001b[2K     \u001b[90m━━━━━━━━━━━━━━━━━━━━━━━━━━━━━━━━━━━━━━━\u001b[0m \u001b[32m106.7/106.7 kB\u001b[0m \u001b[31m6.1 MB/s\u001b[0m eta \u001b[36m0:00:00\u001b[0m\r\n",
      "\u001b[?25hCollecting efficientnet-pytorch==0.7.1\r\n",
      "  Downloading efficientnet_pytorch-0.7.1.tar.gz (21 kB)\r\n",
      "  Preparing metadata (setup.py) ... \u001b[?25l-\b \bdone\r\n",
      "\u001b[?25hRequirement already satisfied: pillow in /opt/conda/lib/python3.7/site-packages (from segmentation_models_pytorch) (9.4.0)\r\n",
      "Collecting pretrainedmodels==0.7.4\r\n",
      "  Downloading pretrainedmodels-0.7.4.tar.gz (58 kB)\r\n",
      "\u001b[2K     \u001b[90m━━━━━━━━━━━━━━━━━━━━━━━━━━━━━━━━━━━━━━━━\u001b[0m \u001b[32m58.8/58.8 kB\u001b[0m \u001b[31m6.0 MB/s\u001b[0m eta \u001b[36m0:00:00\u001b[0m\r\n",
      "\u001b[?25h  Preparing metadata (setup.py) ... \u001b[?25l-\b \bdone\r\n",
      "\u001b[?25hRequirement already satisfied: tqdm in /opt/conda/lib/python3.7/site-packages (from segmentation_models_pytorch) (4.64.1)\r\n",
      "Collecting timm==0.6.12\r\n",
      "  Downloading timm-0.6.12-py3-none-any.whl (549 kB)\r\n",
      "\u001b[2K     \u001b[90m━━━━━━━━━━━━━━━━━━━━━━━━━━━━━━━━━━━━━━\u001b[0m \u001b[32m549.1/549.1 kB\u001b[0m \u001b[31m25.5 MB/s\u001b[0m eta \u001b[36m0:00:00\u001b[0m\r\n",
      "\u001b[?25hRequirement already satisfied: torchvision>=0.5.0 in /opt/conda/lib/python3.7/site-packages (from segmentation_models_pytorch) (0.14.0)\r\n",
      "Requirement already satisfied: torch in /opt/conda/lib/python3.7/site-packages (from efficientnet-pytorch==0.7.1->segmentation_models_pytorch) (1.13.0)\r\n",
      "Requirement already satisfied: munch in /opt/conda/lib/python3.7/site-packages (from pretrainedmodels==0.7.4->segmentation_models_pytorch) (2.5.0)\r\n",
      "Requirement already satisfied: huggingface-hub in /opt/conda/lib/python3.7/site-packages (from timm==0.6.12->segmentation_models_pytorch) (0.13.3)\r\n",
      "Requirement already satisfied: pyyaml in /opt/conda/lib/python3.7/site-packages (from timm==0.6.12->segmentation_models_pytorch) (6.0)\r\n",
      "Requirement already satisfied: requests in /opt/conda/lib/python3.7/site-packages (from torchvision>=0.5.0->segmentation_models_pytorch) (2.28.2)\r\n",
      "Requirement already satisfied: typing-extensions in /opt/conda/lib/python3.7/site-packages (from torchvision>=0.5.0->segmentation_models_pytorch) (4.4.0)\r\n",
      "Requirement already satisfied: numpy in /opt/conda/lib/python3.7/site-packages (from torchvision>=0.5.0->segmentation_models_pytorch) (1.21.6)\r\n",
      "Requirement already satisfied: importlib-metadata in /opt/conda/lib/python3.7/site-packages (from huggingface-hub->timm==0.6.12->segmentation_models_pytorch) (4.11.4)\r\n",
      "Requirement already satisfied: packaging>=20.9 in /opt/conda/lib/python3.7/site-packages (from huggingface-hub->timm==0.6.12->segmentation_models_pytorch) (23.0)\r\n",
      "Requirement already satisfied: filelock in /opt/conda/lib/python3.7/site-packages (from huggingface-hub->timm==0.6.12->segmentation_models_pytorch) (3.9.0)\r\n",
      "Requirement already satisfied: six in /opt/conda/lib/python3.7/site-packages (from munch->pretrainedmodels==0.7.4->segmentation_models_pytorch) (1.16.0)\r\n",
      "Requirement already satisfied: urllib3<1.27,>=1.21.1 in /opt/conda/lib/python3.7/site-packages (from requests->torchvision>=0.5.0->segmentation_models_pytorch) (1.26.14)\r\n",
      "Requirement already satisfied: certifi>=2017.4.17 in /opt/conda/lib/python3.7/site-packages (from requests->torchvision>=0.5.0->segmentation_models_pytorch) (2022.12.7)\r\n",
      "Requirement already satisfied: idna<4,>=2.5 in /opt/conda/lib/python3.7/site-packages (from requests->torchvision>=0.5.0->segmentation_models_pytorch) (3.4)\r\n",
      "Requirement already satisfied: charset-normalizer<4,>=2 in /opt/conda/lib/python3.7/site-packages (from requests->torchvision>=0.5.0->segmentation_models_pytorch) (2.1.1)\r\n",
      "Requirement already satisfied: zipp>=0.5 in /opt/conda/lib/python3.7/site-packages (from importlib-metadata->huggingface-hub->timm==0.6.12->segmentation_models_pytorch) (3.11.0)\r\n",
      "Building wheels for collected packages: efficientnet-pytorch, pretrainedmodels\r\n",
      "  Building wheel for efficientnet-pytorch (setup.py) ... \u001b[?25l-\b \bdone\r\n",
      "\u001b[?25h  Created wheel for efficientnet-pytorch: filename=efficientnet_pytorch-0.7.1-py3-none-any.whl size=16446 sha256=248690415de8463afc4ad7eabfe08ac2581b64622d6bc8fc775d8354f2e425bc\r\n",
      "  Stored in directory: /root/.cache/pip/wheels/96/3f/5f/13976445f67f3b4e77b054e65f7f4c39016e92e8358fe088db\r\n",
      "  Building wheel for pretrainedmodels (setup.py) ... \u001b[?25l-\b \b\\\b \bdone\r\n",
      "\u001b[?25h  Created wheel for pretrainedmodels: filename=pretrainedmodels-0.7.4-py3-none-any.whl size=60966 sha256=e501ee4cc31c9321488020c9e66f101a4da2a76fde7d0ba5cd3acb02184172ba\r\n",
      "  Stored in directory: /root/.cache/pip/wheels/4f/89/a3/5cf59e30a8a75c917c313f14da0f6209be2d147e3160b985d6\r\n",
      "Successfully built efficientnet-pytorch pretrainedmodels\r\n",
      "Installing collected packages: efficientnet-pytorch, timm, pretrainedmodels, segmentation_models_pytorch\r\n",
      "  Attempting uninstall: timm\r\n",
      "    Found existing installation: timm 0.6.13\r\n",
      "    Uninstalling timm-0.6.13:\r\n",
      "      Successfully uninstalled timm-0.6.13\r\n",
      "Successfully installed efficientnet-pytorch-0.7.1 pretrainedmodels-0.7.4 segmentation_models_pytorch-0.3.2 timm-0.6.12\r\n",
      "\u001b[33mWARNING: Running pip as the 'root' user can result in broken permissions and conflicting behaviour with the system package manager. It is recommended to use a virtual environment instead: https://pip.pypa.io/warnings/venv\u001b[0m\u001b[33m\r\n",
      "\u001b[0m"
     ]
    }
   ],
   "source": [
    "# import sys\n",
    "# sys.path.append('/kaggle/input/segmentation-models-pytorch/segmentation_models.pytorch-master')\n",
    "# import segmentation_models_pytorch as smp\n",
    "!pip install segmentation_models_pytorch"
   ]
  },
  {
   "cell_type": "code",
   "execution_count": 22,
   "id": "282cb60f",
   "metadata": {
    "execution": {
     "iopub.execute_input": "2023-05-24T08:15:03.213761Z",
     "iopub.status.busy": "2023-05-24T08:15:03.212785Z",
     "iopub.status.idle": "2023-05-24T08:15:06.486980Z",
     "shell.execute_reply": "2023-05-24T08:15:06.485433Z"
    },
    "papermill": {
     "duration": 3.298184,
     "end_time": "2023-05-24T08:15:06.490626",
     "exception": false,
     "start_time": "2023-05-24T08:15:03.192442",
     "status": "completed"
    },
    "tags": []
   },
   "outputs": [],
   "source": [
    "import segmentation_models_pytorch as smp\n",
    "# from segmentation_models_pytorch.decoders.unet.decoder import UnetDecoder"
   ]
  },
  {
   "cell_type": "code",
   "execution_count": 23,
   "id": "aece1e55",
   "metadata": {
    "execution": {
     "iopub.execute_input": "2023-05-24T08:15:06.531467Z",
     "iopub.status.busy": "2023-05-24T08:15:06.530947Z",
     "iopub.status.idle": "2023-05-24T08:15:06.539367Z",
     "shell.execute_reply": "2023-05-24T08:15:06.538204Z"
    },
    "papermill": {
     "duration": 0.032513,
     "end_time": "2023-05-24T08:15:06.542478",
     "exception": false,
     "start_time": "2023-05-24T08:15:06.509965",
     "status": "completed"
    },
    "tags": []
   },
   "outputs": [],
   "source": [
    "DiceLoss = smp.losses.DiceLoss(mode='binary')\n",
    "BCELoss = smp.losses.SoftBCEWithLogitsLoss()\n",
    "\n",
    "alpha = 0.5\n",
    "beta = 1 - alpha\n",
    "TverskyLoss = smp.losses.TverskyLoss(\n",
    "    mode='binary', log_loss=False, alpha=alpha, beta=beta)\n",
    "\n",
    "def criterion(y_pred, y_true):\n",
    "    return 0.5 * BCELoss(y_pred, y_true) + 0.5 * DiceLoss(y_pred, y_true)\n",
    "#     return BCELoss(y_pred, y_true)\n",
    "    # return 0.5 * BCELoss(y_pred, y_true) + 0.5 * TverskyLoss(y_pred, y_true)"
   ]
  },
  {
   "cell_type": "code",
   "execution_count": 24,
   "id": "2f7b3ba5",
   "metadata": {
    "execution": {
     "iopub.execute_input": "2023-05-24T08:15:06.582471Z",
     "iopub.status.busy": "2023-05-24T08:15:06.581794Z",
     "iopub.status.idle": "2023-05-24T08:15:06.590054Z",
     "shell.execute_reply": "2023-05-24T08:15:06.588954Z"
    },
    "papermill": {
     "duration": 0.030753,
     "end_time": "2023-05-24T08:15:06.592506",
     "exception": false,
     "start_time": "2023-05-24T08:15:06.561753",
     "status": "completed"
    },
    "tags": []
   },
   "outputs": [],
   "source": [
    "scaler = amp.GradScaler()\n",
    "# criterion = nn.BCEWithLogitsLoss()\n",
    "optimizer = torch.optim.AdamW(model.parameters(), lr=LR)\n",
    "scheduler = torch.optim.lr_scheduler.OneCycleLR(optimizer, max_lr=LR,\n",
    "                                                steps_per_epoch=10, epochs=EPOCHS//10,\n",
    "                                                pct_start=0.1)"
   ]
  },
  {
   "cell_type": "code",
   "execution_count": 25,
   "id": "1d399596",
   "metadata": {
    "execution": {
     "iopub.execute_input": "2023-05-24T08:15:06.633358Z",
     "iopub.status.busy": "2023-05-24T08:15:06.632289Z",
     "iopub.status.idle": "2023-05-24T08:15:08.068138Z",
     "shell.execute_reply": "2023-05-24T08:15:08.066524Z"
    },
    "papermill": {
     "duration": 1.459613,
     "end_time": "2023-05-24T08:15:08.071088",
     "exception": false,
     "start_time": "2023-05-24T08:15:06.611475",
     "status": "completed"
    },
    "tags": []
   },
   "outputs": [],
   "source": [
    "if TEST_FRAGMENT == '2a':\n",
    "    FRAGMENT='2'\n",
    "    gt_mask = torch.from_numpy(np.asarray(FRAGMENTS_ZARR[FRAGMENT].truth)[:9456,:]).float().cuda()\n",
    "    gt_shape = list(FRAGMENTS_SHAPE[FRAGMENT])\n",
    "    gt_shape[0] = 9456\n",
    "    gt_shape = tuple(gt_shape)\n",
    "else:\n",
    "    gt_mask = torch.from_numpy(np.asarray(FRAGMENTS_ZARR[TEST_FRAGMENT].truth)).float().cuda()\n",
    "    gt_shape = FRAGMENTS_SHAPE[TEST_FRAGMENT]"
   ]
  },
  {
   "cell_type": "code",
   "execution_count": 26,
   "id": "a0ed2581",
   "metadata": {
    "execution": {
     "iopub.execute_input": "2023-05-24T08:15:08.112882Z",
     "iopub.status.busy": "2023-05-24T08:15:08.112541Z",
     "iopub.status.idle": "2023-05-24T09:39:09.073745Z",
     "shell.execute_reply": "2023-05-24T09:39:09.072141Z"
    },
    "papermill": {
     "duration": 5041.206921,
     "end_time": "2023-05-24T09:39:09.298898",
     "exception": false,
     "start_time": "2023-05-24T08:15:08.091977",
     "status": "completed"
    },
    "tags": []
   },
   "outputs": [
    {
     "name": "stderr",
     "output_type": "stream",
     "text": [
      "Epoch 1/50  Mem : 6.11GB  LR : 4.00E-06  Loss: 0.6864: 100%|██████████| 85/85 [01:48<00:00,  1.27s/it]\n",
      "Val Loss: 0.6561: 100%|██████████| 56/56 [01:10<00:00,  1.26s/it]\n"
     ]
    },
    {
     "name": "stdout",
     "output_type": "stream",
     "text": [
      "Threshold : 0.20\tFBeta : 0.130593\n",
      "Threshold : 0.25\tFBeta : 0.182171\n",
      "Threshold : 0.30\tFBeta : 0.206006\n",
      "Threshold : 0.35\tFBeta : 0.215322\n",
      "Threshold : 0.40\tFBeta : 0.223603\n",
      "Threshold : 0.45\tFBeta : 0.234351\n",
      "Threshold : 0.50\tFBeta : 0.247846\n",
      "Threshold : 0.55\tFBeta : 0.260494\n",
      "Threshold : 0.60\tFBeta : 0.266480\n",
      "Threshold : 0.65\tFBeta : 0.264846\n",
      "\n"
     ]
    },
    {
     "name": "stderr",
     "output_type": "stream",
     "text": [
      "Epoch 2/50  Mem : 8.63GB  LR : 1.81E-05  Loss: 0.6451: 100%|██████████| 85/85 [01:38<00:00,  1.16s/it]\n",
      "Val Loss: 0.5977: 100%|██████████| 56/56 [01:07<00:00,  1.21s/it]\n"
     ]
    },
    {
     "name": "stdout",
     "output_type": "stream",
     "text": [
      "Threshold : 0.20\tFBeta : 0.183280\n",
      "Threshold : 0.25\tFBeta : 0.216877\n",
      "Threshold : 0.30\tFBeta : 0.225898\n",
      "Threshold : 0.35\tFBeta : 0.241894\n",
      "Threshold : 0.40\tFBeta : 0.263767\n",
      "Threshold : 0.45\tFBeta : 0.284396\n",
      "Threshold : 0.50\tFBeta : 0.294207\n",
      "Threshold : 0.55\tFBeta : 0.293081\n",
      "Threshold : 0.60\tFBeta : 0.283727\n",
      "Threshold : 0.65\tFBeta : 0.262237\n",
      "\n"
     ]
    },
    {
     "name": "stderr",
     "output_type": "stream",
     "text": [
      "Epoch 3/50  Mem : 8.63GB  LR : 5.20E-05  Loss: 0.5903: 100%|██████████| 85/85 [01:39<00:00,  1.17s/it]\n",
      "Val Loss: 0.6293: 100%|██████████| 56/56 [01:07<00:00,  1.21s/it]\n"
     ]
    },
    {
     "name": "stdout",
     "output_type": "stream",
     "text": [
      "Threshold : 0.20\tFBeta : 0.208512\n",
      "Threshold : 0.25\tFBeta : 0.217979\n",
      "Threshold : 0.30\tFBeta : 0.228433\n",
      "Threshold : 0.35\tFBeta : 0.243478\n",
      "Threshold : 0.40\tFBeta : 0.261087\n",
      "Threshold : 0.45\tFBeta : 0.275643\n",
      "Threshold : 0.50\tFBeta : 0.287559\n",
      "Threshold : 0.55\tFBeta : 0.299979\n",
      "Threshold : 0.60\tFBeta : 0.310684\n",
      "Threshold : 0.65\tFBeta : 0.317780\n",
      "\n"
     ]
    },
    {
     "name": "stderr",
     "output_type": "stream",
     "text": [
      "Epoch 4/50  Mem : 8.63GB  LR : 8.59E-05  Loss: 0.5485: 100%|██████████| 85/85 [01:38<00:00,  1.16s/it]\n",
      "Val Loss: 0.5335: 100%|██████████| 56/56 [01:07<00:00,  1.21s/it]\n"
     ]
    },
    {
     "name": "stdout",
     "output_type": "stream",
     "text": [
      "Threshold : 0.20\tFBeta : 0.288346\n",
      "Threshold : 0.25\tFBeta : 0.337492\n",
      "Threshold : 0.30\tFBeta : 0.365604\n",
      "Threshold : 0.35\tFBeta : 0.379730\n",
      "Threshold : 0.40\tFBeta : 0.389431\n",
      "Threshold : 0.45\tFBeta : 0.398230\n",
      "Threshold : 0.50\tFBeta : 0.405629\n",
      "Threshold : 0.55\tFBeta : 0.407739\n",
      "Threshold : 0.60\tFBeta : 0.396116\n",
      "Threshold : 0.65\tFBeta : 0.379131\n",
      "\n"
     ]
    },
    {
     "name": "stderr",
     "output_type": "stream",
     "text": [
      "Epoch 5/50  Mem : 8.63GB  LR : 1.00E-04  Loss: 0.5172: 100%|██████████| 85/85 [01:38<00:00,  1.16s/it]\n",
      "Val Loss: 0.6208: 100%|██████████| 56/56 [01:07<00:00,  1.21s/it]\n"
     ]
    },
    {
     "name": "stdout",
     "output_type": "stream",
     "text": [
      "Threshold : 0.20\tFBeta : 0.234911\n",
      "Threshold : 0.25\tFBeta : 0.243850\n",
      "Threshold : 0.30\tFBeta : 0.252586\n",
      "Threshold : 0.35\tFBeta : 0.260909\n",
      "Threshold : 0.40\tFBeta : 0.268580\n",
      "Threshold : 0.45\tFBeta : 0.275568\n",
      "Threshold : 0.50\tFBeta : 0.286233\n",
      "Threshold : 0.55\tFBeta : 0.300106\n",
      "Threshold : 0.60\tFBeta : 0.314217\n",
      "Threshold : 0.65\tFBeta : 0.328182\n",
      "\n"
     ]
    },
    {
     "name": "stderr",
     "output_type": "stream",
     "text": [
      "Epoch 6/50  Mem : 8.63GB  LR : 9.99E-05  Loss: 0.4966: 100%|██████████| 85/85 [01:38<00:00,  1.16s/it]\n",
      "Val Loss: 0.5291: 100%|██████████| 56/56 [01:07<00:00,  1.20s/it]\n"
     ]
    },
    {
     "name": "stdout",
     "output_type": "stream",
     "text": [
      "Threshold : 0.20\tFBeta : 0.299953\n",
      "Threshold : 0.25\tFBeta : 0.324913\n",
      "Threshold : 0.30\tFBeta : 0.343941\n",
      "Threshold : 0.35\tFBeta : 0.355452\n",
      "Threshold : 0.40\tFBeta : 0.364103\n",
      "Threshold : 0.45\tFBeta : 0.370657\n",
      "Threshold : 0.50\tFBeta : 0.377203\n",
      "Threshold : 0.55\tFBeta : 0.381296\n",
      "Threshold : 0.60\tFBeta : 0.380930\n",
      "Threshold : 0.65\tFBeta : 0.372682\n",
      "\n"
     ]
    },
    {
     "name": "stderr",
     "output_type": "stream",
     "text": [
      "Epoch 7/50  Mem : 8.63GB  LR : 9.95E-05  Loss: 0.4711: 100%|██████████| 85/85 [01:38<00:00,  1.16s/it]\n",
      "Val Loss: 0.7224: 100%|██████████| 56/56 [01:07<00:00,  1.20s/it]\n"
     ]
    },
    {
     "name": "stdout",
     "output_type": "stream",
     "text": [
      "Threshold : 0.20\tFBeta : 0.235424\n",
      "Threshold : 0.25\tFBeta : 0.239109\n",
      "Threshold : 0.30\tFBeta : 0.242077\n",
      "Threshold : 0.35\tFBeta : 0.244490\n",
      "Threshold : 0.40\tFBeta : 0.246629\n",
      "Threshold : 0.45\tFBeta : 0.248635\n",
      "Threshold : 0.50\tFBeta : 0.252014\n",
      "Threshold : 0.55\tFBeta : 0.256928\n",
      "Threshold : 0.60\tFBeta : 0.260290\n",
      "Threshold : 0.65\tFBeta : 0.263641\n",
      "\n"
     ]
    },
    {
     "name": "stderr",
     "output_type": "stream",
     "text": [
      "Epoch 8/50  Mem : 8.63GB  LR : 9.89E-05  Loss: 0.4577: 100%|██████████| 85/85 [01:38<00:00,  1.15s/it]\n",
      "Val Loss: 0.5221: 100%|██████████| 56/56 [01:07<00:00,  1.21s/it]\n"
     ]
    },
    {
     "name": "stdout",
     "output_type": "stream",
     "text": [
      "Threshold : 0.20\tFBeta : 0.440209\n",
      "Threshold : 0.25\tFBeta : 0.442169\n",
      "Threshold : 0.30\tFBeta : 0.436446\n",
      "Threshold : 0.35\tFBeta : 0.429326\n",
      "Threshold : 0.40\tFBeta : 0.420787\n",
      "Threshold : 0.45\tFBeta : 0.411366\n",
      "Threshold : 0.50\tFBeta : 0.400001\n",
      "Threshold : 0.55\tFBeta : 0.384744\n",
      "Threshold : 0.60\tFBeta : 0.363779\n",
      "Threshold : 0.65\tFBeta : 0.338345\n",
      "\n"
     ]
    },
    {
     "name": "stderr",
     "output_type": "stream",
     "text": [
      "Epoch 9/50  Mem : 8.63GB  LR : 9.81E-05  Loss: 0.4349: 100%|██████████| 85/85 [01:38<00:00,  1.16s/it]\n",
      "Val Loss: 0.4926: 100%|██████████| 56/56 [01:07<00:00,  1.20s/it]\n"
     ]
    },
    {
     "name": "stdout",
     "output_type": "stream",
     "text": [
      "Threshold : 0.20\tFBeta : 0.385699\n",
      "Threshold : 0.25\tFBeta : 0.421698\n",
      "Threshold : 0.30\tFBeta : 0.442712\n",
      "Threshold : 0.35\tFBeta : 0.455348\n",
      "Threshold : 0.40\tFBeta : 0.461831\n",
      "Threshold : 0.45\tFBeta : 0.465575\n",
      "Threshold : 0.50\tFBeta : 0.465130\n",
      "Threshold : 0.55\tFBeta : 0.460538\n",
      "Threshold : 0.60\tFBeta : 0.455267\n",
      "Threshold : 0.65\tFBeta : 0.448834\n",
      "\n"
     ]
    },
    {
     "name": "stderr",
     "output_type": "stream",
     "text": [
      "Epoch 10/50  Mem : 8.63GB  LR : 9.70E-05  Loss: 0.4383: 100%|██████████| 85/85 [01:38<00:00,  1.16s/it]\n",
      "Val Loss: 0.5682: 100%|██████████| 56/56 [01:07<00:00,  1.21s/it]\n"
     ]
    },
    {
     "name": "stdout",
     "output_type": "stream",
     "text": [
      "Threshold : 0.20\tFBeta : 0.347060\n",
      "Threshold : 0.25\tFBeta : 0.304871\n",
      "Threshold : 0.30\tFBeta : 0.271561\n",
      "Threshold : 0.35\tFBeta : 0.241422\n",
      "Threshold : 0.40\tFBeta : 0.214677\n",
      "Threshold : 0.45\tFBeta : 0.180666\n",
      "Threshold : 0.50\tFBeta : 0.112494\n",
      "Threshold : 0.55\tFBeta : 0.081238\n",
      "Threshold : 0.60\tFBeta : 0.059201\n",
      "Threshold : 0.65\tFBeta : 0.039306\n",
      "\n"
     ]
    },
    {
     "name": "stderr",
     "output_type": "stream",
     "text": [
      "Epoch 11/50  Mem : 8.63GB  LR : 9.57E-05  Loss: 0.4146: 100%|██████████| 85/85 [01:38<00:00,  1.16s/it]\n",
      "Val Loss: 0.5980: 100%|██████████| 56/56 [01:08<00:00,  1.22s/it]\n"
     ]
    },
    {
     "name": "stdout",
     "output_type": "stream",
     "text": [
      "Threshold : 0.20\tFBeta : 0.149032\n",
      "Threshold : 0.25\tFBeta : 0.117206\n",
      "Threshold : 0.30\tFBeta : 0.098600\n",
      "Threshold : 0.35\tFBeta : 0.085479\n",
      "Threshold : 0.40\tFBeta : 0.074690\n",
      "Threshold : 0.45\tFBeta : 0.063165\n",
      "Threshold : 0.50\tFBeta : 0.042475\n",
      "Threshold : 0.55\tFBeta : 0.030800\n",
      "Threshold : 0.60\tFBeta : 0.021919\n",
      "Threshold : 0.65\tFBeta : 0.014566\n",
      "\n"
     ]
    },
    {
     "name": "stderr",
     "output_type": "stream",
     "text": [
      "Epoch 12/50  Mem : 8.63GB  LR : 9.41E-05  Loss: 0.4075: 100%|██████████| 85/85 [01:39<00:00,  1.17s/it]\n",
      "Val Loss: 0.5201: 100%|██████████| 56/56 [01:07<00:00,  1.21s/it]\n"
     ]
    },
    {
     "name": "stdout",
     "output_type": "stream",
     "text": [
      "Threshold : 0.20\tFBeta : 0.451547\n",
      "Threshold : 0.25\tFBeta : 0.449710\n",
      "Threshold : 0.30\tFBeta : 0.446889\n",
      "Threshold : 0.35\tFBeta : 0.443746\n",
      "Threshold : 0.40\tFBeta : 0.440577\n",
      "Threshold : 0.45\tFBeta : 0.435779\n",
      "Threshold : 0.50\tFBeta : 0.425489\n",
      "Threshold : 0.55\tFBeta : 0.415124\n",
      "Threshold : 0.60\tFBeta : 0.399597\n",
      "Threshold : 0.65\tFBeta : 0.378245\n",
      "\n"
     ]
    },
    {
     "name": "stderr",
     "output_type": "stream",
     "text": [
      "Epoch 13/50  Mem : 8.63GB  LR : 9.24E-05  Loss: 0.3902: 100%|██████████| 85/85 [01:38<00:00,  1.16s/it]\n",
      "Val Loss: 0.5250: 100%|██████████| 56/56 [01:07<00:00,  1.20s/it]\n"
     ]
    },
    {
     "name": "stdout",
     "output_type": "stream",
     "text": [
      "Threshold : 0.20\tFBeta : 0.460206\n",
      "Threshold : 0.25\tFBeta : 0.445466\n",
      "Threshold : 0.30\tFBeta : 0.431852\n",
      "Threshold : 0.35\tFBeta : 0.419806\n",
      "Threshold : 0.40\tFBeta : 0.408337\n",
      "Threshold : 0.45\tFBeta : 0.396413\n",
      "Threshold : 0.50\tFBeta : 0.381194\n",
      "Threshold : 0.55\tFBeta : 0.365744\n",
      "Threshold : 0.60\tFBeta : 0.347052\n",
      "Threshold : 0.65\tFBeta : 0.326493\n",
      "\n"
     ]
    },
    {
     "name": "stderr",
     "output_type": "stream",
     "text": [
      "Epoch 14/50  Mem : 8.63GB  LR : 9.05E-05  Loss: 0.3776: 100%|██████████| 85/85 [01:45<00:00,  1.24s/it]\n",
      "Val Loss: 0.4971: 100%|██████████| 56/56 [01:08<00:00,  1.22s/it]\n"
     ]
    },
    {
     "name": "stdout",
     "output_type": "stream",
     "text": [
      "Threshold : 0.20\tFBeta : 0.387252\n",
      "Threshold : 0.25\tFBeta : 0.397971\n",
      "Threshold : 0.30\tFBeta : 0.405342\n",
      "Threshold : 0.35\tFBeta : 0.410800\n",
      "Threshold : 0.40\tFBeta : 0.415680\n",
      "Threshold : 0.45\tFBeta : 0.421152\n",
      "Threshold : 0.50\tFBeta : 0.427524\n",
      "Threshold : 0.55\tFBeta : 0.435286\n",
      "Threshold : 0.60\tFBeta : 0.442678\n",
      "Threshold : 0.65\tFBeta : 0.449506\n",
      "\n"
     ]
    },
    {
     "name": "stderr",
     "output_type": "stream",
     "text": [
      "Epoch 15/50  Mem : 8.63GB  LR : 8.83E-05  Loss: 0.3658: 100%|██████████| 85/85 [01:38<00:00,  1.16s/it]\n",
      "Val Loss: 0.5328: 100%|██████████| 56/56 [01:07<00:00,  1.21s/it]\n"
     ]
    },
    {
     "name": "stdout",
     "output_type": "stream",
     "text": [
      "Threshold : 0.20\tFBeta : 0.453939\n",
      "Threshold : 0.25\tFBeta : 0.450901\n",
      "Threshold : 0.30\tFBeta : 0.445460\n",
      "Threshold : 0.35\tFBeta : 0.439939\n",
      "Threshold : 0.40\tFBeta : 0.433936\n",
      "Threshold : 0.45\tFBeta : 0.424189\n",
      "Threshold : 0.50\tFBeta : 0.405819\n",
      "Threshold : 0.55\tFBeta : 0.386903\n",
      "Threshold : 0.60\tFBeta : 0.366764\n",
      "Threshold : 0.65\tFBeta : 0.345246\n",
      "\n"
     ]
    },
    {
     "name": "stderr",
     "output_type": "stream",
     "text": [
      "Epoch 16/50  Mem : 8.63GB  LR : 8.60E-05  Loss: 0.3555: 100%|██████████| 85/85 [01:38<00:00,  1.16s/it]\n",
      "Val Loss: 0.4714: 100%|██████████| 56/56 [01:07<00:00,  1.20s/it]\n"
     ]
    },
    {
     "name": "stdout",
     "output_type": "stream",
     "text": [
      "Threshold : 0.20\tFBeta : 0.488708\n",
      "Threshold : 0.25\tFBeta : 0.496583\n",
      "Threshold : 0.30\tFBeta : 0.500829\n",
      "Threshold : 0.35\tFBeta : 0.503130\n",
      "Threshold : 0.40\tFBeta : 0.505318\n",
      "Threshold : 0.45\tFBeta : 0.507625\n",
      "Threshold : 0.50\tFBeta : 0.509070\n",
      "Threshold : 0.55\tFBeta : 0.509425\n",
      "Threshold : 0.60\tFBeta : 0.508769\n",
      "Threshold : 0.65\tFBeta : 0.505948\n",
      "\n"
     ]
    },
    {
     "name": "stderr",
     "output_type": "stream",
     "text": [
      "Epoch 17/50  Mem : 8.63GB  LR : 8.35E-05  Loss: 0.3351: 100%|██████████| 85/85 [01:38<00:00,  1.16s/it]\n",
      "Val Loss: 0.4908: 100%|██████████| 56/56 [01:07<00:00,  1.21s/it]\n"
     ]
    },
    {
     "name": "stdout",
     "output_type": "stream",
     "text": [
      "Threshold : 0.20\tFBeta : 0.510859\n",
      "Threshold : 0.25\tFBeta : 0.511166\n",
      "Threshold : 0.30\tFBeta : 0.510482\n",
      "Threshold : 0.35\tFBeta : 0.510074\n",
      "Threshold : 0.40\tFBeta : 0.509185\n",
      "Threshold : 0.45\tFBeta : 0.507432\n",
      "Threshold : 0.50\tFBeta : 0.503943\n",
      "Threshold : 0.55\tFBeta : 0.497875\n",
      "Threshold : 0.60\tFBeta : 0.489166\n",
      "Threshold : 0.65\tFBeta : 0.478238\n",
      "\n"
     ]
    },
    {
     "name": "stderr",
     "output_type": "stream",
     "text": [
      "Epoch 18/50  Mem : 8.63GB  LR : 8.08E-05  Loss: 0.3317: 100%|██████████| 85/85 [01:38<00:00,  1.16s/it]\n",
      "Val Loss: 0.4469: 100%|██████████| 56/56 [01:07<00:00,  1.21s/it]\n"
     ]
    },
    {
     "name": "stdout",
     "output_type": "stream",
     "text": [
      "Threshold : 0.20\tFBeta : 0.446292\n",
      "Threshold : 0.25\tFBeta : 0.456940\n",
      "Threshold : 0.30\tFBeta : 0.465349\n",
      "Threshold : 0.35\tFBeta : 0.472427\n",
      "Threshold : 0.40\tFBeta : 0.479462\n",
      "Threshold : 0.45\tFBeta : 0.488011\n",
      "Threshold : 0.50\tFBeta : 0.502720\n",
      "Threshold : 0.55\tFBeta : 0.511426\n",
      "Threshold : 0.60\tFBeta : 0.518531\n",
      "Threshold : 0.65\tFBeta : 0.524532\n",
      "\n"
     ]
    },
    {
     "name": "stderr",
     "output_type": "stream",
     "text": [
      "Epoch 19/50  Mem : 8.63GB  LR : 7.80E-05  Loss: 0.3222: 100%|██████████| 85/85 [01:38<00:00,  1.16s/it]\n",
      "Val Loss: 0.7018: 100%|██████████| 56/56 [01:07<00:00,  1.21s/it]\n"
     ]
    },
    {
     "name": "stdout",
     "output_type": "stream",
     "text": [
      "Threshold : 0.20\tFBeta : 0.250617\n",
      "Threshold : 0.25\tFBeta : 0.254914\n",
      "Threshold : 0.30\tFBeta : 0.258394\n",
      "Threshold : 0.35\tFBeta : 0.261523\n",
      "Threshold : 0.40\tFBeta : 0.264600\n",
      "Threshold : 0.45\tFBeta : 0.267843\n",
      "Threshold : 0.50\tFBeta : 0.271675\n",
      "Threshold : 0.55\tFBeta : 0.275929\n",
      "Threshold : 0.60\tFBeta : 0.281087\n",
      "Threshold : 0.65\tFBeta : 0.287357\n",
      "\n"
     ]
    },
    {
     "name": "stderr",
     "output_type": "stream",
     "text": [
      "Epoch 20/50  Mem : 8.63GB  LR : 7.50E-05  Loss: 0.2949: 100%|██████████| 85/85 [01:38<00:00,  1.16s/it]\n",
      "Val Loss: 0.4634: 100%|██████████| 56/56 [01:07<00:00,  1.21s/it]\n"
     ]
    },
    {
     "name": "stdout",
     "output_type": "stream",
     "text": [
      "Threshold : 0.20\tFBeta : 0.493286\n",
      "Threshold : 0.25\tFBeta : 0.499911\n",
      "Threshold : 0.30\tFBeta : 0.504399\n",
      "Threshold : 0.35\tFBeta : 0.507936\n",
      "Threshold : 0.40\tFBeta : 0.511327\n",
      "Threshold : 0.45\tFBeta : 0.514729\n",
      "Threshold : 0.50\tFBeta : 0.517910\n",
      "Threshold : 0.55\tFBeta : 0.519593\n",
      "Threshold : 0.60\tFBeta : 0.521168\n",
      "Threshold : 0.65\tFBeta : 0.521979\n",
      "\n"
     ]
    },
    {
     "name": "stderr",
     "output_type": "stream",
     "text": [
      "Epoch 21/50  Mem : 8.63GB  LR : 7.19E-05  Loss: 0.2929: 100%|██████████| 85/85 [01:38<00:00,  1.16s/it]\n",
      "Val Loss: 0.5144: 100%|██████████| 56/56 [01:07<00:00,  1.21s/it]\n"
     ]
    },
    {
     "name": "stdout",
     "output_type": "stream",
     "text": [
      "Threshold : 0.20\tFBeta : 0.369532\n",
      "Threshold : 0.25\tFBeta : 0.378386\n",
      "Threshold : 0.30\tFBeta : 0.384640\n",
      "Threshold : 0.35\tFBeta : 0.389658\n",
      "Threshold : 0.40\tFBeta : 0.394735\n",
      "Threshold : 0.45\tFBeta : 0.399808\n",
      "Threshold : 0.50\tFBeta : 0.404976\n",
      "Threshold : 0.55\tFBeta : 0.410065\n",
      "Threshold : 0.60\tFBeta : 0.416113\n",
      "Threshold : 0.65\tFBeta : 0.422839\n",
      "\n"
     ]
    },
    {
     "name": "stderr",
     "output_type": "stream",
     "text": [
      "Epoch 22/50  Mem : 8.63GB  LR : 6.87E-05  Loss: 0.2895: 100%|██████████| 85/85 [01:39<00:00,  1.18s/it]\n",
      "Val Loss: 0.5492: 100%|██████████| 56/56 [01:08<00:00,  1.22s/it]\n"
     ]
    },
    {
     "name": "stdout",
     "output_type": "stream",
     "text": [
      "Threshold : 0.20\tFBeta : 0.447832\n",
      "Threshold : 0.25\tFBeta : 0.442750\n",
      "Threshold : 0.30\tFBeta : 0.437784\n",
      "Threshold : 0.35\tFBeta : 0.432105\n",
      "Threshold : 0.40\tFBeta : 0.425886\n",
      "Threshold : 0.45\tFBeta : 0.418010\n",
      "Threshold : 0.50\tFBeta : 0.407107\n",
      "Threshold : 0.55\tFBeta : 0.396379\n",
      "Threshold : 0.60\tFBeta : 0.384893\n",
      "Threshold : 0.65\tFBeta : 0.371855\n",
      "\n"
     ]
    },
    {
     "name": "stderr",
     "output_type": "stream",
     "text": [
      "Epoch 23/50  Mem : 8.63GB  LR : 6.55E-05  Loss: 0.2847: 100%|██████████| 85/85 [01:39<00:00,  1.17s/it]\n",
      "Val Loss: 0.5217: 100%|██████████| 56/56 [01:07<00:00,  1.21s/it]\n"
     ]
    },
    {
     "name": "stdout",
     "output_type": "stream",
     "text": [
      "Threshold : 0.20\tFBeta : 0.505730\n",
      "Threshold : 0.25\tFBeta : 0.500068\n",
      "Threshold : 0.30\tFBeta : 0.495700\n",
      "Threshold : 0.35\tFBeta : 0.491956\n",
      "Threshold : 0.40\tFBeta : 0.488311\n",
      "Threshold : 0.45\tFBeta : 0.484151\n",
      "Threshold : 0.50\tFBeta : 0.479940\n",
      "Threshold : 0.55\tFBeta : 0.475202\n",
      "Threshold : 0.60\tFBeta : 0.469323\n",
      "Threshold : 0.65\tFBeta : 0.460843\n",
      "\n"
     ]
    },
    {
     "name": "stderr",
     "output_type": "stream",
     "text": [
      "Epoch 24/50  Mem : 8.63GB  LR : 6.21E-05  Loss: 0.2679: 100%|██████████| 85/85 [01:38<00:00,  1.16s/it]\n",
      "Val Loss: 0.5002: 100%|██████████| 56/56 [01:07<00:00,  1.20s/it]\n"
     ]
    },
    {
     "name": "stdout",
     "output_type": "stream",
     "text": [
      "Threshold : 0.20\tFBeta : 0.461738\n",
      "Threshold : 0.25\tFBeta : 0.466130\n",
      "Threshold : 0.30\tFBeta : 0.469229\n",
      "Threshold : 0.35\tFBeta : 0.471470\n",
      "Threshold : 0.40\tFBeta : 0.473549\n",
      "Threshold : 0.45\tFBeta : 0.475241\n",
      "Threshold : 0.50\tFBeta : 0.475153\n",
      "Threshold : 0.55\tFBeta : 0.473955\n",
      "Threshold : 0.60\tFBeta : 0.472890\n",
      "Threshold : 0.65\tFBeta : 0.470844\n",
      "\n"
     ]
    },
    {
     "name": "stderr",
     "output_type": "stream",
     "text": [
      "Epoch 25/50  Mem : 8.63GB  LR : 5.87E-05  Loss: 0.2592: 100%|██████████| 85/85 [01:38<00:00,  1.16s/it]\n",
      "Val Loss: 0.4616: 100%|██████████| 56/56 [01:07<00:00,  1.21s/it]\n"
     ]
    },
    {
     "name": "stdout",
     "output_type": "stream",
     "text": [
      "Threshold : 0.20\tFBeta : 0.494454\n",
      "Threshold : 0.25\tFBeta : 0.500588\n",
      "Threshold : 0.30\tFBeta : 0.504799\n",
      "Threshold : 0.35\tFBeta : 0.508236\n",
      "Threshold : 0.40\tFBeta : 0.511001\n",
      "Threshold : 0.45\tFBeta : 0.513773\n",
      "Threshold : 0.50\tFBeta : 0.516684\n",
      "Threshold : 0.55\tFBeta : 0.518792\n",
      "Threshold : 0.60\tFBeta : 0.520554\n",
      "Threshold : 0.65\tFBeta : 0.521721\n",
      "\n"
     ]
    },
    {
     "name": "stderr",
     "output_type": "stream",
     "text": [
      "Epoch 26/50  Mem : 8.63GB  LR : 5.52E-05  Loss: 0.2468: 100%|██████████| 85/85 [01:38<00:00,  1.16s/it]\n",
      "Val Loss: 0.5581: 100%|██████████| 56/56 [01:08<00:00,  1.22s/it]\n"
     ]
    },
    {
     "name": "stdout",
     "output_type": "stream",
     "text": [
      "Threshold : 0.20\tFBeta : 0.343010\n",
      "Threshold : 0.25\tFBeta : 0.348852\n",
      "Threshold : 0.30\tFBeta : 0.353973\n",
      "Threshold : 0.35\tFBeta : 0.358951\n",
      "Threshold : 0.40\tFBeta : 0.363860\n",
      "Threshold : 0.45\tFBeta : 0.369400\n",
      "Threshold : 0.50\tFBeta : 0.375738\n",
      "Threshold : 0.55\tFBeta : 0.382615\n",
      "Threshold : 0.60\tFBeta : 0.389798\n",
      "Threshold : 0.65\tFBeta : 0.397739\n",
      "\n"
     ]
    },
    {
     "name": "stderr",
     "output_type": "stream",
     "text": [
      "Epoch 27/50  Mem : 8.63GB  LR : 5.17E-05  Loss: 0.2412: 100%|██████████| 85/85 [01:39<00:00,  1.17s/it]\n",
      "Val Loss: 0.5038: 100%|██████████| 56/56 [01:07<00:00,  1.21s/it]\n"
     ]
    },
    {
     "name": "stdout",
     "output_type": "stream",
     "text": [
      "Threshold : 0.20\tFBeta : 0.516319\n",
      "Threshold : 0.25\tFBeta : 0.516818\n",
      "Threshold : 0.30\tFBeta : 0.516812\n",
      "Threshold : 0.35\tFBeta : 0.516786\n",
      "Threshold : 0.40\tFBeta : 0.516494\n",
      "Threshold : 0.45\tFBeta : 0.516091\n",
      "Threshold : 0.50\tFBeta : 0.515128\n",
      "Threshold : 0.55\tFBeta : 0.513537\n",
      "Threshold : 0.60\tFBeta : 0.510595\n",
      "Threshold : 0.65\tFBeta : 0.506703\n",
      "\n"
     ]
    },
    {
     "name": "stderr",
     "output_type": "stream",
     "text": [
      "Epoch 28/50  Mem : 8.63GB  LR : 4.83E-05  Loss: 0.2325: 100%|██████████| 85/85 [01:39<00:00,  1.17s/it]\n",
      "Val Loss: 0.4778: 100%|██████████| 56/56 [01:07<00:00,  1.21s/it]\n"
     ]
    },
    {
     "name": "stdout",
     "output_type": "stream",
     "text": [
      "Threshold : 0.20\tFBeta : 0.470394\n",
      "Threshold : 0.25\tFBeta : 0.475920\n",
      "Threshold : 0.30\tFBeta : 0.479737\n",
      "Threshold : 0.35\tFBeta : 0.483061\n",
      "Threshold : 0.40\tFBeta : 0.485972\n",
      "Threshold : 0.45\tFBeta : 0.488432\n",
      "Threshold : 0.50\tFBeta : 0.490708\n",
      "Threshold : 0.55\tFBeta : 0.492987\n",
      "Threshold : 0.60\tFBeta : 0.495399\n",
      "Threshold : 0.65\tFBeta : 0.498389\n",
      "\n"
     ]
    },
    {
     "name": "stderr",
     "output_type": "stream",
     "text": [
      "Epoch 29/50  Mem : 8.63GB  LR : 4.48E-05  Loss: 0.2275: 100%|██████████| 85/85 [01:39<00:00,  1.17s/it]\n",
      "Val Loss: 0.5068: 100%|██████████| 56/56 [01:07<00:00,  1.21s/it]\n"
     ]
    },
    {
     "name": "stdout",
     "output_type": "stream",
     "text": [
      "Threshold : 0.20\tFBeta : 0.524987\n",
      "Threshold : 0.25\tFBeta : 0.525440\n",
      "Threshold : 0.30\tFBeta : 0.524610\n",
      "Threshold : 0.35\tFBeta : 0.523687\n",
      "Threshold : 0.40\tFBeta : 0.522298\n",
      "Threshold : 0.45\tFBeta : 0.520914\n",
      "Threshold : 0.50\tFBeta : 0.519167\n",
      "Threshold : 0.55\tFBeta : 0.516920\n",
      "Threshold : 0.60\tFBeta : 0.514460\n",
      "Threshold : 0.65\tFBeta : 0.510900\n",
      "\n"
     ]
    },
    {
     "name": "stderr",
     "output_type": "stream",
     "text": [
      "Epoch 30/50  Mem : 8.63GB  LR : 4.13E-05  Loss: 0.2177: 100%|██████████| 85/85 [01:38<00:00,  1.16s/it]\n",
      "Val Loss: 0.5576: 100%|██████████| 56/56 [01:07<00:00,  1.21s/it]\n"
     ]
    },
    {
     "name": "stdout",
     "output_type": "stream",
     "text": [
      "Threshold : 0.20\tFBeta : 0.479958\n",
      "Threshold : 0.25\tFBeta : 0.471956\n",
      "Threshold : 0.30\tFBeta : 0.464649\n",
      "Threshold : 0.35\tFBeta : 0.458092\n",
      "Threshold : 0.40\tFBeta : 0.451519\n",
      "Threshold : 0.45\tFBeta : 0.444660\n",
      "Threshold : 0.50\tFBeta : 0.437762\n",
      "Threshold : 0.55\tFBeta : 0.429909\n",
      "Threshold : 0.60\tFBeta : 0.420762\n",
      "Threshold : 0.65\tFBeta : 0.410021\n"
     ]
    }
   ],
   "source": [
    "for epoch in range(1, EPOCHS+1):\n",
    "    model.train()\n",
    "    cur_lr = f\"LR : {scheduler.get_last_lr()[0]:.2E}\"\n",
    "    pbar_train = enumerate(dataloader_train)\n",
    "    pbar_train = tqdm(pbar_train, total=n_train, bar_format=\"{l_bar}{bar:10}{r_bar}{bar:-10b}\")\n",
    "    mloss_train, mloss_val, val_metric = 0.0, 0.0, 0.0\n",
    "\n",
    "    for i, (fragments, masks) in pbar_train:\n",
    "        fragments, masks = fragments.cuda(), masks.cuda()\n",
    "        optimizer.zero_grad()\n",
    "        with amp.autocast():\n",
    "            pred_masks = model(fragments)\n",
    "            loss = criterion(pred_masks, masks)\n",
    "            scaler.scale(loss).backward()\n",
    "            scaler.step(optimizer)\n",
    "            scaler.update()\n",
    "            mloss_train += loss.detach().item()\n",
    "\n",
    "        gpu_mem = f\"Mem : {torch.cuda.memory_reserved() / 1E9:.3g}GB\"\n",
    "        pbar_train.set_description((\"%10s  \" * 3 + \"%10s\") % (f\"Epoch {epoch}/{EPOCHS}\", gpu_mem, cur_lr,\n",
    "                                                              f\"Loss: {mloss_train / (i + 1):.4f}\"))\n",
    "        \n",
    "    scheduler.step()\n",
    "    model.eval()\n",
    "    pbar_val = enumerate(dataloader_valid)\n",
    "    pbar_val = tqdm(pbar_val, total=n_valid, bar_format=\"{l_bar}{bar:10}{r_bar}{bar:-10b}\")\n",
    "    final_pred_mask = torch.zeros(gt_shape, dtype=torch.float32, device='cuda')\n",
    "    \n",
    "    for i, (fragments, masks, xys) in pbar_val:\n",
    "        fragments, masks = fragments.cuda(), masks.cuda()\n",
    "        with torch.no_grad():\n",
    "            pred_masks = model(fragments)\n",
    "            mloss_val += criterion(pred_masks, masks).item()\n",
    "            pred_masks = torch.sigmoid(pred_masks)\n",
    "        \n",
    "        for j, xy in enumerate(xys):\n",
    "            final_pred_mask[xy[1]:xy[3], xy[0]:xy[2]] = pred_masks[j, 0]\n",
    "\n",
    "        pbar_val.set_description((\"%10s\") % (f\"Val Loss: {mloss_val / (i+1):.4f}\"))\n",
    "    \n",
    "    for threshold in np.arange(0.2, 0.7, 0.05):\n",
    "        fbeta = fbeta_score(final_pred_mask, gt_mask, threshold)\n",
    "        print(f\"Threshold : {threshold:.2f}\\tFBeta : {fbeta:.6f}\")\n",
    "    \n",
    "    if epoch >= 10:\n",
    "        torch.save(model.module.state_dict(), f\"./ckpts/resnet34_3d_seg_epoch_{epoch}.pt\")\n",
    "\n",
    "    if epoch == 30:\n",
    "        break\n",
    "\n",
    "    print()"
   ]
  },
  {
   "cell_type": "code",
   "execution_count": null,
   "id": "d7e9b576",
   "metadata": {
    "papermill": {
     "duration": 0.689456,
     "end_time": "2023-05-24T09:39:10.733901",
     "exception": false,
     "start_time": "2023-05-24T09:39:10.044445",
     "status": "completed"
    },
    "tags": []
   },
   "outputs": [],
   "source": []
  }
 ],
 "metadata": {
  "kernelspec": {
   "display_name": "Python 3",
   "language": "python",
   "name": "python3"
  },
  "language_info": {
   "codemirror_mode": {
    "name": "ipython",
    "version": 3
   },
   "file_extension": ".py",
   "mimetype": "text/x-python",
   "name": "python",
   "nbconvert_exporter": "python",
   "pygments_lexer": "ipython3",
   "version": "3.7.12"
  },
  "papermill": {
   "default_parameters": {},
   "duration": 5132.329747,
   "end_time": "2023-05-24T09:39:14.662733",
   "environment_variables": {},
   "exception": null,
   "input_path": "__notebook__.ipynb",
   "output_path": "__notebook__.ipynb",
   "parameters": {},
   "start_time": "2023-05-24T08:13:42.332986",
   "version": "2.4.0"
  }
 },
 "nbformat": 4,
 "nbformat_minor": 5
}
